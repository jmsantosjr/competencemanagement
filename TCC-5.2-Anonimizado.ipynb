{
 "cells": [
  {
   "cell_type": "markdown",
   "metadata": {},
   "source": [
    "# Sistema de gestão por competências desenvolvido com o processo de people analytics\n",
    "\n",
    "***Trabalho de Conclusão de Curso***\n",
    "\n",
    "por **José Maria Ewerton dos Santos Junior** (Aluno) / **Alexandre Delbem** (Orientador - ICMC/USP - São Carlos SP)\n",
    "\n",
    "**MBA em Ciências de Dados**"
   ]
  },
  {
   "cell_type": "markdown",
   "metadata": {},
   "source": [
    "## Realizando a carga dos datasets"
   ]
  },
  {
   "cell_type": "markdown",
   "metadata": {},
   "source": [
    "Carregando as bibliotecas:"
   ]
  },
  {
   "cell_type": "code",
   "execution_count": 1,
   "metadata": {},
   "outputs": [],
   "source": [
    "import pandas as pd\n",
    "import numpy as np\n",
    "import datetime\n",
    "import time\n",
    "import matplotlib.pyplot as plt\n",
    "from tabulate import tabulate\n",
    "datestamp = datetime.datetime.now().strftime(\"%Y%m%d\")\n",
    "start_time = time.time() # Inicializa um contador para medir o tempo de execução do pipeline"
   ]
  },
  {
   "cell_type": "markdown",
   "metadata": {},
   "source": [
    "Carregando o arquivo de **Testers** (formato Excel). Colunas esperadas (ID, Nome, Senioridade, Projeto):"
   ]
  },
  {
   "cell_type": "code",
   "execution_count": 2,
   "metadata": {
    "scrolled": true
   },
   "outputs": [
    {
     "data": {
      "text/html": [
       "<div>\n",
       "<style scoped>\n",
       "    .dataframe tbody tr th:only-of-type {\n",
       "        vertical-align: middle;\n",
       "    }\n",
       "\n",
       "    .dataframe tbody tr th {\n",
       "        vertical-align: top;\n",
       "    }\n",
       "\n",
       "    .dataframe thead th {\n",
       "        text-align: right;\n",
       "    }\n",
       "</style>\n",
       "<table border=\"1\" class=\"dataframe\">\n",
       "  <thead>\n",
       "    <tr style=\"text-align: right;\">\n",
       "      <th></th>\n",
       "      <th>ID</th>\n",
       "      <th>Nome</th>\n",
       "      <th>Senioridade</th>\n",
       "      <th>Projeto</th>\n",
       "    </tr>\n",
       "  </thead>\n",
       "  <tbody>\n",
       "    <tr>\n",
       "      <th>0</th>\n",
       "      <td>id_func1</td>\n",
       "      <td>nome_func1</td>\n",
       "      <td>SR</td>\n",
       "      <td>Proj7</td>\n",
       "    </tr>\n",
       "    <tr>\n",
       "      <th>1</th>\n",
       "      <td>id_func2</td>\n",
       "      <td>nome_func2</td>\n",
       "      <td>SR</td>\n",
       "      <td>Proj6</td>\n",
       "    </tr>\n",
       "    <tr>\n",
       "      <th>2</th>\n",
       "      <td>id_func3</td>\n",
       "      <td>nome_func3</td>\n",
       "      <td>JR</td>\n",
       "      <td>Proj1</td>\n",
       "    </tr>\n",
       "    <tr>\n",
       "      <th>3</th>\n",
       "      <td>id_func4</td>\n",
       "      <td>nome_func4</td>\n",
       "      <td>JR</td>\n",
       "      <td>Proj2</td>\n",
       "    </tr>\n",
       "    <tr>\n",
       "      <th>4</th>\n",
       "      <td>id_func5</td>\n",
       "      <td>nome_func5</td>\n",
       "      <td>JR</td>\n",
       "      <td>Proj7</td>\n",
       "    </tr>\n",
       "  </tbody>\n",
       "</table>\n",
       "</div>"
      ],
      "text/plain": [
       "         ID        Nome Senioridade Projeto\n",
       "0  id_func1  nome_func1          SR   Proj7\n",
       "1  id_func2  nome_func2          SR   Proj6\n",
       "2  id_func3  nome_func3          JR   Proj1\n",
       "3  id_func4  nome_func4          JR   Proj2\n",
       "4  id_func5  nome_func5          JR   Proj7"
      ]
     },
     "execution_count": 2,
     "metadata": {},
     "output_type": "execute_result"
    }
   ],
   "source": [
    "pkgdir = r'C:\\Users\\jmsan\\Google Drive\\MBA USP\\Artigos para TCC\\Python\\Data'\n",
    "Testers = pd.read_excel(f'{pkgdir}\\Testers-Anonimizado.xlsx')\n",
    "Testers.head()"
   ]
  },
  {
   "cell_type": "code",
   "execution_count": 3,
   "metadata": {},
   "outputs": [],
   "source": [
    "# Função que encontra a senioridade para um determinado ID\n",
    "def FindSeniority (ID):\n",
    "    seniority = Testers.loc[Testers['ID']==ID,'Senioridade']\n",
    "    if len(seniority) == 0:\n",
    "        return ''\n",
    "    else:\n",
    "        return seniority.values[0]"
   ]
  },
  {
   "cell_type": "code",
   "execution_count": 4,
   "metadata": {},
   "outputs": [],
   "source": [
    "# Função que encontra o projeto para um determinado ID\n",
    "def FindProject (ID):\n",
    "    project = Testers.loc[Testers['ID']==ID,'Projeto']\n",
    "    if len(project) == 0:\n",
    "        return ''\n",
    "    else:\n",
    "        return project.values[0]"
   ]
  },
  {
   "cell_type": "markdown",
   "metadata": {},
   "source": [
    "Carregando o arquivo de **Foto de Skills** (formato Excel). Colunas esperadas (Tipo, Area, Skill, UniqueSkill, IDs...)"
   ]
  },
  {
   "cell_type": "markdown",
   "metadata": {},
   "source": [
    "                Autoavaliação/Oferta:\n",
    "                [1, 2]: Leigo. Nenhum ou pouco conhecimento no assunto.  \n",
    "                ]2, 3]: Novato. Desenvolvendo a competência. Realiza com necessidade de suporte ocasional.  \n",
    "                ]3, 4]: Praticante. Conhecimento consolidado. Realiza atividades de forma independente.  \n",
    "                ]4, 5]: Expert. Referência no assunto. Pode ensinar e ministrar treinamentos.  "
   ]
  },
  {
   "cell_type": "code",
   "execution_count": 5,
   "metadata": {},
   "outputs": [],
   "source": [
    "FotoSkills = pd.read_excel(f'{pkgdir}\\FotoSkills-Anonimizado.xlsx')"
   ]
  },
  {
   "cell_type": "code",
   "execution_count": 6,
   "metadata": {},
   "outputs": [],
   "source": [
    "# Cria uma coluna de UniqueSkill, concatenando o Tipo, Área e Skill\n",
    "FotoSkills['UniqueSkill']=FotoSkills['Tipo']+\"|\"+FotoSkills['Area']+\"|\"+FotoSkills['Skill']"
   ]
  },
  {
   "cell_type": "code",
   "execution_count": 7,
   "metadata": {},
   "outputs": [
    {
     "data": {
      "text/html": [
       "<div>\n",
       "<style scoped>\n",
       "    .dataframe tbody tr th:only-of-type {\n",
       "        vertical-align: middle;\n",
       "    }\n",
       "\n",
       "    .dataframe tbody tr th {\n",
       "        vertical-align: top;\n",
       "    }\n",
       "\n",
       "    .dataframe thead th {\n",
       "        text-align: right;\n",
       "    }\n",
       "</style>\n",
       "<table border=\"1\" class=\"dataframe\">\n",
       "  <thead>\n",
       "    <tr style=\"text-align: right;\">\n",
       "      <th></th>\n",
       "      <th>Tipo</th>\n",
       "      <th>Area</th>\n",
       "      <th>Skill</th>\n",
       "      <th>id_func1</th>\n",
       "      <th>id_func2</th>\n",
       "      <th>id_func3</th>\n",
       "      <th>id_func4</th>\n",
       "      <th>id_func5</th>\n",
       "      <th>id_func6</th>\n",
       "      <th>id_func7</th>\n",
       "      <th>...</th>\n",
       "      <th>id_func50</th>\n",
       "      <th>id_func51</th>\n",
       "      <th>id_func52</th>\n",
       "      <th>id_func53</th>\n",
       "      <th>id_func54</th>\n",
       "      <th>id_func55</th>\n",
       "      <th>id_func56</th>\n",
       "      <th>id_func57</th>\n",
       "      <th>id_func58</th>\n",
       "      <th>UniqueSkill</th>\n",
       "    </tr>\n",
       "  </thead>\n",
       "  <tbody>\n",
       "    <tr>\n",
       "      <th>0</th>\n",
       "      <td>Competências Técnicas</td>\n",
       "      <td>Gestão de Projetos</td>\n",
       "      <td>Gestão da Qualidade</td>\n",
       "      <td>3.5</td>\n",
       "      <td>3.5</td>\n",
       "      <td>1.0</td>\n",
       "      <td>1.0</td>\n",
       "      <td>2.0</td>\n",
       "      <td>2.0</td>\n",
       "      <td>2.0</td>\n",
       "      <td>...</td>\n",
       "      <td>1.0</td>\n",
       "      <td>1.0</td>\n",
       "      <td>3.0</td>\n",
       "      <td>4.2</td>\n",
       "      <td>2.0</td>\n",
       "      <td>3.0</td>\n",
       "      <td>1.0</td>\n",
       "      <td>4.0</td>\n",
       "      <td>1.0</td>\n",
       "      <td>Competências Técnicas|Gestão de Projetos|Gestã...</td>\n",
       "    </tr>\n",
       "    <tr>\n",
       "      <th>1</th>\n",
       "      <td>Competências Técnicas</td>\n",
       "      <td>Gestão de Projetos</td>\n",
       "      <td>Gestão de Cronograma</td>\n",
       "      <td>2.5</td>\n",
       "      <td>4.0</td>\n",
       "      <td>1.0</td>\n",
       "      <td>1.0</td>\n",
       "      <td>2.0</td>\n",
       "      <td>2.0</td>\n",
       "      <td>3.0</td>\n",
       "      <td>...</td>\n",
       "      <td>1.0</td>\n",
       "      <td>2.5</td>\n",
       "      <td>2.0</td>\n",
       "      <td>4.0</td>\n",
       "      <td>2.0</td>\n",
       "      <td>3.0</td>\n",
       "      <td>1.0</td>\n",
       "      <td>3.7</td>\n",
       "      <td>2.0</td>\n",
       "      <td>Competências Técnicas|Gestão de Projetos|Gestã...</td>\n",
       "    </tr>\n",
       "    <tr>\n",
       "      <th>2</th>\n",
       "      <td>Competências Técnicas</td>\n",
       "      <td>Gestão de Projetos</td>\n",
       "      <td>Gestão de Custos</td>\n",
       "      <td>1.5</td>\n",
       "      <td>2.5</td>\n",
       "      <td>1.0</td>\n",
       "      <td>1.0</td>\n",
       "      <td>2.1</td>\n",
       "      <td>2.0</td>\n",
       "      <td>1.0</td>\n",
       "      <td>...</td>\n",
       "      <td>1.0</td>\n",
       "      <td>1.0</td>\n",
       "      <td>4.0</td>\n",
       "      <td>3.5</td>\n",
       "      <td>2.0</td>\n",
       "      <td>1.0</td>\n",
       "      <td>1.0</td>\n",
       "      <td>3.5</td>\n",
       "      <td>1.0</td>\n",
       "      <td>Competências Técnicas|Gestão de Projetos|Gestã...</td>\n",
       "    </tr>\n",
       "    <tr>\n",
       "      <th>3</th>\n",
       "      <td>Competências Técnicas</td>\n",
       "      <td>Gestão de Projetos</td>\n",
       "      <td>Gestão de Escopo</td>\n",
       "      <td>3.0</td>\n",
       "      <td>4.0</td>\n",
       "      <td>1.0</td>\n",
       "      <td>1.0</td>\n",
       "      <td>3.1</td>\n",
       "      <td>2.0</td>\n",
       "      <td>2.0</td>\n",
       "      <td>...</td>\n",
       "      <td>1.0</td>\n",
       "      <td>3.0</td>\n",
       "      <td>3.0</td>\n",
       "      <td>3.1</td>\n",
       "      <td>2.0</td>\n",
       "      <td>2.0</td>\n",
       "      <td>1.0</td>\n",
       "      <td>4.0</td>\n",
       "      <td>1.0</td>\n",
       "      <td>Competências Técnicas|Gestão de Projetos|Gestã...</td>\n",
       "    </tr>\n",
       "    <tr>\n",
       "      <th>4</th>\n",
       "      <td>Competências Técnicas</td>\n",
       "      <td>Gestão de Projetos</td>\n",
       "      <td>Gestão de Métricas e indicadores</td>\n",
       "      <td>2.5</td>\n",
       "      <td>4.0</td>\n",
       "      <td>1.2</td>\n",
       "      <td>1.5</td>\n",
       "      <td>2.1</td>\n",
       "      <td>2.0</td>\n",
       "      <td>2.5</td>\n",
       "      <td>...</td>\n",
       "      <td>1.0</td>\n",
       "      <td>2.0</td>\n",
       "      <td>3.0</td>\n",
       "      <td>4.5</td>\n",
       "      <td>2.0</td>\n",
       "      <td>1.0</td>\n",
       "      <td>1.0</td>\n",
       "      <td>3.8</td>\n",
       "      <td>1.0</td>\n",
       "      <td>Competências Técnicas|Gestão de Projetos|Gestã...</td>\n",
       "    </tr>\n",
       "  </tbody>\n",
       "</table>\n",
       "<p>5 rows × 62 columns</p>\n",
       "</div>"
      ],
      "text/plain": [
       "                    Tipo                Area  \\\n",
       "0  Competências Técnicas  Gestão de Projetos   \n",
       "1  Competências Técnicas  Gestão de Projetos   \n",
       "2  Competências Técnicas  Gestão de Projetos   \n",
       "3  Competências Técnicas  Gestão de Projetos   \n",
       "4  Competências Técnicas  Gestão de Projetos   \n",
       "\n",
       "                              Skill  id_func1  id_func2  id_func3  id_func4  \\\n",
       "0               Gestão da Qualidade       3.5       3.5       1.0       1.0   \n",
       "1              Gestão de Cronograma       2.5       4.0       1.0       1.0   \n",
       "2                  Gestão de Custos       1.5       2.5       1.0       1.0   \n",
       "3                  Gestão de Escopo       3.0       4.0       1.0       1.0   \n",
       "4  Gestão de Métricas e indicadores       2.5       4.0       1.2       1.5   \n",
       "\n",
       "   id_func5  id_func6  id_func7  ...  id_func50  id_func51  id_func52  \\\n",
       "0       2.0       2.0       2.0  ...        1.0        1.0        3.0   \n",
       "1       2.0       2.0       3.0  ...        1.0        2.5        2.0   \n",
       "2       2.1       2.0       1.0  ...        1.0        1.0        4.0   \n",
       "3       3.1       2.0       2.0  ...        1.0        3.0        3.0   \n",
       "4       2.1       2.0       2.5  ...        1.0        2.0        3.0   \n",
       "\n",
       "   id_func53  id_func54  id_func55  id_func56  id_func57  id_func58  \\\n",
       "0        4.2        2.0        3.0        1.0        4.0        1.0   \n",
       "1        4.0        2.0        3.0        1.0        3.7        2.0   \n",
       "2        3.5        2.0        1.0        1.0        3.5        1.0   \n",
       "3        3.1        2.0        2.0        1.0        4.0        1.0   \n",
       "4        4.5        2.0        1.0        1.0        3.8        1.0   \n",
       "\n",
       "                                         UniqueSkill  \n",
       "0  Competências Técnicas|Gestão de Projetos|Gestã...  \n",
       "1  Competências Técnicas|Gestão de Projetos|Gestã...  \n",
       "2  Competências Técnicas|Gestão de Projetos|Gestã...  \n",
       "3  Competências Técnicas|Gestão de Projetos|Gestã...  \n",
       "4  Competências Técnicas|Gestão de Projetos|Gestã...  \n",
       "\n",
       "[5 rows x 62 columns]"
      ]
     },
     "execution_count": 7,
     "metadata": {},
     "output_type": "execute_result"
    }
   ],
   "source": [
    "FotoSkills.head()"
   ]
  },
  {
   "cell_type": "markdown",
   "metadata": {},
   "source": [
    "Carregando o arquivo de **Demanda de Skill de Coordenadores** (formato Excel). Colunas esperadas (Tipo, Area, Skill, UniqueSkill, Projetos...)"
   ]
  },
  {
   "cell_type": "markdown",
   "metadata": {},
   "source": [
    "                  Demanda:  \n",
    "                  Leigo: Nenhum ou pouco conhecimento no assunto.\n",
    "                  Novato: Desenvolvendo a competência. Realiza com necessidade de suporte ocasional.  \n",
    "                  Praticante: Conhecimento consolidado. Realiza atividades de forma independente.  \n",
    "                  Expert: Referência no assunto. Pode ensinar e ministrar treinamentos.  \n",
    "                  Grupo: Conhecimento de grupo. Não requerido no projeto, mas bom alguém saber.  "
   ]
  },
  {
   "cell_type": "code",
   "execution_count": 8,
   "metadata": {},
   "outputs": [],
   "source": [
    "DemandaSkillCoord = pd.read_excel(f'{pkgdir}\\Demanda-Coordenadores-Anonimizado.xlsx')"
   ]
  },
  {
   "cell_type": "code",
   "execution_count": 9,
   "metadata": {},
   "outputs": [],
   "source": [
    "# Cria uma coluna de UniqueSkill, concatenando o Tipo, Área e Skill\n",
    "DemandaSkillCoord['UniqueSkill']=DemandaSkillCoord['Tipo']+\"|\"+DemandaSkillCoord['Area']+\"|\"+DemandaSkillCoord['Skill']"
   ]
  },
  {
   "cell_type": "code",
   "execution_count": 10,
   "metadata": {
    "scrolled": false
   },
   "outputs": [
    {
     "data": {
      "text/html": [
       "<div>\n",
       "<style scoped>\n",
       "    .dataframe tbody tr th:only-of-type {\n",
       "        vertical-align: middle;\n",
       "    }\n",
       "\n",
       "    .dataframe tbody tr th {\n",
       "        vertical-align: top;\n",
       "    }\n",
       "\n",
       "    .dataframe thead th {\n",
       "        text-align: right;\n",
       "    }\n",
       "</style>\n",
       "<table border=\"1\" class=\"dataframe\">\n",
       "  <thead>\n",
       "    <tr style=\"text-align: right;\">\n",
       "      <th></th>\n",
       "      <th>Tipo</th>\n",
       "      <th>Area</th>\n",
       "      <th>Skill</th>\n",
       "      <th>Proj1</th>\n",
       "      <th>Proj6</th>\n",
       "      <th>Proj2</th>\n",
       "      <th>Proj3</th>\n",
       "      <th>Proj4</th>\n",
       "      <th>Proj5</th>\n",
       "      <th>Proj7</th>\n",
       "      <th>UniqueSkill</th>\n",
       "    </tr>\n",
       "  </thead>\n",
       "  <tbody>\n",
       "    <tr>\n",
       "      <th>0</th>\n",
       "      <td>Competências Técnicas</td>\n",
       "      <td>Gestão de Projetos</td>\n",
       "      <td>Gestão de Cronograma</td>\n",
       "      <td>Praticante</td>\n",
       "      <td>Praticante</td>\n",
       "      <td>Praticante</td>\n",
       "      <td>Praticante</td>\n",
       "      <td>Praticante</td>\n",
       "      <td>Praticante</td>\n",
       "      <td>Praticante</td>\n",
       "      <td>Competências Técnicas|Gestão de Projetos|Gestã...</td>\n",
       "    </tr>\n",
       "    <tr>\n",
       "      <th>1</th>\n",
       "      <td>Competências Técnicas</td>\n",
       "      <td>Gestão de Projetos</td>\n",
       "      <td>Gestão de Riscos</td>\n",
       "      <td>Praticante</td>\n",
       "      <td>Praticante</td>\n",
       "      <td>Praticante</td>\n",
       "      <td>Praticante</td>\n",
       "      <td>Praticante</td>\n",
       "      <td>Praticante</td>\n",
       "      <td>Praticante</td>\n",
       "      <td>Competências Técnicas|Gestão de Projetos|Gestã...</td>\n",
       "    </tr>\n",
       "    <tr>\n",
       "      <th>2</th>\n",
       "      <td>Competências Técnicas</td>\n",
       "      <td>Gestão de Projetos</td>\n",
       "      <td>Gestão de Stakeholders</td>\n",
       "      <td>Praticante</td>\n",
       "      <td>Praticante</td>\n",
       "      <td>Praticante</td>\n",
       "      <td>Praticante</td>\n",
       "      <td>Praticante</td>\n",
       "      <td>Praticante</td>\n",
       "      <td>Praticante</td>\n",
       "      <td>Competências Técnicas|Gestão de Projetos|Gestã...</td>\n",
       "    </tr>\n",
       "    <tr>\n",
       "      <th>3</th>\n",
       "      <td>Competências Técnicas</td>\n",
       "      <td>Gestão de Projetos</td>\n",
       "      <td>Gestão de Pessoas</td>\n",
       "      <td>Praticante</td>\n",
       "      <td>Praticante</td>\n",
       "      <td>Praticante</td>\n",
       "      <td>Praticante</td>\n",
       "      <td>Praticante</td>\n",
       "      <td>Praticante</td>\n",
       "      <td>Praticante</td>\n",
       "      <td>Competências Técnicas|Gestão de Projetos|Gestã...</td>\n",
       "    </tr>\n",
       "    <tr>\n",
       "      <th>4</th>\n",
       "      <td>Competências Técnicas</td>\n",
       "      <td>Gestão de Projetos</td>\n",
       "      <td>Gestão de Métricas e indicadores</td>\n",
       "      <td>Praticante</td>\n",
       "      <td>Praticante</td>\n",
       "      <td>Praticante</td>\n",
       "      <td>Praticante</td>\n",
       "      <td>Praticante</td>\n",
       "      <td>Praticante</td>\n",
       "      <td>Praticante</td>\n",
       "      <td>Competências Técnicas|Gestão de Projetos|Gestã...</td>\n",
       "    </tr>\n",
       "  </tbody>\n",
       "</table>\n",
       "</div>"
      ],
      "text/plain": [
       "                    Tipo                Area  \\\n",
       "0  Competências Técnicas  Gestão de Projetos   \n",
       "1  Competências Técnicas  Gestão de Projetos   \n",
       "2  Competências Técnicas  Gestão de Projetos   \n",
       "3  Competências Técnicas  Gestão de Projetos   \n",
       "4  Competências Técnicas  Gestão de Projetos   \n",
       "\n",
       "                              Skill       Proj1       Proj6       Proj2  \\\n",
       "0              Gestão de Cronograma  Praticante  Praticante  Praticante   \n",
       "1                  Gestão de Riscos  Praticante  Praticante  Praticante   \n",
       "2            Gestão de Stakeholders  Praticante  Praticante  Praticante   \n",
       "3                 Gestão de Pessoas  Praticante  Praticante  Praticante   \n",
       "4  Gestão de Métricas e indicadores  Praticante  Praticante  Praticante   \n",
       "\n",
       "        Proj3       Proj4       Proj5       Proj7  \\\n",
       "0  Praticante  Praticante  Praticante  Praticante   \n",
       "1  Praticante  Praticante  Praticante  Praticante   \n",
       "2  Praticante  Praticante  Praticante  Praticante   \n",
       "3  Praticante  Praticante  Praticante  Praticante   \n",
       "4  Praticante  Praticante  Praticante  Praticante   \n",
       "\n",
       "                                         UniqueSkill  \n",
       "0  Competências Técnicas|Gestão de Projetos|Gestã...  \n",
       "1  Competências Técnicas|Gestão de Projetos|Gestã...  \n",
       "2  Competências Técnicas|Gestão de Projetos|Gestã...  \n",
       "3  Competências Técnicas|Gestão de Projetos|Gestã...  \n",
       "4  Competências Técnicas|Gestão de Projetos|Gestã...  "
      ]
     },
     "execution_count": 10,
     "metadata": {},
     "output_type": "execute_result"
    }
   ],
   "source": [
    "DemandaSkillCoord.head()"
   ]
  },
  {
   "cell_type": "markdown",
   "metadata": {},
   "source": [
    "Carregando o arquivo de **Demanda de Skill de Testers** (formato Excel). Colunas esperadas (Projeto, Tipo, Area, Skill, UniqueSkill, JR, PL, SR, MS...)"
   ]
  },
  {
   "cell_type": "code",
   "execution_count": 11,
   "metadata": {},
   "outputs": [],
   "source": [
    "# Especifique os projetos que serão carregados:\n",
    "NomeProjetos = ['Proj1', 'Proj2','Proj3','Proj4','Proj5','Proj6','Proj7']"
   ]
  },
  {
   "cell_type": "code",
   "execution_count": 12,
   "metadata": {},
   "outputs": [],
   "source": [
    "# A partir dos nomes dos projetos, prepara os nomes dos arquivos\n",
    "all_files = ['Demanda-'+projeto+'.xlsx' for projeto in NomeProjetos]"
   ]
  },
  {
   "cell_type": "code",
   "execution_count": 13,
   "metadata": {},
   "outputs": [],
   "source": [
    "# Lê todos os arquivos e vai apendando em um dataframe\n",
    "DemandaSkillTesters = pd.concat((pd.read_excel(f'{pkgdir}\\{file}') for file in all_files))"
   ]
  },
  {
   "cell_type": "code",
   "execution_count": 14,
   "metadata": {},
   "outputs": [],
   "source": [
    "# Cria uma coluna de UniqueSkill, concatenando o Tipo, Área e Skill\n",
    "DemandaSkillTesters['UniqueSkill']=DemandaSkillTesters['Tipo']+\"|\"+DemandaSkillTesters['Area']+\"|\"+DemandaSkillTesters['Skill']"
   ]
  },
  {
   "cell_type": "code",
   "execution_count": 15,
   "metadata": {},
   "outputs": [
    {
     "data": {
      "text/html": [
       "<div>\n",
       "<style scoped>\n",
       "    .dataframe tbody tr th:only-of-type {\n",
       "        vertical-align: middle;\n",
       "    }\n",
       "\n",
       "    .dataframe tbody tr th {\n",
       "        vertical-align: top;\n",
       "    }\n",
       "\n",
       "    .dataframe thead th {\n",
       "        text-align: right;\n",
       "    }\n",
       "</style>\n",
       "<table border=\"1\" class=\"dataframe\">\n",
       "  <thead>\n",
       "    <tr style=\"text-align: right;\">\n",
       "      <th></th>\n",
       "      <th>Projeto</th>\n",
       "      <th>Tipo</th>\n",
       "      <th>Area</th>\n",
       "      <th>Skill</th>\n",
       "      <th>JR</th>\n",
       "      <th>PL</th>\n",
       "      <th>SR</th>\n",
       "      <th>MS</th>\n",
       "      <th>UniqueSkill</th>\n",
       "    </tr>\n",
       "  </thead>\n",
       "  <tbody>\n",
       "    <tr>\n",
       "      <th>0</th>\n",
       "      <td>Proj1</td>\n",
       "      <td>Competências Técnicas</td>\n",
       "      <td>Gestão de Projetos</td>\n",
       "      <td>Gestão de Cronograma</td>\n",
       "      <td>Novato</td>\n",
       "      <td>Praticante</td>\n",
       "      <td>Expert</td>\n",
       "      <td>Expert</td>\n",
       "      <td>Competências Técnicas|Gestão de Projetos|Gestã...</td>\n",
       "    </tr>\n",
       "    <tr>\n",
       "      <th>1</th>\n",
       "      <td>Proj1</td>\n",
       "      <td>Competências Técnicas</td>\n",
       "      <td>Gestão de Projetos</td>\n",
       "      <td>Gestão de Custos</td>\n",
       "      <td>Leigo</td>\n",
       "      <td>Leigo</td>\n",
       "      <td>Grupo</td>\n",
       "      <td>Grupo</td>\n",
       "      <td>Competências Técnicas|Gestão de Projetos|Gestã...</td>\n",
       "    </tr>\n",
       "    <tr>\n",
       "      <th>2</th>\n",
       "      <td>Proj1</td>\n",
       "      <td>Competências Técnicas</td>\n",
       "      <td>Gestão de Projetos</td>\n",
       "      <td>Gestão de Riscos</td>\n",
       "      <td>Novato</td>\n",
       "      <td>Praticante</td>\n",
       "      <td>Expert</td>\n",
       "      <td>Expert</td>\n",
       "      <td>Competências Técnicas|Gestão de Projetos|Gestã...</td>\n",
       "    </tr>\n",
       "    <tr>\n",
       "      <th>3</th>\n",
       "      <td>Proj1</td>\n",
       "      <td>Competências Técnicas</td>\n",
       "      <td>Gestão de Projetos</td>\n",
       "      <td>Gestão de Stakeholders</td>\n",
       "      <td>Leigo</td>\n",
       "      <td>Novato</td>\n",
       "      <td>Praticante</td>\n",
       "      <td>Expert</td>\n",
       "      <td>Competências Técnicas|Gestão de Projetos|Gestã...</td>\n",
       "    </tr>\n",
       "    <tr>\n",
       "      <th>4</th>\n",
       "      <td>Proj1</td>\n",
       "      <td>Competências Técnicas</td>\n",
       "      <td>Gestão de Projetos</td>\n",
       "      <td>Gestão de Pessoas</td>\n",
       "      <td>Novato</td>\n",
       "      <td>Praticante</td>\n",
       "      <td>Expert</td>\n",
       "      <td>Expert</td>\n",
       "      <td>Competências Técnicas|Gestão de Projetos|Gestã...</td>\n",
       "    </tr>\n",
       "  </tbody>\n",
       "</table>\n",
       "</div>"
      ],
      "text/plain": [
       "  Projeto                   Tipo                Area                   Skill  \\\n",
       "0   Proj1  Competências Técnicas  Gestão de Projetos    Gestão de Cronograma   \n",
       "1   Proj1  Competências Técnicas  Gestão de Projetos        Gestão de Custos   \n",
       "2   Proj1  Competências Técnicas  Gestão de Projetos        Gestão de Riscos   \n",
       "3   Proj1  Competências Técnicas  Gestão de Projetos  Gestão de Stakeholders   \n",
       "4   Proj1  Competências Técnicas  Gestão de Projetos       Gestão de Pessoas   \n",
       "\n",
       "       JR          PL          SR      MS  \\\n",
       "0  Novato  Praticante      Expert  Expert   \n",
       "1   Leigo       Leigo       Grupo   Grupo   \n",
       "2  Novato  Praticante      Expert  Expert   \n",
       "3   Leigo      Novato  Praticante  Expert   \n",
       "4  Novato  Praticante      Expert  Expert   \n",
       "\n",
       "                                         UniqueSkill  \n",
       "0  Competências Técnicas|Gestão de Projetos|Gestã...  \n",
       "1  Competências Técnicas|Gestão de Projetos|Gestã...  \n",
       "2  Competências Técnicas|Gestão de Projetos|Gestã...  \n",
       "3  Competências Técnicas|Gestão de Projetos|Gestã...  \n",
       "4  Competências Técnicas|Gestão de Projetos|Gestã...  "
      ]
     },
     "execution_count": 15,
     "metadata": {},
     "output_type": "execute_result"
    }
   ],
   "source": [
    "DemandaSkillTesters.head()"
   ]
  },
  {
   "cell_type": "markdown",
   "metadata": {},
   "source": [
    "## Realizando a análise descritiva dos dados"
   ]
  },
  {
   "cell_type": "markdown",
   "metadata": {},
   "source": [
    "Identificando o número de **membros** no time de QA:"
   ]
  },
  {
   "cell_type": "code",
   "execution_count": 16,
   "metadata": {},
   "outputs": [
    {
     "data": {
      "text/plain": [
       "58"
      ]
     },
     "execution_count": 16,
     "metadata": {},
     "output_type": "execute_result"
    }
   ],
   "source": [
    "Testers['ID'].nunique()"
   ]
  },
  {
   "cell_type": "markdown",
   "metadata": {},
   "source": [
    "Identificando o número de **membros** por nível de senioridade:"
   ]
  },
  {
   "cell_type": "code",
   "execution_count": 17,
   "metadata": {},
   "outputs": [
    {
     "name": "stdout",
     "output_type": "stream",
     "text": [
      "\\begin{tabular}{lr}\n",
      "\\hline\n",
      " Senioridade   &   Número de membros \\\\\n",
      "\\hline\n",
      " JR            &                  21 \\\\\n",
      " TR            &                   9 \\\\\n",
      " PL            &                   9 \\\\\n",
      " SR            &                   8 \\\\\n",
      " ESTAG         &                   7 \\\\\n",
      " COOR          &                   4 \\\\\n",
      "\\hline\n",
      "\\end{tabular}\n"
     ]
    }
   ],
   "source": [
    "# Formatando tabela - no tablefmt use 'fancy_grid', 'pretty' ou 'latex'\n",
    "qry = Testers.groupby('Senioridade')['ID'].count().sort_values(ascending=False)\n",
    "qry = qry.to_frame().rename(columns={'ID': 'Número de membros'})\n",
    "print(tabulate(qry, headers='keys', tablefmt='latex'))"
   ]
  },
  {
   "cell_type": "markdown",
   "metadata": {},
   "source": [
    "Identificando o número de **coordenadores** por projeto:"
   ]
  },
  {
   "cell_type": "code",
   "execution_count": 18,
   "metadata": {},
   "outputs": [
    {
     "name": "stdout",
     "output_type": "stream",
     "text": [
      "\\begin{tabular}{lr}\n",
      "\\hline\n",
      " Projeto   &   Número de coordenadores \\\\\n",
      "\\hline\n",
      " Proj7     &                         1 \\\\\n",
      " Proj6     &                         1 \\\\\n",
      " Proj2     &                         1 \\\\\n",
      " Proj1     &                         1 \\\\\n",
      "\\hline\n",
      "\\end{tabular}\n"
     ]
    }
   ],
   "source": [
    "# Formatando tabela - no tablefmt use 'fancy_grid', 'pretty' ou 'latex'\n",
    "qry = Testers.query(\"Senioridade == 'COOR'\").groupby('Projeto')['ID'].count().sort_values(ascending=False)\n",
    "qry = qry.to_frame().rename(columns={'ID': 'Número de coordenadores'})\n",
    "print(tabulate(qry, headers='keys', tablefmt='latex'))"
   ]
  },
  {
   "cell_type": "markdown",
   "metadata": {},
   "source": [
    "Identificando o número de **testers** por projeto:"
   ]
  },
  {
   "cell_type": "code",
   "execution_count": 19,
   "metadata": {},
   "outputs": [
    {
     "name": "stdout",
     "output_type": "stream",
     "text": [
      "\\begin{tabular}{lr}\n",
      "\\hline\n",
      " Projeto   &   Número de testers \\\\\n",
      "\\hline\n",
      " Proj1     &                  15 \\\\\n",
      " Proj6     &                  11 \\\\\n",
      " Proj7     &                   7 \\\\\n",
      " Proj2     &                   2 \\\\\n",
      " Proj5     &                   1 \\\\\n",
      " Proj4     &                   1 \\\\\n",
      " Proj3     &                   1 \\\\\n",
      "\\hline\n",
      "\\end{tabular}\n"
     ]
    }
   ],
   "source": [
    "# Formatando tabela - no tablefmt use 'fancy_grid', 'pretty' ou 'latex'\n",
    "qry = Testers.query(\"Senioridade == 'JR' or Senioridade == 'PL' or Senioridade == 'SR' or Senioridade == 'MS'\").groupby('Projeto')['ID'].count().sort_values(ascending=False)\n",
    "qry = qry.to_frame().rename(columns={'ID': 'Número de testers'})\n",
    "print(tabulate(qry, headers='keys', tablefmt='latex'))\n"
   ]
  },
  {
   "cell_type": "markdown",
   "metadata": {},
   "source": [
    "Identificando o número de **estagiários** por projeto:"
   ]
  },
  {
   "cell_type": "code",
   "execution_count": 20,
   "metadata": {
    "scrolled": true
   },
   "outputs": [
    {
     "name": "stdout",
     "output_type": "stream",
     "text": [
      "\\begin{tabular}{lr}\n",
      "\\hline\n",
      " Projeto   &   Número de estagiários \\\\\n",
      "\\hline\n",
      " Proj6     &                       2 \\\\\n",
      " Proj1     &                       2 \\\\\n",
      " Proj7     &                       1 \\\\\n",
      " Proj5     &                       1 \\\\\n",
      " Proj2     &                       1 \\\\\n",
      "\\hline\n",
      "\\end{tabular}\n"
     ]
    }
   ],
   "source": [
    "# Formatando tabela - no tablefmt use 'fancy_grid', 'pretty' ou 'latex'\n",
    "qry = Testers.query(\"Senioridade == 'ESTAG'\").groupby('Projeto')['ID'].count().sort_values(ascending=False)\n",
    "qry = qry.to_frame().rename(columns={'ID': 'Número de estagiários'})\n",
    "print(tabulate(qry, headers='keys', tablefmt='latex'))"
   ]
  },
  {
   "cell_type": "markdown",
   "metadata": {},
   "source": [
    "Verificando a **distribuição de senioridade** por projeto:"
   ]
  },
  {
   "cell_type": "code",
   "execution_count": 21,
   "metadata": {},
   "outputs": [
    {
     "data": {
      "text/plain": [
       "Projeto  Senioridade\n",
       "Proj1    COOR            1\n",
       "         ESTAG           2\n",
       "         JR             12\n",
       "         PL              1\n",
       "         SR              2\n",
       "         TR              7\n",
       "Proj2    COOR            1\n",
       "         ESTAG           1\n",
       "         JR              1\n",
       "         PL              1\n",
       "Proj3    SR              1\n",
       "Proj4    PL              1\n",
       "Proj5    ESTAG           1\n",
       "         JR              1\n",
       "Proj6    COOR            1\n",
       "         ESTAG           2\n",
       "         JR              5\n",
       "         PL              3\n",
       "         SR              3\n",
       "         TR              2\n",
       "Proj7    COOR            1\n",
       "         ESTAG           1\n",
       "         JR              2\n",
       "         PL              3\n",
       "         SR              2\n",
       "dtype: int64"
      ]
     },
     "execution_count": 21,
     "metadata": {},
     "output_type": "execute_result"
    }
   ],
   "source": [
    "Testers.groupby([\"Projeto\", \"Senioridade\"]).size()"
   ]
  },
  {
   "cell_type": "markdown",
   "metadata": {},
   "source": [
    "Identificando o número de Skills mapeados como demandados no time de QA Test:"
   ]
  },
  {
   "cell_type": "code",
   "execution_count": 22,
   "metadata": {},
   "outputs": [
    {
     "data": {
      "text/plain": [
       "146"
      ]
     },
     "execution_count": 22,
     "metadata": {},
     "output_type": "execute_result"
    }
   ],
   "source": [
    "FotoSkills.shape[0]"
   ]
  },
  {
   "cell_type": "markdown",
   "metadata": {},
   "source": [
    "Para a identificação das top competências, utilizaremos o **Nível de Skill** para cada um dos *Unique Skills*:"
   ]
  },
  {
   "cell_type": "markdown",
   "metadata": {},
   "source": [
    "\\begin{equation*}\n",
    "Nível\\ de\\ Skill  = \\sum_{i=1}^n Nota_i\\ \\ \\ \\ \\ \\ onde\\ n\\ é\\ o\\ número\\ de\\ membros\n",
    "\\end{equation*}"
   ]
  },
  {
   "cell_type": "code",
   "execution_count": 23,
   "metadata": {},
   "outputs": [],
   "source": [
    "FotoSkills['NivelSkill'] = FotoSkills.sum(axis = 1, skipna = True) "
   ]
  },
  {
   "cell_type": "code",
   "execution_count": 24,
   "metadata": {},
   "outputs": [
    {
     "data": {
      "text/html": [
       "<div>\n",
       "<style scoped>\n",
       "    .dataframe tbody tr th:only-of-type {\n",
       "        vertical-align: middle;\n",
       "    }\n",
       "\n",
       "    .dataframe tbody tr th {\n",
       "        vertical-align: top;\n",
       "    }\n",
       "\n",
       "    .dataframe thead th {\n",
       "        text-align: right;\n",
       "    }\n",
       "</style>\n",
       "<table border=\"1\" class=\"dataframe\">\n",
       "  <thead>\n",
       "    <tr style=\"text-align: right;\">\n",
       "      <th></th>\n",
       "      <th>Tipo</th>\n",
       "      <th>Area</th>\n",
       "      <th>Skill</th>\n",
       "      <th>id_func1</th>\n",
       "      <th>id_func2</th>\n",
       "      <th>id_func3</th>\n",
       "      <th>id_func4</th>\n",
       "      <th>id_func5</th>\n",
       "      <th>id_func6</th>\n",
       "      <th>id_func7</th>\n",
       "      <th>...</th>\n",
       "      <th>id_func51</th>\n",
       "      <th>id_func52</th>\n",
       "      <th>id_func53</th>\n",
       "      <th>id_func54</th>\n",
       "      <th>id_func55</th>\n",
       "      <th>id_func56</th>\n",
       "      <th>id_func57</th>\n",
       "      <th>id_func58</th>\n",
       "      <th>UniqueSkill</th>\n",
       "      <th>NivelSkill</th>\n",
       "    </tr>\n",
       "  </thead>\n",
       "  <tbody>\n",
       "    <tr>\n",
       "      <th>0</th>\n",
       "      <td>Competências Técnicas</td>\n",
       "      <td>Gestão de Projetos</td>\n",
       "      <td>Gestão da Qualidade</td>\n",
       "      <td>3.5</td>\n",
       "      <td>3.5</td>\n",
       "      <td>1.0</td>\n",
       "      <td>1.0</td>\n",
       "      <td>2.0</td>\n",
       "      <td>2.0</td>\n",
       "      <td>2.0</td>\n",
       "      <td>...</td>\n",
       "      <td>1.0</td>\n",
       "      <td>3.0</td>\n",
       "      <td>4.2</td>\n",
       "      <td>2.0</td>\n",
       "      <td>3.0</td>\n",
       "      <td>1.0</td>\n",
       "      <td>4.0</td>\n",
       "      <td>1.0</td>\n",
       "      <td>Competências Técnicas|Gestão de Projetos|Gestã...</td>\n",
       "      <td>110.5</td>\n",
       "    </tr>\n",
       "    <tr>\n",
       "      <th>1</th>\n",
       "      <td>Competências Técnicas</td>\n",
       "      <td>Gestão de Projetos</td>\n",
       "      <td>Gestão de Cronograma</td>\n",
       "      <td>2.5</td>\n",
       "      <td>4.0</td>\n",
       "      <td>1.0</td>\n",
       "      <td>1.0</td>\n",
       "      <td>2.0</td>\n",
       "      <td>2.0</td>\n",
       "      <td>3.0</td>\n",
       "      <td>...</td>\n",
       "      <td>2.5</td>\n",
       "      <td>2.0</td>\n",
       "      <td>4.0</td>\n",
       "      <td>2.0</td>\n",
       "      <td>3.0</td>\n",
       "      <td>1.0</td>\n",
       "      <td>3.7</td>\n",
       "      <td>2.0</td>\n",
       "      <td>Competências Técnicas|Gestão de Projetos|Gestã...</td>\n",
       "      <td>111.6</td>\n",
       "    </tr>\n",
       "    <tr>\n",
       "      <th>2</th>\n",
       "      <td>Competências Técnicas</td>\n",
       "      <td>Gestão de Projetos</td>\n",
       "      <td>Gestão de Custos</td>\n",
       "      <td>1.5</td>\n",
       "      <td>2.5</td>\n",
       "      <td>1.0</td>\n",
       "      <td>1.0</td>\n",
       "      <td>2.1</td>\n",
       "      <td>2.0</td>\n",
       "      <td>1.0</td>\n",
       "      <td>...</td>\n",
       "      <td>1.0</td>\n",
       "      <td>4.0</td>\n",
       "      <td>3.5</td>\n",
       "      <td>2.0</td>\n",
       "      <td>1.0</td>\n",
       "      <td>1.0</td>\n",
       "      <td>3.5</td>\n",
       "      <td>1.0</td>\n",
       "      <td>Competências Técnicas|Gestão de Projetos|Gestã...</td>\n",
       "      <td>85.6</td>\n",
       "    </tr>\n",
       "    <tr>\n",
       "      <th>3</th>\n",
       "      <td>Competências Técnicas</td>\n",
       "      <td>Gestão de Projetos</td>\n",
       "      <td>Gestão de Escopo</td>\n",
       "      <td>3.0</td>\n",
       "      <td>4.0</td>\n",
       "      <td>1.0</td>\n",
       "      <td>1.0</td>\n",
       "      <td>3.1</td>\n",
       "      <td>2.0</td>\n",
       "      <td>2.0</td>\n",
       "      <td>...</td>\n",
       "      <td>3.0</td>\n",
       "      <td>3.0</td>\n",
       "      <td>3.1</td>\n",
       "      <td>2.0</td>\n",
       "      <td>2.0</td>\n",
       "      <td>1.0</td>\n",
       "      <td>4.0</td>\n",
       "      <td>1.0</td>\n",
       "      <td>Competências Técnicas|Gestão de Projetos|Gestã...</td>\n",
       "      <td>105.2</td>\n",
       "    </tr>\n",
       "    <tr>\n",
       "      <th>4</th>\n",
       "      <td>Competências Técnicas</td>\n",
       "      <td>Gestão de Projetos</td>\n",
       "      <td>Gestão de Métricas e indicadores</td>\n",
       "      <td>2.5</td>\n",
       "      <td>4.0</td>\n",
       "      <td>1.2</td>\n",
       "      <td>1.5</td>\n",
       "      <td>2.1</td>\n",
       "      <td>2.0</td>\n",
       "      <td>2.5</td>\n",
       "      <td>...</td>\n",
       "      <td>2.0</td>\n",
       "      <td>3.0</td>\n",
       "      <td>4.5</td>\n",
       "      <td>2.0</td>\n",
       "      <td>1.0</td>\n",
       "      <td>1.0</td>\n",
       "      <td>3.8</td>\n",
       "      <td>1.0</td>\n",
       "      <td>Competências Técnicas|Gestão de Projetos|Gestã...</td>\n",
       "      <td>108.1</td>\n",
       "    </tr>\n",
       "  </tbody>\n",
       "</table>\n",
       "<p>5 rows × 63 columns</p>\n",
       "</div>"
      ],
      "text/plain": [
       "                    Tipo                Area  \\\n",
       "0  Competências Técnicas  Gestão de Projetos   \n",
       "1  Competências Técnicas  Gestão de Projetos   \n",
       "2  Competências Técnicas  Gestão de Projetos   \n",
       "3  Competências Técnicas  Gestão de Projetos   \n",
       "4  Competências Técnicas  Gestão de Projetos   \n",
       "\n",
       "                              Skill  id_func1  id_func2  id_func3  id_func4  \\\n",
       "0               Gestão da Qualidade       3.5       3.5       1.0       1.0   \n",
       "1              Gestão de Cronograma       2.5       4.0       1.0       1.0   \n",
       "2                  Gestão de Custos       1.5       2.5       1.0       1.0   \n",
       "3                  Gestão de Escopo       3.0       4.0       1.0       1.0   \n",
       "4  Gestão de Métricas e indicadores       2.5       4.0       1.2       1.5   \n",
       "\n",
       "   id_func5  id_func6  id_func7  ...  id_func51  id_func52  id_func53  \\\n",
       "0       2.0       2.0       2.0  ...        1.0        3.0        4.2   \n",
       "1       2.0       2.0       3.0  ...        2.5        2.0        4.0   \n",
       "2       2.1       2.0       1.0  ...        1.0        4.0        3.5   \n",
       "3       3.1       2.0       2.0  ...        3.0        3.0        3.1   \n",
       "4       2.1       2.0       2.5  ...        2.0        3.0        4.5   \n",
       "\n",
       "   id_func54  id_func55  id_func56  id_func57  id_func58  \\\n",
       "0        2.0        3.0        1.0        4.0        1.0   \n",
       "1        2.0        3.0        1.0        3.7        2.0   \n",
       "2        2.0        1.0        1.0        3.5        1.0   \n",
       "3        2.0        2.0        1.0        4.0        1.0   \n",
       "4        2.0        1.0        1.0        3.8        1.0   \n",
       "\n",
       "                                         UniqueSkill  NivelSkill  \n",
       "0  Competências Técnicas|Gestão de Projetos|Gestã...       110.5  \n",
       "1  Competências Técnicas|Gestão de Projetos|Gestã...       111.6  \n",
       "2  Competências Técnicas|Gestão de Projetos|Gestã...        85.6  \n",
       "3  Competências Técnicas|Gestão de Projetos|Gestã...       105.2  \n",
       "4  Competências Técnicas|Gestão de Projetos|Gestã...       108.1  \n",
       "\n",
       "[5 rows x 63 columns]"
      ]
     },
     "execution_count": 24,
     "metadata": {},
     "output_type": "execute_result"
    }
   ],
   "source": [
    "FotoSkills.head()"
   ]
  },
  {
   "cell_type": "markdown",
   "metadata": {},
   "source": [
    "Identificando as **top 10 competências técnicas** do time de QA:"
   ]
  },
  {
   "cell_type": "code",
   "execution_count": 25,
   "metadata": {},
   "outputs": [
    {
     "data": {
      "image/png": "[encoded data removed]",
      "text/plain": [
       "<Figure size 432x288 with 1 Axes>"
      ]
     },
     "metadata": {
      "needs_background": "light"
     },
     "output_type": "display_data"
    }
   ],
   "source": [
    "Top = True # Se True, indica as top, se False indica as bottom.\n",
    "TopN = 10\n",
    "FotoSkills.query(\"Tipo == 'Competências Técnicas'\").sort_values(by='NivelSkill', ascending = not Top).head(TopN)[['Skill','NivelSkill']].sort_values(by='NivelSkill').plot(x = 'Skill', kind='barh', sort_columns=True, legend = False, title='Soma Nível Skill Atual')\n",
    "#plt.savefig('Fig-top10comptecQA.svg')\n",
    "plt.show()"
   ]
  },
  {
   "cell_type": "markdown",
   "metadata": {},
   "source": [
    "Identificando as **top 10 ferramentas** que o time de QA tem mais domínio:"
   ]
  },
  {
   "cell_type": "code",
   "execution_count": 26,
   "metadata": {},
   "outputs": [
    {
     "data": {
      "image/png": "[encoded data removed]",
      "text/plain": [
       "<Figure size 432x288 with 1 Axes>"
      ]
     },
     "metadata": {
      "needs_background": "light"
     },
     "output_type": "display_data"
    }
   ],
   "source": [
    "Top = True # Se True, indica as top, se False indica as bottom.\n",
    "TopN = 10\n",
    "FotoSkills.query(\"Tipo == 'Ferramentas'\").sort_values(by='NivelSkill', ascending = not Top).head(TopN)[['Skill','NivelSkill']].sort_values(by='NivelSkill').plot(x = 'Skill', kind='barh', sort_columns=True, legend = False, title='Soma Nível Skill Atual')\n",
    "plt.show()"
   ]
  },
  {
   "cell_type": "markdown",
   "metadata": {},
   "source": [
    "Identificando as **top 5 linguagens** que o time de QA tem mais domínio:"
   ]
  },
  {
   "cell_type": "code",
   "execution_count": 27,
   "metadata": {},
   "outputs": [
    {
     "data": {
      "text/plain": [
       "<matplotlib.axes._subplots.AxesSubplot at 0x1ccbba6f108>"
      ]
     },
     "execution_count": 27,
     "metadata": {},
     "output_type": "execute_result"
    },
    {
     "data": {
      "image/png": "[encoded data removed]",
      "text/plain": [
       "<Figure size 432x288 with 1 Axes>"
      ]
     },
     "metadata": {
      "needs_background": "light"
     },
     "output_type": "display_data"
    }
   ],
   "source": [
    "Top = True # Se True, indica as top, se False indica as bottom.\n",
    "TopN = 5\n",
    "FotoSkills.query(\"Tipo == 'Linguagens de Programação'\").sort_values(by='NivelSkill', ascending = not Top).head(TopN)[['Skill','NivelSkill']].sort_values(by='NivelSkill').plot(x = 'Skill', kind='barh', sort_columns=True, legend = False, title='Soma Nível Skill Atual')"
   ]
  },
  {
   "cell_type": "markdown",
   "metadata": {},
   "source": [
    "Identificando as **top 5 competências comportamentais** do time de QA:"
   ]
  },
  {
   "cell_type": "code",
   "execution_count": 28,
   "metadata": {},
   "outputs": [
    {
     "data": {
      "text/plain": [
       "<matplotlib.axes._subplots.AxesSubplot at 0x1ccbaa6f088>"
      ]
     },
     "execution_count": 28,
     "metadata": {},
     "output_type": "execute_result"
    },
    {
     "data": {
      "image/png": "[encoded data removed]",
      "text/plain": [
       "<Figure size 432x288 with 1 Axes>"
      ]
     },
     "metadata": {
      "needs_background": "light"
     },
     "output_type": "display_data"
    }
   ],
   "source": [
    "Top = True # Se True, indica as top, se False indica as bottom.\n",
    "TopN = 5\n",
    "FotoSkills.query(\"Tipo == 'Competências Comportamentais'\").sort_values(by='NivelSkill', ascending = not Top).head(TopN)[['Skill','NivelSkill']].sort_values(by='NivelSkill').plot(x = 'Skill', kind='barh', sort_columns=True, legend = False, title='Soma Nível Skill Atual')"
   ]
  },
  {
   "cell_type": "markdown",
   "metadata": {},
   "source": [
    "Identificando as **top 15 competências técnicas** mais demandadas dos coordenadores:"
   ]
  },
  {
   "cell_type": "code",
   "execution_count": 29,
   "metadata": {},
   "outputs": [],
   "source": [
    "# Fazendo a substituição das classes por notas médias de cada uma das classes\n",
    "DemandaSkillCoordNota = DemandaSkillCoord.replace({'Leigo': 1.5, 'Novato': 2.5, 'Praticante': 3.5, 'Expert': 4.5, 'Grupo': 0.5 }, inplace=False)"
   ]
  },
  {
   "cell_type": "code",
   "execution_count": 30,
   "metadata": {},
   "outputs": [],
   "source": [
    "DemandaSkillCoordNota['SomaNotas'] = DemandaSkillCoordNota.sum(axis = 1, skipna = True) "
   ]
  },
  {
   "cell_type": "code",
   "execution_count": 31,
   "metadata": {},
   "outputs": [
    {
     "data": {
      "text/plain": [
       "<matplotlib.axes._subplots.AxesSubplot at 0x1ccbbb52208>"
      ]
     },
     "execution_count": 31,
     "metadata": {},
     "output_type": "execute_result"
    },
    {
     "data": {
      "image/png": "[encoded data removed]",
      "text/plain": [
       "<Figure size 432x288 with 1 Axes>"
      ]
     },
     "metadata": {
      "needs_background": "light"
     },
     "output_type": "display_data"
    }
   ],
   "source": [
    "Top = True # Se True, indica as top, se False indica as bottom.\n",
    "TopN = 15\n",
    "DemandaSkillCoordNota.query(\"Tipo == 'Competências Técnicas'\").sort_values(by='SomaNotas', ascending = not Top).head(TopN)[['Skill','SomaNotas']].sort_values(by='SomaNotas').plot(x = 'Skill', kind='barh', sort_columns=True, legend = False, title='Soma Nível Skill Exigido Coordenadores')"
   ]
  },
  {
   "cell_type": "markdown",
   "metadata": {},
   "source": [
    "Identificando as **top 5 ferramentas** mais demandadas dos coordenadores:"
   ]
  },
  {
   "cell_type": "code",
   "execution_count": 32,
   "metadata": {},
   "outputs": [
    {
     "data": {
      "text/plain": [
       "<matplotlib.axes._subplots.AxesSubplot at 0x1ccbcbc99c8>"
      ]
     },
     "execution_count": 32,
     "metadata": {},
     "output_type": "execute_result"
    },
    {
     "data": {
      "image/png": "[encoded data removed]",
      "text/plain": [
       "<Figure size 432x288 with 1 Axes>"
      ]
     },
     "metadata": {
      "needs_background": "light"
     },
     "output_type": "display_data"
    }
   ],
   "source": [
    "Top = True # Se True, indica as top, se False indica as bottom.\n",
    "TopN = 5\n",
    "DemandaSkillCoordNota.query(\"Tipo == 'Ferramentas'\").sort_values(by='SomaNotas', ascending = not Top).head(TopN)[['Skill','SomaNotas']].sort_values(by='SomaNotas').plot(x = 'Skill', kind='barh', sort_columns=True, legend = False, title='Soma Nível Skill Exigido Coordenadores')"
   ]
  },
  {
   "cell_type": "markdown",
   "metadata": {},
   "source": [
    "Identificando as **top 20 competências comportamentais** mais demandadas dos coordenadores:"
   ]
  },
  {
   "cell_type": "code",
   "execution_count": 33,
   "metadata": {},
   "outputs": [
    {
     "data": {
      "text/plain": [
       "<matplotlib.axes._subplots.AxesSubplot at 0x1ccbba4be48>"
      ]
     },
     "execution_count": 33,
     "metadata": {},
     "output_type": "execute_result"
    },
    {
     "data": {
      "image/png": "[encoded data removed]",
      "text/plain": [
       "<Figure size 432x288 with 1 Axes>"
      ]
     },
     "metadata": {
      "needs_background": "light"
     },
     "output_type": "display_data"
    }
   ],
   "source": [
    "Top = True # Se True, indica as top, se False indica as bottom.\n",
    "TopN = 20\n",
    "DemandaSkillCoordNota.query(\"Tipo == 'Competências Comportamentais'\").sort_values(by='SomaNotas', ascending = not Top).head(TopN)[['Skill','SomaNotas']].sort_values(by='SomaNotas').plot(x = 'Skill', kind='barh', sort_columns=True, legend = False, title='Soma Nível Skill Exigido Coordenadores')"
   ]
  },
  {
   "cell_type": "markdown",
   "metadata": {},
   "source": [
    "Identificando as **top 20 competências técnicas** mais demandadas dos testadores:"
   ]
  },
  {
   "cell_type": "code",
   "execution_count": 34,
   "metadata": {},
   "outputs": [],
   "source": [
    "# Fazendo a substituição das classes por notas médias de cada uma das classes\n",
    "DemandaSkillTestersNota = DemandaSkillTesters.replace({'Leigo': 1.5, 'Novato': 2.5, 'Praticante': 3.5, 'Expert': 4.5, 'Grupo': 0.5 }, inplace=False)"
   ]
  },
  {
   "cell_type": "code",
   "execution_count": 35,
   "metadata": {},
   "outputs": [
    {
     "data": {
      "text/html": [
       "<div>\n",
       "<style scoped>\n",
       "    .dataframe tbody tr th:only-of-type {\n",
       "        vertical-align: middle;\n",
       "    }\n",
       "\n",
       "    .dataframe tbody tr th {\n",
       "        vertical-align: top;\n",
       "    }\n",
       "\n",
       "    .dataframe thead th {\n",
       "        text-align: right;\n",
       "    }\n",
       "</style>\n",
       "<table border=\"1\" class=\"dataframe\">\n",
       "  <thead>\n",
       "    <tr style=\"text-align: right;\">\n",
       "      <th></th>\n",
       "      <th>Projeto</th>\n",
       "      <th>Tipo</th>\n",
       "      <th>Area</th>\n",
       "      <th>Skill</th>\n",
       "      <th>JR</th>\n",
       "      <th>PL</th>\n",
       "      <th>SR</th>\n",
       "      <th>MS</th>\n",
       "      <th>UniqueSkill</th>\n",
       "    </tr>\n",
       "  </thead>\n",
       "  <tbody>\n",
       "    <tr>\n",
       "      <th>0</th>\n",
       "      <td>Proj1</td>\n",
       "      <td>Competências Técnicas</td>\n",
       "      <td>Gestão de Projetos</td>\n",
       "      <td>Gestão de Cronograma</td>\n",
       "      <td>2.5</td>\n",
       "      <td>3.5</td>\n",
       "      <td>4.5</td>\n",
       "      <td>4.5</td>\n",
       "      <td>Competências Técnicas|Gestão de Projetos|Gestã...</td>\n",
       "    </tr>\n",
       "    <tr>\n",
       "      <th>1</th>\n",
       "      <td>Proj1</td>\n",
       "      <td>Competências Técnicas</td>\n",
       "      <td>Gestão de Projetos</td>\n",
       "      <td>Gestão de Custos</td>\n",
       "      <td>1.5</td>\n",
       "      <td>1.5</td>\n",
       "      <td>0.5</td>\n",
       "      <td>0.5</td>\n",
       "      <td>Competências Técnicas|Gestão de Projetos|Gestã...</td>\n",
       "    </tr>\n",
       "    <tr>\n",
       "      <th>2</th>\n",
       "      <td>Proj1</td>\n",
       "      <td>Competências Técnicas</td>\n",
       "      <td>Gestão de Projetos</td>\n",
       "      <td>Gestão de Riscos</td>\n",
       "      <td>2.5</td>\n",
       "      <td>3.5</td>\n",
       "      <td>4.5</td>\n",
       "      <td>4.5</td>\n",
       "      <td>Competências Técnicas|Gestão de Projetos|Gestã...</td>\n",
       "    </tr>\n",
       "    <tr>\n",
       "      <th>3</th>\n",
       "      <td>Proj1</td>\n",
       "      <td>Competências Técnicas</td>\n",
       "      <td>Gestão de Projetos</td>\n",
       "      <td>Gestão de Stakeholders</td>\n",
       "      <td>1.5</td>\n",
       "      <td>2.5</td>\n",
       "      <td>3.5</td>\n",
       "      <td>4.5</td>\n",
       "      <td>Competências Técnicas|Gestão de Projetos|Gestã...</td>\n",
       "    </tr>\n",
       "    <tr>\n",
       "      <th>4</th>\n",
       "      <td>Proj1</td>\n",
       "      <td>Competências Técnicas</td>\n",
       "      <td>Gestão de Projetos</td>\n",
       "      <td>Gestão de Pessoas</td>\n",
       "      <td>2.5</td>\n",
       "      <td>3.5</td>\n",
       "      <td>4.5</td>\n",
       "      <td>4.5</td>\n",
       "      <td>Competências Técnicas|Gestão de Projetos|Gestã...</td>\n",
       "    </tr>\n",
       "  </tbody>\n",
       "</table>\n",
       "</div>"
      ],
      "text/plain": [
       "  Projeto                   Tipo                Area                   Skill  \\\n",
       "0   Proj1  Competências Técnicas  Gestão de Projetos    Gestão de Cronograma   \n",
       "1   Proj1  Competências Técnicas  Gestão de Projetos        Gestão de Custos   \n",
       "2   Proj1  Competências Técnicas  Gestão de Projetos        Gestão de Riscos   \n",
       "3   Proj1  Competências Técnicas  Gestão de Projetos  Gestão de Stakeholders   \n",
       "4   Proj1  Competências Técnicas  Gestão de Projetos       Gestão de Pessoas   \n",
       "\n",
       "    JR   PL   SR   MS                                        UniqueSkill  \n",
       "0  2.5  3.5  4.5  4.5  Competências Técnicas|Gestão de Projetos|Gestã...  \n",
       "1  1.5  1.5  0.5  0.5  Competências Técnicas|Gestão de Projetos|Gestã...  \n",
       "2  2.5  3.5  4.5  4.5  Competências Técnicas|Gestão de Projetos|Gestã...  \n",
       "3  1.5  2.5  3.5  4.5  Competências Técnicas|Gestão de Projetos|Gestã...  \n",
       "4  2.5  3.5  4.5  4.5  Competências Técnicas|Gestão de Projetos|Gestã...  "
      ]
     },
     "execution_count": 35,
     "metadata": {},
     "output_type": "execute_result"
    }
   ],
   "source": [
    "DemandaSkillTestersNota.head()"
   ]
  },
  {
   "cell_type": "code",
   "execution_count": 36,
   "metadata": {},
   "outputs": [],
   "source": [
    "DemandaSkillTestersNota['SomaNotas'] = DemandaSkillTestersNota.sum(axis = 1, skipna = True) "
   ]
  },
  {
   "cell_type": "code",
   "execution_count": 37,
   "metadata": {},
   "outputs": [
    {
     "data": {
      "text/plain": [
       "<matplotlib.axes._subplots.AxesSubplot at 0x1ccbccfbe88>"
      ]
     },
     "execution_count": 37,
     "metadata": {},
     "output_type": "execute_result"
    },
    {
     "data": {
      "image/png": "[encoded data removed]",
      "text/plain": [
       "<Figure size 432x288 with 1 Axes>"
      ]
     },
     "metadata": {
      "needs_background": "light"
     },
     "output_type": "display_data"
    }
   ],
   "source": [
    "Top = True # Se True, indica as top, se False indica as bottom.\n",
    "TopN = 20\n",
    "DemandaSkillTestersNota.query(\"Tipo == 'Competências Técnicas'\").groupby('Skill')['SomaNotas'].sum().sort_values(ascending = not Top).head(TopN).sort_values().plot(x = 'Skill', kind='barh', sort_columns=True, legend = False, title='Soma Nível Skill Exigido Testers')"
   ]
  },
  {
   "cell_type": "markdown",
   "metadata": {},
   "source": [
    "Identificando as **top 10 ferramentas** mais demandadas dos testadores:"
   ]
  },
  {
   "cell_type": "code",
   "execution_count": 38,
   "metadata": {},
   "outputs": [
    {
     "data": {
      "text/plain": [
       "<matplotlib.axes._subplots.AxesSubplot at 0x1ccbb195c08>"
      ]
     },
     "execution_count": 38,
     "metadata": {},
     "output_type": "execute_result"
    },
    {
     "data": {
      "image/png": "[encoded data removed]",
      "text/plain": [
       "<Figure size 432x288 with 1 Axes>"
      ]
     },
     "metadata": {
      "needs_background": "light"
     },
     "output_type": "display_data"
    }
   ],
   "source": [
    "Top = True # Se True, indica as top, se False indica as bottom.\n",
    "TopN = 10\n",
    "DemandaSkillTestersNota.query(\"Tipo == 'Ferramentas'\").groupby('Skill')['SomaNotas'].sum().sort_values(ascending = not Top).head(TopN).sort_values().plot(x = 'Skill', kind='barh', sort_columns=True, legend = False, title='Soma Nível Skill Exigido Testers')"
   ]
  },
  {
   "cell_type": "markdown",
   "metadata": {},
   "source": [
    "Identificando as **top 10 linguagens** mais demandadas dos testadores:"
   ]
  },
  {
   "cell_type": "code",
   "execution_count": 39,
   "metadata": {},
   "outputs": [
    {
     "data": {
      "text/plain": [
       "<matplotlib.axes._subplots.AxesSubplot at 0x1ccbb038348>"
      ]
     },
     "execution_count": 39,
     "metadata": {},
     "output_type": "execute_result"
    },
    {
     "data": {
      "image/png": "[encoded data removed]",
      "text/plain": [
       "<Figure size 432x288 with 1 Axes>"
      ]
     },
     "metadata": {
      "needs_background": "light"
     },
     "output_type": "display_data"
    }
   ],
   "source": [
    "Top = True # Se True, indica as top, se False indica as bottom.\n",
    "TopN = 10\n",
    "DemandaSkillTestersNota.query(\"Tipo == 'Linguagens de Programação'\").groupby('Skill')['SomaNotas'].sum().sort_values(ascending = not Top).head(TopN).sort_values().plot(x = 'Skill', kind='barh', sort_columns=True, legend = False, title='Soma Nível Skill Exigido Testers')"
   ]
  },
  {
   "cell_type": "markdown",
   "metadata": {},
   "source": [
    "Identificando as **top 10 competências comportamentais** mais demandadas dos testadores:"
   ]
  },
  {
   "cell_type": "code",
   "execution_count": 40,
   "metadata": {},
   "outputs": [
    {
     "data": {
      "text/plain": [
       "<matplotlib.axes._subplots.AxesSubplot at 0x1ccbcd3af08>"
      ]
     },
     "execution_count": 40,
     "metadata": {},
     "output_type": "execute_result"
    },
    {
     "data": {
      "image/png": "[encoded data removed]",
      "text/plain": [
       "<Figure size 432x288 with 1 Axes>"
      ]
     },
     "metadata": {
      "needs_background": "light"
     },
     "output_type": "display_data"
    }
   ],
   "source": [
    "Top = True # Se True, indica as top, se False indica as bottom.\n",
    "TopN = 10\n",
    "DemandaSkillTestersNota.query(\"Tipo == 'Competências Comportamentais'\").groupby('Skill')['SomaNotas'].sum().sort_values(ascending = not Top).head(TopN).sort_values().plot(x = 'Skill', kind='barh', sort_columns=True, legend = False, title='Soma Nível Skill Exigido Testers')"
   ]
  },
  {
   "cell_type": "markdown",
   "metadata": {},
   "source": [
    "Dado um Skill específico, mostra a distribuição das autoavaliações:"
   ]
  },
  {
   "cell_type": "code",
   "execution_count": 41,
   "metadata": {
    "scrolled": false
   },
   "outputs": [
    {
     "data": {
      "image/png": "[encoded data removed]",
      "text/plain": [
       "<Figure size 432x288 with 1 Axes>"
      ]
     },
     "metadata": {
      "needs_background": "light"
     },
     "output_type": "display_data"
    }
   ],
   "source": [
    "Skill2Search = 'Competências Técnicas|Quality Assurance|Automação de teste' # Entre aqui o skill a ser mostrada a distribuição\n",
    "colnum_UniqueSkill=FotoSkills.columns.get_loc('UniqueSkill')\n",
    "vetor=FotoSkills.loc[FotoSkills['UniqueSkill']==Skill2Search]\n",
    "skill=FotoSkills.loc[FotoSkills['UniqueSkill']==Skill2Search,'UniqueSkill'].values[0]\n",
    "pd.to_numeric(vetor.iloc[:,3:colnum_UniqueSkill].T.iloc[:,0]).hist(bins=[1, 2, 3, 4, 5, 6])\n",
    "plt.suptitle(\"Skill:\"+skill)\n",
    "plt.xlabel('Autoavaliação')\n",
    "plt.ylabel('Frequência')\n",
    "#plt.savefig('histograma.pdf')\n",
    "plt.show()"
   ]
  },
  {
   "cell_type": "markdown",
   "metadata": {},
   "source": [
    "Outro jeito de determinar o histograma do Skill autoavaliado, agora considerando o parâmetro TargetSeniority"
   ]
  },
  {
   "cell_type": "code",
   "execution_count": 42,
   "metadata": {},
   "outputs": [
    {
     "data": {
      "image/png": "[encoded data removed]",
      "text/plain": [
       "<Figure size 432x288 with 1 Axes>"
      ]
     },
     "metadata": {
      "needs_background": "light"
     },
     "output_type": "display_data"
    }
   ],
   "source": [
    "# Descomente a linha TargetSeniority - Senioridade a ser considerada no filtro: ESTAG, TR, JR, PL, SR, MS, COOR\n",
    "# >>> Para senioridade baixa, descomente a linha:\n",
    "#TargetSeniority = \"Senioridade == 'ESTAG' or Senioridade == 'TR' or Senioridade == 'JR'\"\n",
    "# >>> Para todas as senioridades, descomente a linha:\n",
    "TargetSeniority = \"Senioridade == 'ESTAG' or Senioridade == 'TR' or Senioridade == 'JR' or Senioridade == 'PL' or Senioridade == 'SR' or Senioridade == 'MS' or Senioridade == 'COOR'\"\n",
    "Skill2Search = 'Competências Técnicas|Quality Assurance|Automação de teste' # Entre aqui o skill a ser mostrada a distribuição\n",
    "\n",
    "X = FotoSkills.T.copy()\n",
    "X.columns = X.loc['UniqueSkill']\n",
    "line_UniqueSkill=X.index.get_loc('UniqueSkill')\n",
    "X = X.iloc[3:line_UniqueSkill,0:] \n",
    "X = X.reset_index()\n",
    "X['Senioridade']=X.apply(lambda row: FindSeniority(row['index']), axis=1)\n",
    "X = X.query(TargetSeniority) # filtra pelo parâmetro TargetSeniority\n",
    "X.reset_index(drop=True, inplace=True)\n",
    "X = X.rename_axis(\"\", axis=\"columns\")\n",
    "X = X.drop(['index', 'Senioridade'], axis=1)\n",
    "pd.to_numeric(X[Skill2Search]).hist(bins=[1, 2, 3, 4, 5, 6])\n",
    "plt.suptitle(\"Skill:\"+Skill2Search)\n",
    "plt.xlabel('Autoavaliação')\n",
    "plt.ylabel('Frequência')\n",
    "#plt.savefig('histograma.pdf')\n",
    "plt.show()"
   ]
  },
  {
   "cell_type": "markdown",
   "metadata": {},
   "source": [
    "Mostra um histograma para cada Skill que foi autoavaliado:"
   ]
  },
  {
   "cell_type": "code",
   "execution_count": 43,
   "metadata": {},
   "outputs": [],
   "source": [
    "def draw_histograms(df, variables, n_rows, n_cols):\n",
    "    fig=plt.figure(figsize=[15,2*n_rows])\n",
    "    for i, var_name in enumerate(variables):\n",
    "        ax=fig.add_subplot(n_rows,n_cols,i+1)\n",
    "        df[var_name].hist(bins=[1, 2, 3, 4, 5, 6],ax=ax)\n",
    "        #ax.set_title(var_name)\n",
    "        ax.set_title(var_name, fontdict={'fontsize': 12, 'fontweight': 'medium'})\n",
    "    fig.tight_layout(pad=2)  \n",
    "    plt.savefig('histograma.pdf')\n",
    "    plt.show()"
   ]
  },
  {
   "cell_type": "code",
   "execution_count": 44,
   "metadata": {},
   "outputs": [],
   "source": [
    "# Ajustando a matriz no formato skills x autoavaliações\n",
    "\n",
    "# Descomente a linha TargetSeniority - Senioridade a ser considerada no filtro: ESTAG, TR, JR, PL, SR, MS, COOR\n",
    "# >>> Para senioridade baixa, descomente a linha:\n",
    "TargetSeniority = \"Senioridade == 'ESTAG' or Senioridade == 'TR' or Senioridade == 'JR'\"\n",
    "# >>> Para todas as senioridades, descomente a linha:\n",
    "#TargetSeniority = \"Senioridade == 'ESTAG' or Senioridade == 'TR' or Senioridade == 'JR' or Senioridade == 'PL' or Senioridade == 'SR' or Senioridade == 'MS' or Senioridade == 'COOR'\"\n",
    "#TargetSeniority = \"Senioridade == 'PL' or Senioridade == 'SR' or Senioridade == 'MS' or Senioridade == 'COOR'\"\n",
    "\n",
    "X = FotoSkills.T.copy()\n",
    "X.columns = X.iloc[2]\n",
    "line_UniqueSkill=X.index.get_loc('UniqueSkill')\n",
    "X = X.iloc[3:line_UniqueSkill,0:] \n",
    "X = X.reset_index()\n",
    "X['Senioridade']=X.apply(lambda row: FindSeniority(row['index']), axis=1)\n",
    "X = X.query(TargetSeniority)\n",
    "X.reset_index(drop=True, inplace=True)\n",
    "X = X.rename_axis(\"\", axis=\"columns\")\n",
    "X = X.drop(['index', 'Senioridade'], axis=1)"
   ]
  },
  {
   "cell_type": "code",
   "execution_count": 45,
   "metadata": {},
   "outputs": [],
   "source": [
    "# Selecionando os skills a serem apresentados\n",
    "X = X[['Gestão da Qualidade', 'Gestão de Cronograma', 'Gestão de Pessoas', 'Gestão de Riscos',\n",
    "'Análise de requisitos ', 'Automação de teste', 'Confluence', 'Definição da estratégia de teste',\n",
    "'Teste de Machine Learning', 'Artifactory', 'Gatling', 'Inspect',\n",
    "'Scripts de teste manual', 'Teste em sistema operacional Android', 'PLM', 'Testes exploratórios',\n",
    "'Teste de aceitação', 'Teste de regressão', 'Teste de sanidade', 'Teste de sistema',\n",
    "'Auto Confiança', 'Foco', 'Proatividade', 'Trabalho em Equipe']]\n",
    "\n",
    "#X = X[['Teste de aceitação', 'Teste de regressão', 'Teste de sanidade', 'Teste de sistema']]\n",
    "\n",
    "#X = X[['Gestão da Qualidade', 'Gestão de Cronograma', 'Gestão de Pessoas', 'Gestão de Riscos']]\n",
    "\n"
   ]
  },
  {
   "cell_type": "code",
   "execution_count": 46,
   "metadata": {},
   "outputs": [
    {
     "data": {
      "image/png": "[encoded data removed]",
      "text/plain": [
       "<Figure size 1080x864 with 24 Axes>"
      ]
     },
     "metadata": {
      "needs_background": "light"
     },
     "output_type": "display_data"
    }
   ],
   "source": [
    "# Ajustando os parâmetros e plotando o histograma\n",
    "ncols = 4\n",
    "nrows = ((X.shape[1] - 1) // ncols) + 1\n",
    "draw_histograms(X, X.columns, nrows, ncols)"
   ]
  },
  {
   "cell_type": "markdown",
   "metadata": {},
   "source": [
    "Levantando um gráfico de barra empilhado para os Skills autoavaliados:"
   ]
  },
  {
   "cell_type": "code",
   "execution_count": 47,
   "metadata": {
    "scrolled": true
   },
   "outputs": [],
   "source": [
    "TargetSeniority = \"Senioridade == 'ESTAG' or Senioridade == 'TR' or Senioridade == 'JR' or Senioridade == 'PL' or Senioridade == 'SR' or Senioridade == 'MS' or Senioridade == 'COOR'\"\n",
    "X = FotoSkills.T.copy()\n",
    "X.columns = X.iloc[2]\n",
    "X = X.iloc[3:-2,0:] \n",
    "X = X.reset_index()\n",
    "X['Senioridade']=X.apply(lambda row: FindSeniority(row['index']), axis=1)\n",
    "X = X.query(TargetSeniority)\n",
    "X.reset_index(drop=True, inplace=True)\n",
    "X = X.rename_axis(\"\", axis=\"columns\")\n",
    "X = X.drop(['index', 'Senioridade'], axis=1)"
   ]
  },
  {
   "cell_type": "code",
   "execution_count": 48,
   "metadata": {},
   "outputs": [],
   "source": [
    "# Selecionando os skills a serem apresentados\n",
    "X = X[['Gestão da Qualidade', 'Gestão de Cronograma', 'Gestão de Pessoas', 'Gestão de Riscos',\n",
    "'Análise de requisitos ', 'Automação de teste', 'Confluence', 'Definição da estratégia de teste',\n",
    "'Teste de Machine Learning', 'Artifactory', 'Gatling', 'Inspect',\n",
    "'Scripts de teste manual', 'Teste em sistema operacional Android', 'PLM', 'Testes exploratórios',\n",
    "'Teste de aceitação', 'Teste de regressão', 'Teste de sanidade', 'Teste de sistema',\n",
    "'Auto Confiança', 'Foco', 'Proatividade', 'Trabalho em Equipe']]"
   ]
  },
  {
   "cell_type": "code",
   "execution_count": 49,
   "metadata": {},
   "outputs": [],
   "source": [
    "def CountLevelSkill (vetorskill):\n",
    "    NLeigo = vetorskill.loc[lambda x : (x>=1) & (x<=2)].count()\n",
    "    NNovato = vetorskill.loc[lambda x : (x>2) & (x<=3)].count()\n",
    "    NPraticante = vetorskill.loc[lambda x : (x>3) & (x<=4)].count()\n",
    "    NExpert = vetorskill.loc[lambda x : (x>4) & (x<=5)].count()\n",
    "    return [NLeigo, NNovato, NPraticante, NExpert]"
   ]
  },
  {
   "cell_type": "code",
   "execution_count": 50,
   "metadata": {},
   "outputs": [],
   "source": [
    "ListStacked = []\n",
    "for skill in X.columns:\n",
    "    ListStacked.append (CountLevelSkill (X[skill]))\n",
    "    \n",
    "# Inicializando um dataframe para armazenar a estrutura de dados a ser utilizada no gráfico de barras\n",
    "col_names =  ['Qtde de Leigos', 'Qtde de Novatos', 'Qtde de Praticantes', 'Qtde de Experts']\n",
    "StackedSkills = pd.DataFrame(ListStacked, columns = col_names, index = X.columns)"
   ]
  },
  {
   "cell_type": "code",
   "execution_count": 51,
   "metadata": {},
   "outputs": [
    {
     "data": {
      "image/png": "[encoded data removed]",
      "text/plain": [
       "<Figure size 648x1080 with 1 Axes>"
      ]
     },
     "metadata": {
      "needs_background": "light"
     },
     "output_type": "display_data"
    }
   ],
   "source": [
    "StackedSkills.sort_index(ascending=True, inplace = True)\n",
    "\n",
    "# Legenda: Azul (Qtde de Leigos), Laranja (Qtde de Novatos), Verde (Qtde de Praticantes), Vermelho (Qtde de Experts)\n",
    "\n",
    "for linhainicial in range (0, StackedSkills.shape[0], 25):\n",
    "    StackedSkills[linhainicial:(linhainicial+25)].sort_index(ascending=False).plot.barh(stacked = True, legend = True, figsize=(9,15))\n"
   ]
  },
  {
   "cell_type": "markdown",
   "metadata": {},
   "source": [
    "Identifique os **top 5 testers em um dado skill ($SK_i$)**:"
   ]
  },
  {
   "cell_type": "code",
   "execution_count": 52,
   "metadata": {
    "scrolled": false
   },
   "outputs": [
    {
     "name": "stdout",
     "output_type": "stream",
     "text": [
      "\\begin{tabular}{lc}\n",
      "\\hline\n",
      " ID Colaborador   &  Nível de Skill Atual  \\\\\n",
      "\\hline\n",
      " id\\_func8         &          4.0           \\\\\n",
      " id\\_func47        &          3.1           \\\\\n",
      " id\\_func40        &          3.0           \\\\\n",
      " id\\_func12        &          3.0           \\\\\n",
      " id\\_func23        &          3.0           \\\\\n",
      "\\hline\n",
      "\\end{tabular}\n"
     ]
    }
   ],
   "source": [
    "Skill2Search = 'Ferramentas|-|Brity RPA' # Entre aqui o skill a ser buscado\n",
    "Top = True # Se True, indica as top, se False indica as bottom.\n",
    "TopN = 5\n",
    "colnum_UniqueSkill=FotoSkills.columns.get_loc('UniqueSkill')\n",
    "# Formatando tabela - no tablefmt use 'fancy_grid', 'pretty' ou 'latex'\n",
    "qry = FotoSkills.loc[FotoSkills['UniqueSkill']==Skill2Search].iloc[:,3:colnum_UniqueSkill].T.iloc[:,0].sort_values(ascending = not Top).head(TopN)\n",
    "qry = qry.to_frame()\n",
    "print(tabulate(qry, headers=['ID Colaborador', 'Nível de Skill Atual'], tablefmt='latex', numalign='center', floatfmt=\".1f\"))"
   ]
  },
  {
   "cell_type": "markdown",
   "metadata": {},
   "source": [
    "Identificando os testers com os mais altos valores de média de Skill:"
   ]
  },
  {
   "cell_type": "code",
   "execution_count": 53,
   "metadata": {},
   "outputs": [
    {
     "name": "stdout",
     "output_type": "stream",
     "text": [
      "\\begin{tabular}{lc}\n",
      "\\hline\n",
      " ID Colaborador   &  Média de Skill Atual  \\\\\n",
      "\\hline\n",
      " id\\_func49        &          3.0           \\\\\n",
      " id\\_func11        &          3.0           \\\\\n",
      " id\\_func23        &          2.9           \\\\\n",
      " id\\_func57        &          2.7           \\\\\n",
      " id\\_func25        &          2.7           \\\\\n",
      " id\\_func2         &          2.7           \\\\\n",
      " id\\_func35        &          2.7           \\\\\n",
      " id\\_func14        &          2.7           \\\\\n",
      " id\\_func20        &          2.6           \\\\\n",
      " id\\_func24        &          2.6           \\\\\n",
      "\\hline\n",
      "\\end{tabular}\n"
     ]
    }
   ],
   "source": [
    "Top = True # Se True, indica as top, se False indica as bottom.\n",
    "TopN = 10\n",
    "colnum_UniqueSkill=FotoSkills.columns.get_loc('UniqueSkill')\n",
    "# Formatando tabela - no tablefmt use 'fancy_grid', 'pretty' ou 'latex'\n",
    "qry = FotoSkills.iloc[:,3:colnum_UniqueSkill].mean().sort_values(ascending = not Top).head(TopN)\n",
    "qry = qry.to_frame()\n",
    "print(tabulate(qry, headers=['ID Colaborador', 'Média de Skill Atual'], tablefmt='latex', numalign='center', floatfmt=\".1f\"))"
   ]
  },
  {
   "cell_type": "markdown",
   "metadata": {},
   "source": [
    "## Realizando análises mais complexas"
   ]
  },
  {
   "cell_type": "markdown",
   "metadata": {},
   "source": [
    "Identificando os **testadores outliers** (1.5 x IQR Intervalo Inter-quartil) por Skill:"
   ]
  },
  {
   "cell_type": "markdown",
   "metadata": {},
   "source": [
    "* amplitude - ou intervalo - interquartil (IQR, *interquartile range*)  \n",
    "    Sejam:\n",
    "    - $Q_{1}$ o valor relativo aos primeiros 25% dados,\n",
    "    - $Q_{2}$ o valor relativo aos primeiros 50% dados (mediana),\n",
    "    - $Q_{3}$ o valor relativo aos primeiros 75% dos dados,\n",
    "    \n",
    "    $$IQR = Q_{3} - Q_{1}$$\n"
   ]
  },
  {
   "cell_type": "code",
   "execution_count": 54,
   "metadata": {},
   "outputs": [],
   "source": [
    "colnum_UniqueSkill=FotoSkills.columns.get_loc('UniqueSkill')"
   ]
  },
  {
   "cell_type": "code",
   "execution_count": 55,
   "metadata": {},
   "outputs": [],
   "source": [
    "# Calculo do limite com base no IQR. Limite = Q3 + (1.5*IQR)\n",
    "FotoSkills['LimiteIQR'] = FotoSkills.iloc[:,:colnum_UniqueSkill].quantile(q=0.75, axis=1) + 1.5*(FotoSkills.iloc[:,:colnum_UniqueSkill].quantile(q=0.75, axis=1) - FotoSkills.iloc[:,:colnum_UniqueSkill].quantile(q=0.25, axis=1))"
   ]
  },
  {
   "cell_type": "code",
   "execution_count": 56,
   "metadata": {
    "scrolled": true
   },
   "outputs": [
    {
     "name": "stdout",
     "output_type": "stream",
     "text": [
      "Lista de Outliers - autoavaliação superior a 1.5 x IQR\n",
      "Competências Técnicas|Gestão de Projetos|Gestão de Custos: id_func49, id_func52\n",
      "Competências Técnicas|Gestão de Projetos|Gestão de Stakeholders: id_func2, id_func20, id_func23, id_func35, id_func49, id_func52, id_func57\n",
      "Competências Técnicas|Quality Assurance|Behavior Driven Development: id_func43\n",
      "Competências Técnicas|Quality Assurance|Teste de banco de dados: id_func25, id_func49\n",
      "Competências Técnicas|Quality Assurance|Teste de benchmark: id_func20, id_func23, id_func57\n",
      "Competências Técnicas|Quality Assurance|Teste de contrato: id_func25, id_func49\n",
      "Competências Técnicas|Quality Assurance|Teste de IA: id_func9, id_func16, id_func17, id_func18, id_func50, id_func53, id_func57\n",
      "Competências Técnicas|Quality Assurance|Teste de Machine Learning: id_func2, id_func8, id_func16, id_func21, id_func57\n",
      "Competências Técnicas|Quality Assurance|Teste de nuvem AWS: id_func25\n",
      "Competências Técnicas|Quality Assurance|Teste de nuvem Azure: id_func34\n",
      "Competências Técnicas|Quality Assurance|Teste de Realidade Aumentada (AR): id_func2, id_func22, id_func24, id_func30, id_func35, id_func52\n",
      "Competências Técnicas|Quality Assurance|Teste de Realidade Virtual (VR): id_func2, id_func10, id_func23, id_func24, id_func49\n",
      "Competências Técnicas|Quality Assurance|Teste de segurança: id_func57\n",
      "Competências Técnicas|Quality Assurance|Teste em ambiente Linux: id_func11, id_func34, id_func43, id_func49, id_func51\n",
      "Competências Técnicas|Quality Assurance|Teste em sistema operacional iOS: id_func49\n",
      "Competências Técnicas|Quality Assurance|Teste mobile 5G: id_func4, id_func5, id_func6, id_func20, id_func28, id_func57\n",
      "Competências Técnicas|Quality Assurance|Teste mobile IMS: id_func1, id_func4, id_func19, id_func21, id_func28, id_func35, id_func38, id_func44, id_func46, id_func57\n",
      "Ferramentas|-|Android Profiler: id_func44\n",
      "Ferramentas|-|Appium: id_func13, id_func14\n",
      "Ferramentas|-|Artifactory: id_func2, id_func11, id_func14, id_func20, id_func23, id_func25, id_func30\n",
      "Ferramentas|-|Automation Anywhere: id_func8\n",
      "Ferramentas|-|BEAT: id_func3, id_func9, id_func15, id_func16, id_func18, id_func30, id_func45, id_func57\n",
      "Ferramentas|-|Brity RPA: id_func8\n",
      "Ferramentas|-|CircleCI: id_func12\n",
      "Ferramentas|-|Cucumber: id_func11, id_func25, id_func29, id_func49\n",
      "Ferramentas|-|Gatling: id_func4, id_func25, id_func34, id_func35, id_func47\n",
      "Ferramentas|-|Gerrit: id_func11, id_func12, id_func24, id_func34, id_func49, id_func51\n",
      "Ferramentas|-|GitHub: id_func43\n",
      "Ferramentas|-|GitLab: id_func13, id_func14, id_func15, id_func25, id_func51\n",
      "Ferramentas|-|Inspect: id_func2, id_func7, id_func11, id_func23, id_func30, id_func49\n",
      "Ferramentas|-|Jbehave: id_func43\n",
      "Ferramentas|-|JMeter: id_func11, id_func13, id_func43, id_func51\n",
      "Ferramentas|-|JUnit: id_func13, id_func14, id_func15, id_func19, id_func23, id_func25, id_func43\n",
      "Ferramentas|-|MSTest: id_func7, id_func12, id_func14, id_func20, id_func23, id_func25\n",
      "Ferramentas|-|NUnit: id_func11, id_func14, id_func23, id_func25, id_func30, id_func43\n",
      "Ferramentas|-|PowerBI: id_func25, id_func53\n",
      "Ferramentas|-|PyCharm: id_func11, id_func15, id_func24, id_func51\n",
      "Ferramentas|-|Sikuli: id_func2, id_func11, id_func12, id_func13, id_func15, id_func43, id_func58\n",
      "Ferramentas|-|SoapUI: id_func2, id_func23, id_func30\n",
      "Ferramentas|-|SpecFlow: id_func23\n",
      "Ferramentas|-|SVN: id_func22\n",
      "Ferramentas|-|Test Complete: id_func11, id_func16, id_func25, id_func52\n",
      "Ferramentas|-|UI Automator: id_func3, id_func5, id_func7, id_func11, id_func24, id_func25\n",
      "Ferramentas|-|Visual Studio: id_func14\n",
      "Ferramentas|-|Vyzor: id_func24, id_func49, id_func52, id_func56\n",
      "Ferramentas|-|Windows App Driver: id_func11, id_func14, id_func23, id_func43, id_func49\n",
      "Ferramentas|-|XD: id_func5\n",
      "Ferramentas|-|Zephyr: id_func1, id_func19, id_func20, id_func28, id_func35, id_func38, id_func44, id_func57\n",
      "Linguagens de Programação|-|.NET: id_func13, id_func14, id_func25\n",
      "Linguagens de Programação|-|Flutter: id_func14, id_func32\n",
      "Linguagens de Programação|-|Javascript: id_func13, id_func15\n",
      "Linguagens de Programação|-|JSON : id_func13, id_func14, id_func15, id_func34, id_func45, id_func51\n",
      "Linguagens de Programação|-|Kotlin: id_func32\n",
      "Linguagens de Programação|-|Python: id_func51\n",
      "Linguagens de Programação|-|Scala: id_func12, id_func47\n",
      "Linguagens de Programação|-|Shell script: id_func3, id_func11, id_func13, id_func23, id_func34, id_func45, id_func51\n",
      "Linguagens de Programação|-|VBA: id_func51\n",
      "Competências Comportamentais|-|Coerencia: id_func4, id_func5, id_func8, id_func11, id_func14, id_func15, id_func28, id_func35, id_func57\n",
      "Competências Comportamentais|-|Comunicação: id_func6, id_func14, id_func48, id_func49, id_func52\n",
      "Competências Comportamentais|-|Gestão de Conflitos: id_func48, id_func52\n",
      "Competências Comportamentais|-|Planejamento: id_func24\n",
      "Competências Comportamentais|-|Proatividade: id_func6, id_func8, id_func11, id_func20, id_func24, id_func25, id_func32, id_func38, id_func40, id_func42, id_func49, id_func53, id_func57\n",
      "Competências Comportamentais|-|Resolução de Problemas: id_func3, id_func8, id_func11, id_func29, id_func35, id_func39, id_func42, id_func49, id_func55\n",
      "Competências Comportamentais|-|Visão Sistemica: id_func6\n"
     ]
    }
   ],
   "source": [
    "# Abre um arquivo para armazenar a lista de Top Testers\n",
    "f= open(f\"{pkgdir}\\Lista_TopTesters_{datestamp}.txt\",\"w+\") \n",
    "\n",
    "ListTopTesters=[]\n",
    "print ('Lista de Outliers - autoavaliação superior a 1.5 x IQR')\n",
    "for skill in FotoSkills['UniqueSkill']:\n",
    "    ListTester=[]\n",
    "    for tester in Testers['ID']:\n",
    "        nivel = FotoSkills.loc[FotoSkills['UniqueSkill']==skill,tester].values[0]\n",
    "        limite = FotoSkills.loc[FotoSkills['UniqueSkill']==skill,'LimiteIQR'].values[0]  # Limite com 1.5*IQR\n",
    "        if (nivel > limite) and (nivel>2): # Se identificou um outlier e a autoavaliação é pelo menos Novato\n",
    "            # Preenche a tabela de Top Testers\n",
    "            ListTopTesters.append([tester, skill, nivel, limite, 'Validar a autoavaliação.'])\n",
    "            # Faz um append do ID do tester na lista a ser exibida\n",
    "            ListTester.append (tester)\n",
    "    if len(ListTester)>0:\n",
    "        StringTesters = ', '.join(ListTester)\n",
    "        print(f'{skill}: {StringTesters}')    \n",
    "        f.write(f'{skill}: {StringTesters}\\n')\n",
    "f.close() "
   ]
  },
  {
   "cell_type": "code",
   "execution_count": 57,
   "metadata": {},
   "outputs": [],
   "source": [
    "# Inicializando um dataframe para armazenar a estrutura de dados a ser utilizada no Top Testers\n",
    "col_names =  ['ID', 'UniqueSkill', 'Autoavaliação', 'LimiteIQR', 'Ação']\n",
    "TopTesters = pd.DataFrame(ListTopTesters, columns = col_names)"
   ]
  },
  {
   "cell_type": "code",
   "execution_count": 58,
   "metadata": {},
   "outputs": [
    {
     "name": "stdout",
     "output_type": "stream",
     "text": [
      "\\begin{tabular}{lll}\n",
      "\\hline\n",
      " ID Colaborador   & Skill                                                                     & Senioridade   \\\\\n",
      "\\hline\n",
      " id\\_func10        & Competências Técnicas|Quality Assurance|Teste de Realidade Virtual (VR)   & JR            \\\\\n",
      " id\\_func15        & Ferramentas|-|BEAT                                                        & TR            \\\\\n",
      " id\\_func15        & Ferramentas|-|JUnit                                                       & TR            \\\\\n",
      " id\\_func15        & Ferramentas|-|PyCharm                                                     & TR            \\\\\n",
      " id\\_func15        & Competências Comportamentais|-|Coerencia                                  & TR            \\\\\n",
      " id\\_func15        & Linguagens de Programação|-|JSON                                          & TR            \\\\\n",
      " id\\_func15        & Linguagens de Programação|-|Javascript                                    & TR            \\\\\n",
      " id\\_func15        & Ferramentas|-|Sikuli                                                      & TR            \\\\\n",
      " id\\_func15        & Ferramentas|-|GitLab                                                      & TR            \\\\\n",
      " id\\_func16        & Competências Técnicas|Quality Assurance|Teste de Machine Learning         & TR            \\\\\n",
      " id\\_func16        & Competências Técnicas|Quality Assurance|Teste de IA                       & TR            \\\\\n",
      " id\\_func16        & Ferramentas|-|Test Complete                                               & TR            \\\\\n",
      " id\\_func16        & Ferramentas|-|BEAT                                                        & TR            \\\\\n",
      " id\\_func17        & Competências Técnicas|Quality Assurance|Teste de IA                       & JR            \\\\\n",
      " id\\_func18        & Ferramentas|-|BEAT                                                        & TR            \\\\\n",
      " id\\_func18        & Competências Técnicas|Quality Assurance|Teste de IA                       & TR            \\\\\n",
      " id\\_func22        & Ferramentas|-|SVN                                                         & JR            \\\\\n",
      " id\\_func22        & Competências Técnicas|Quality Assurance|Teste de Realidade Aumentada (AR) & JR            \\\\\n",
      " id\\_func24        & Ferramentas|-|Gerrit                                                      & JR            \\\\\n",
      " id\\_func24        & Competências Comportamentais|-|Planejamento                               & JR            \\\\\n",
      " id\\_func24        & Competências Técnicas|Quality Assurance|Teste de Realidade Aumentada (AR) & JR            \\\\\n",
      " id\\_func24        & Competências Comportamentais|-|Proatividade                               & JR            \\\\\n",
      " id\\_func24        & Competências Técnicas|Quality Assurance|Teste de Realidade Virtual (VR)   & JR            \\\\\n",
      " id\\_func24        & Ferramentas|-|PyCharm                                                     & JR            \\\\\n",
      " id\\_func24        & Ferramentas|-|UI Automator                                                & JR            \\\\\n",
      " id\\_func24        & Ferramentas|-|Vyzor                                                       & JR            \\\\\n",
      " id\\_func25        & Ferramentas|-|JUnit                                                       & JR            \\\\\n",
      " id\\_func25        & Ferramentas|-|Test Complete                                               & JR            \\\\\n",
      " id\\_func25        & Ferramentas|-|MSTest                                                      & JR            \\\\\n",
      " id\\_func25        & Ferramentas|-|NUnit                                                       & JR            \\\\\n",
      " id\\_func25        & Ferramentas|-|PowerBI                                                     & JR            \\\\\n",
      " id\\_func25        & Ferramentas|-|UI Automator                                                & JR            \\\\\n",
      " id\\_func25        & Linguagens de Programação|-|.NET                                          & JR            \\\\\n",
      " id\\_func25        & Ferramentas|-|Gatling                                                     & JR            \\\\\n",
      " id\\_func25        & Ferramentas|-|Artifactory                                                 & JR            \\\\\n",
      " id\\_func25        & Competências Técnicas|Quality Assurance|Teste de banco de dados           & JR            \\\\\n",
      " id\\_func25        & Competências Técnicas|Quality Assurance|Teste de contrato                 & JR            \\\\\n",
      " id\\_func25        & Ferramentas|-|Cucumber                                                    & JR            \\\\\n",
      " id\\_func25        & Competências Comportamentais|-|Proatividade                               & JR            \\\\\n",
      " id\\_func25        & Competências Técnicas|Quality Assurance|Teste de nuvem AWS                & JR            \\\\\n",
      " id\\_func25        & Ferramentas|-|GitLab                                                      & JR            \\\\\n",
      " id\\_func29        & Competências Comportamentais|-|Resolução de Problemas                     & JR            \\\\\n",
      " id\\_func29        & Ferramentas|-|Cucumber                                                    & JR            \\\\\n",
      " id\\_func3         & Ferramentas|-|BEAT                                                        & JR            \\\\\n",
      " id\\_func3         & Ferramentas|-|UI Automator                                                & JR            \\\\\n",
      " id\\_func3         & Competências Comportamentais|-|Resolução de Problemas                     & JR            \\\\\n",
      " id\\_func3         & Linguagens de Programação|-|Shell script                                  & JR            \\\\\n",
      " id\\_func30        & Ferramentas|-|Artifactory                                                 & TR            \\\\\n",
      " id\\_func30        & Ferramentas|-|NUnit                                                       & TR            \\\\\n",
      " id\\_func30        & Ferramentas|-|SoapUI                                                      & TR            \\\\\n",
      " id\\_func30        & Competências Técnicas|Quality Assurance|Teste de Realidade Aumentada (AR) & TR            \\\\\n",
      " id\\_func30        & Ferramentas|-|Inspect                                                     & TR            \\\\\n",
      " id\\_func30        & Ferramentas|-|BEAT                                                        & TR            \\\\\n",
      " id\\_func32        & Linguagens de Programação|-|Flutter                                       & ESTAG         \\\\\n",
      " id\\_func32        & Linguagens de Programação|-|Kotlin                                        & ESTAG         \\\\\n",
      " id\\_func32        & Competências Comportamentais|-|Proatividade                               & ESTAG         \\\\\n",
      " id\\_func39        & Competências Comportamentais|-|Resolução de Problemas                     & JR            \\\\\n",
      " id\\_func4         & Ferramentas|-|Gatling                                                     & JR            \\\\\n",
      " id\\_func4         & Competências Técnicas|Quality Assurance|Teste mobile 5G                   & JR            \\\\\n",
      " id\\_func4         & Competências Comportamentais|-|Coerencia                                  & JR            \\\\\n",
      " id\\_func4         & Competências Técnicas|Quality Assurance|Teste mobile IMS                  & JR            \\\\\n",
      " id\\_func40        & Competências Comportamentais|-|Proatividade                               & ESTAG         \\\\\n",
      " id\\_func42        & Competências Comportamentais|-|Proatividade                               & JR            \\\\\n",
      " id\\_func42        & Competências Comportamentais|-|Resolução de Problemas                     & JR            \\\\\n",
      " id\\_func43        & Ferramentas|-|GitHub                                                      & JR            \\\\\n",
      " id\\_func43        & Competências Técnicas|Quality Assurance|Behavior Driven Development       & JR            \\\\\n",
      " id\\_func43        & Ferramentas|-|Jbehave                                                     & JR            \\\\\n",
      " id\\_func43        & Ferramentas|-|JMeter                                                      & JR            \\\\\n",
      " id\\_func43        & Ferramentas|-|Windows App Driver                                          & JR            \\\\\n",
      " id\\_func43        & Ferramentas|-|JUnit                                                       & JR            \\\\\n",
      " id\\_func43        & Competências Técnicas|Quality Assurance|Teste em ambiente Linux           & JR            \\\\\n",
      " id\\_func43        & Ferramentas|-|NUnit                                                       & JR            \\\\\n",
      " id\\_func43        & Ferramentas|-|Sikuli                                                      & JR            \\\\\n",
      " id\\_func45        & Linguagens de Programação|-|Shell script                                  & JR            \\\\\n",
      " id\\_func45        & Linguagens de Programação|-|JSON                                          & JR            \\\\\n",
      " id\\_func45        & Ferramentas|-|BEAT                                                        & JR            \\\\\n",
      " id\\_func47        & Ferramentas|-|Gatling                                                     & ESTAG         \\\\\n",
      " id\\_func47        & Linguagens de Programação|-|Scala                                         & ESTAG         \\\\\n",
      " id\\_func48        & Competências Comportamentais|-|Comunicação                                & JR            \\\\\n",
      " id\\_func48        & Competências Comportamentais|-|Gestão de Conflitos                        & JR            \\\\\n",
      " id\\_func5         & Competências Técnicas|Quality Assurance|Teste mobile 5G                   & JR            \\\\\n",
      " id\\_func5         & Competências Comportamentais|-|Coerencia                                  & JR            \\\\\n",
      " id\\_func5         & Ferramentas|-|XD                                                          & JR            \\\\\n",
      " id\\_func5         & Ferramentas|-|UI Automator                                                & JR            \\\\\n",
      " id\\_func50        & Competências Técnicas|Quality Assurance|Teste de IA                       & TR            \\\\\n",
      " id\\_func52        & Ferramentas|-|Test Complete                                               & TR            \\\\\n",
      " id\\_func52        & Competências Técnicas|Quality Assurance|Teste de Realidade Aumentada (AR) & TR            \\\\\n",
      " id\\_func52        & Competências Comportamentais|-|Comunicação                                & TR            \\\\\n",
      " id\\_func52        & Ferramentas|-|Vyzor                                                       & TR            \\\\\n",
      " id\\_func52        & Competências Técnicas|Gestão de Projetos|Gestão de Custos                 & TR            \\\\\n",
      " id\\_func52        & Competências Técnicas|Gestão de Projetos|Gestão de Stakeholders           & TR            \\\\\n",
      " id\\_func52        & Competências Comportamentais|-|Gestão de Conflitos                        & TR            \\\\\n",
      " id\\_func53        & Competências Comportamentais|-|Proatividade                               & JR            \\\\\n",
      " id\\_func53        & Competências Técnicas|Quality Assurance|Teste de IA                       & JR            \\\\\n",
      " id\\_func53        & Ferramentas|-|PowerBI                                                     & JR            \\\\\n",
      " id\\_func55        & Competências Comportamentais|-|Resolução de Problemas                     & TR            \\\\\n",
      " id\\_func56        & Ferramentas|-|Vyzor                                                       & JR            \\\\\n",
      " id\\_func58        & Ferramentas|-|Sikuli                                                      & JR            \\\\\n",
      " id\\_func6         & Competências Comportamentais|-|Proatividade                               & ESTAG         \\\\\n",
      " id\\_func6         & Competências Comportamentais|-|Visão Sistemica                            & ESTAG         \\\\\n",
      " id\\_func6         & Competências Comportamentais|-|Comunicação                                & ESTAG         \\\\\n",
      " id\\_func6         & Competências Técnicas|Quality Assurance|Teste mobile 5G                   & ESTAG         \\\\\n",
      " id\\_func7         & Ferramentas|-|Inspect                                                     & TR            \\\\\n",
      " id\\_func7         & Ferramentas|-|MSTest                                                      & TR            \\\\\n",
      " id\\_func7         & Ferramentas|-|UI Automator                                                & TR            \\\\\n",
      " id\\_func8         & Ferramentas|-|Automation Anywhere                                         & JR            \\\\\n",
      " id\\_func8         & Competências Comportamentais|-|Proatividade                               & JR            \\\\\n",
      " id\\_func8         & Competências Comportamentais|-|Resolução de Problemas                     & JR            \\\\\n",
      " id\\_func8         & Competências Comportamentais|-|Coerencia                                  & JR            \\\\\n",
      " id\\_func8         & Ferramentas|-|Brity RPA                                                   & JR            \\\\\n",
      " id\\_func8         & Competências Técnicas|Quality Assurance|Teste de Machine Learning         & JR            \\\\\n",
      " id\\_func9         & Competências Técnicas|Quality Assurance|Teste de IA                       & JR            \\\\\n",
      " id\\_func9         & Ferramentas|-|BEAT                                                        & JR            \\\\\n",
      "\\hline\n"
     ]
    },
    {
     "name": "stdout",
     "output_type": "stream",
     "text": [
      "\\end{tabular}\n"
     ]
    }
   ],
   "source": [
    "# Identifica potenciais anomalias nos TopTesters, se Senioridade for ESTAG, TR ou JR\n",
    "TargetSeniority = \"Senioridade == 'ESTAG' or Senioridade == 'TR' or Senioridade == 'JR'\"\n",
    "TopTestersAnomalies = TopTesters[['ID', 'UniqueSkill']].copy()\n",
    "TopTestersAnomalies['Senioridade'] = TopTestersAnomalies.apply(lambda row: FindSeniority(row['ID']), axis=1)\n",
    "qry = TopTestersAnomalies.sort_values(by='ID').query(TargetSeniority)\n",
    "print(tabulate(qry, headers=['ID Colaborador', 'Skill', 'Senioridade'], tablefmt='latex', numalign='center', floatfmt=\".1f\", showindex=False))\n",
    "qry.to_excel(f\"{pkgdir}\\Lista_TopTesters_Anomalies_{datestamp}.xlsx\", index=False) # salvando em um arquivo"
   ]
  },
  {
   "cell_type": "markdown",
   "metadata": {},
   "source": [
    "Dado um tester ($tester_i$) de senioridade ($Senioridade_j$) que trabalha em um projeto ($Proj_k$), quais os skills ($SK_l$) que ele já tem no nível adequado e quais eles precisa desenvolver?"
   ]
  },
  {
   "cell_type": "code",
   "execution_count": 59,
   "metadata": {},
   "outputs": [],
   "source": [
    "# Função que converte de um valor numérico de nível de Skill para a classe\n",
    "def ConvertSkillNum2Class (value):\n",
    "    if np.isnan(value):\n",
    "        return 'Não Avaliado'\n",
    "    elif value<=2:\n",
    "        return 'Leigo'\n",
    "    elif value>2 and value<=3:\n",
    "        return 'Novato'\n",
    "    elif value>3 and value<=4:\n",
    "        return 'Praticante'\n",
    "    elif value>4 and value<=5:\n",
    "        return 'Expert'    "
   ]
  },
  {
   "cell_type": "code",
   "execution_count": 60,
   "metadata": {},
   "outputs": [],
   "source": [
    "# Função que converte de uma classe de Skill para uma avalicação numérica\n",
    "def ConvertSkillClass2Num (classe):\n",
    "    if classe == 'Leigo':\n",
    "        return 2\n",
    "    elif classe == 'Novato':\n",
    "        return 3\n",
    "    elif classe == 'Praticante':\n",
    "        return 4\n",
    "    elif classe == 'Expert':\n",
    "        return 5\n",
    "    elif classe == 'Grupo':\n",
    "        return 0"
   ]
  },
  {
   "cell_type": "code",
   "execution_count": 61,
   "metadata": {},
   "outputs": [],
   "source": [
    "# Função que retorna a diferença de gap e uma mensagem para a ação a ser tomada\n",
    "def GetGapScore (demandado, ofertado):\n",
    "    if demandado=='Grupo':\n",
    "        return [0,'Possibilidade de desenvolvimento extra. Validar a autoavaliação/Traçar plano.']\n",
    "    elif ofertado=='Não Avaliado':\n",
    "        return [0,'Solicitar autoavaliação']\n",
    "    elif ConvertSkillClass2Num(demandado)<=ConvertSkillClass2Num(ofertado):\n",
    "        return [0,'Nível adequado. Validar a autoavaliação.']\n",
    "    elif ConvertSkillClass2Num(demandado)>ConvertSkillClass2Num(ofertado):\n",
    "        return [ConvertSkillClass2Num(demandado)-ConvertSkillClass2Num(ofertado),'Traçar plano de desenvolvimento.']"
   ]
  },
  {
   "cell_type": "code",
   "execution_count": 62,
   "metadata": {},
   "outputs": [],
   "source": [
    "ListGapAnalysis = []\n",
    "for tester in Testers['ID']:\n",
    "    Senioridade = Testers.loc[Testers['ID']==tester,'Senioridade'].values[0]\n",
    "    Proj = Testers.loc[Testers['ID']==tester,'Projeto'].values[0]\n",
    "    if Senioridade == 'COOR':\n",
    "        ListaSkillDemandado = ListaSkillDemandado=DemandaSkillCoord['UniqueSkill']\n",
    "        for skill in ListaSkillDemandado:\n",
    "            NivelDemandado = DemandaSkillCoord.loc[DemandaSkillCoord['UniqueSkill']==skill,Proj].values[0]\n",
    "            NivelOfertado = ConvertSkillNum2Class(FotoSkills.loc[FotoSkills['UniqueSkill']==skill,tester].values[0])\n",
    "            GapScore, Acao = GetGapScore(NivelDemandado, NivelOfertado)\n",
    "            ListGapAnalysis.append([tester,Proj,skill,NivelDemandado,NivelOfertado,GapScore,Acao,''])\n",
    "    else:\n",
    "        ListaSkillDemandado = DemandaSkillTesters.loc[DemandaSkillTesters['Projeto']==Proj,'UniqueSkill']\n",
    "        SenioridadeAjustada = 'JR' if (Senioridade=='ESTAG' or Senioridade=='TR') else Senioridade\n",
    "        for skill in ListaSkillDemandado:\n",
    "            NivelDemandado = DemandaSkillTesters.loc[(DemandaSkillTesters['UniqueSkill']==skill) & (DemandaSkillTesters['Projeto']==Proj),SenioridadeAjustada].values[0]\n",
    "            NivelOfertado = ConvertSkillNum2Class(FotoSkills.loc[FotoSkills['UniqueSkill']==skill,tester].values[0])\n",
    "            GapScore, Acao = GetGapScore(NivelDemandado, NivelOfertado)\n",
    "            ListGapAnalysis.append([tester,Proj,skill,NivelDemandado,NivelOfertado,GapScore,Acao,''])\n",
    "            "
   ]
  },
  {
   "cell_type": "code",
   "execution_count": 63,
   "metadata": {},
   "outputs": [],
   "source": [
    "# Inicializando um dataframe para armazenar a estrutura de dados a ser utilizada na análise\n",
    "col_names =  ['ID', 'Projeto', 'UniqueSkill', 'NivelDemandado', 'NivelOfertado', 'GapScore', 'Ação', 'Plano']\n",
    "GapAnalysis = pd.DataFrame(ListGapAnalysis, columns = col_names)"
   ]
  },
  {
   "cell_type": "code",
   "execution_count": 64,
   "metadata": {},
   "outputs": [
    {
     "name": "stdout",
     "output_type": "stream",
     "text": [
      ">>>>>> Salvando planilha: GapAnalysis_id_func1_20201226.xlsx\n",
      ">>>>>> Salvando planilha: GapAnalysis_id_func2_20201226.xlsx\n",
      ">>>>>> Salvando planilha: GapAnalysis_id_func3_20201226.xlsx\n",
      ">>>>>> Salvando planilha: GapAnalysis_id_func4_20201226.xlsx\n",
      ">>>>>> Salvando planilha: GapAnalysis_id_func5_20201226.xlsx\n",
      ">>>>>> Salvando planilha: GapAnalysis_id_func6_20201226.xlsx\n",
      ">>>>>> Salvando planilha: GapAnalysis_id_func7_20201226.xlsx\n",
      ">>>>>> Salvando planilha: GapAnalysis_id_func8_20201226.xlsx\n",
      ">>>>>> Salvando planilha: GapAnalysis_id_func9_20201226.xlsx\n",
      ">>>>>> Salvando planilha: GapAnalysis_id_func10_20201226.xlsx\n",
      ">>>>>> Salvando planilha: GapAnalysis_id_func11_20201226.xlsx\n",
      ">>>>>> Salvando planilha: GapAnalysis_id_func12_20201226.xlsx\n",
      ">>>>>> Salvando planilha: GapAnalysis_id_func13_20201226.xlsx\n",
      ">>>>>> Salvando planilha: GapAnalysis_id_func14_20201226.xlsx\n",
      ">>>>>> Salvando planilha: GapAnalysis_id_func15_20201226.xlsx\n",
      ">>>>>> Salvando planilha: GapAnalysis_id_func16_20201226.xlsx\n",
      ">>>>>> Salvando planilha: GapAnalysis_id_func17_20201226.xlsx\n",
      ">>>>>> Salvando planilha: GapAnalysis_id_func18_20201226.xlsx\n",
      ">>>>>> Salvando planilha: GapAnalysis_id_func19_20201226.xlsx\n",
      ">>>>>> Salvando planilha: GapAnalysis_id_func20_20201226.xlsx\n",
      ">>>>>> Salvando planilha: GapAnalysis_id_func21_20201226.xlsx\n",
      ">>>>>> Salvando planilha: GapAnalysis_id_func22_20201226.xlsx\n",
      ">>>>>> Salvando planilha: GapAnalysis_id_func23_20201226.xlsx\n",
      ">>>>>> Salvando planilha: GapAnalysis_id_func24_20201226.xlsx\n",
      ">>>>>> Salvando planilha: GapAnalysis_id_func25_20201226.xlsx\n",
      ">>>>>> Salvando planilha: GapAnalysis_id_func26_20201226.xlsx\n",
      ">>>>>> Salvando planilha: GapAnalysis_id_func27_20201226.xlsx\n",
      ">>>>>> Salvando planilha: GapAnalysis_id_func28_20201226.xlsx\n",
      ">>>>>> Salvando planilha: GapAnalysis_id_func29_20201226.xlsx\n",
      ">>>>>> Salvando planilha: GapAnalysis_id_func30_20201226.xlsx\n",
      ">>>>>> Salvando planilha: GapAnalysis_id_func31_20201226.xlsx\n",
      ">>>>>> Salvando planilha: GapAnalysis_id_func32_20201226.xlsx\n",
      ">>>>>> Salvando planilha: GapAnalysis_id_func33_20201226.xlsx\n",
      ">>>>>> Salvando planilha: GapAnalysis_id_func34_20201226.xlsx\n",
      ">>>>>> Salvando planilha: GapAnalysis_id_func35_20201226.xlsx\n",
      ">>>>>> Salvando planilha: GapAnalysis_id_func36_20201226.xlsx\n",
      ">>>>>> Salvando planilha: GapAnalysis_id_func37_20201226.xlsx\n",
      ">>>>>> Salvando planilha: GapAnalysis_id_func38_20201226.xlsx\n",
      ">>>>>> Salvando planilha: GapAnalysis_id_func39_20201226.xlsx\n",
      ">>>>>> Salvando planilha: GapAnalysis_id_func40_20201226.xlsx\n",
      ">>>>>> Salvando planilha: GapAnalysis_id_func41_20201226.xlsx\n",
      ">>>>>> Salvando planilha: GapAnalysis_id_func42_20201226.xlsx\n",
      ">>>>>> Salvando planilha: GapAnalysis_id_func43_20201226.xlsx\n",
      ">>>>>> Salvando planilha: GapAnalysis_id_func44_20201226.xlsx\n",
      ">>>>>> Salvando planilha: GapAnalysis_id_func45_20201226.xlsx\n",
      ">>>>>> Salvando planilha: GapAnalysis_id_func46_20201226.xlsx\n",
      ">>>>>> Salvando planilha: GapAnalysis_id_func47_20201226.xlsx\n",
      ">>>>>> Salvando planilha: GapAnalysis_id_func48_20201226.xlsx\n",
      ">>>>>> Salvando planilha: GapAnalysis_id_func49_20201226.xlsx\n",
      ">>>>>> Salvando planilha: GapAnalysis_id_func50_20201226.xlsx\n",
      ">>>>>> Salvando planilha: GapAnalysis_id_func51_20201226.xlsx\n",
      ">>>>>> Salvando planilha: GapAnalysis_id_func52_20201226.xlsx\n",
      ">>>>>> Salvando planilha: GapAnalysis_id_func53_20201226.xlsx\n",
      ">>>>>> Salvando planilha: GapAnalysis_id_func54_20201226.xlsx\n",
      ">>>>>> Salvando planilha: GapAnalysis_id_func55_20201226.xlsx\n",
      ">>>>>> Salvando planilha: GapAnalysis_id_func56_20201226.xlsx\n",
      ">>>>>> Salvando planilha: GapAnalysis_id_func57_20201226.xlsx\n",
      ">>>>>> Salvando planilha: GapAnalysis_id_func58_20201226.xlsx\n"
     ]
    }
   ],
   "source": [
    "# Salva para cada testador uma planilha de análise de gap de skill (a ser usada como suporte para Plano de Desenvolvimento Individual)\n",
    "for tester in Testers['ID']:\n",
    "    sheet_toptester = TopTesters.loc[TopTesters['ID']==tester,['UniqueSkill', 'Autoavaliação', 'LimiteIQR', 'Ação']]\n",
    "    sheet_gapanalysis = GapAnalysis.loc[GapAnalysis['ID']==tester,['ID','Projeto','UniqueSkill','NivelDemandado','NivelOfertado','GapScore','Ação','Plano']]\n",
    "    sheet_gapanalysis.sort_values(by=['GapScore','Ação'], ascending=[False,True], inplace=True)\n",
    "    with pd.ExcelWriter(f'{pkgdir}\\GapAnalysis_{tester}_{datestamp}.xlsx') as writer:  \n",
    "        sheet_toptester.to_excel(writer, sheet_name='TopTester', index=False)\n",
    "        sheet_gapanalysis.to_excel(writer, sheet_name='GapAnalysis', index=False)    \n",
    "    print(f'>>>>>> Salvando planilha: GapAnalysis_{tester}_{datestamp}.xlsx')  \n"
   ]
  },
  {
   "cell_type": "markdown",
   "metadata": {},
   "source": [
    "Identificando as **top 10 skills** que apresentam maior gap acumulado entre demandado e ofertado no time de QA:"
   ]
  },
  {
   "cell_type": "code",
   "execution_count": 65,
   "metadata": {
    "scrolled": false
   },
   "outputs": [
    {
     "data": {
      "text/plain": [
       "<matplotlib.axes._subplots.AxesSubplot at 0x1ccbd4e6c88>"
      ]
     },
     "execution_count": 65,
     "metadata": {},
     "output_type": "execute_result"
    },
    {
     "data": {
      "image/png": "[encoded data removed]",
      "text/plain": [
       "<Figure size 432x288 with 1 Axes>"
      ]
     },
     "metadata": {
      "needs_background": "light"
     },
     "output_type": "display_data"
    }
   ],
   "source": [
    "Top = True # Se True, indica as top, se False indica as bottom.\n",
    "TopN = 10\n",
    "GapAnalysis.groupby('UniqueSkill')['GapScore'].sum().sort_values(ascending = not Top).head(TopN).sort_values().plot(kind='barh', sort_columns=True, legend = False, title='Gap Score Acumulado')"
   ]
  },
  {
   "cell_type": "code",
   "execution_count": 66,
   "metadata": {},
   "outputs": [
    {
     "name": "stdout",
     "output_type": "stream",
     "text": [
      "╒═══════════════════════════════════════════════════════════════════════╤═════════════╕\n",
      "│ UniqueSkill                                                           │  Gap Score  │\n",
      "╞═══════════════════════════════════════════════════════════════════════╪═════════════╡\n",
      "│ Competências Técnicas|Quality Assurance|Teste de sistema              │     64      │\n",
      "├───────────────────────────────────────────────────────────────────────┼─────────────┤\n",
      "│ Competências Técnicas|Quality Assurance|Design de testes              │     58      │\n",
      "├───────────────────────────────────────────────────────────────────────┼─────────────┤\n",
      "│ Competências Técnicas|Quality Assurance|Teste de sanidade             │     56      │\n",
      "├───────────────────────────────────────────────────────────────────────┼─────────────┤\n",
      "│ Competências Técnicas|Gestão de Projetos|Gestão da Qualidade          │     56      │\n",
      "├───────────────────────────────────────────────────────────────────────┼─────────────┤\n",
      "│ Competências Técnicas|Quality Assurance|EDA (Escaped Defect Analysis) │     52      │\n",
      "├───────────────────────────────────────────────────────────────────────┼─────────────┤\n",
      "│ Competências Técnicas|Quality Assurance|Teste de aceitação            │     52      │\n",
      "├───────────────────────────────────────────────────────────────────────┼─────────────┤\n",
      "│ Competências Técnicas|Quality Assurance|Teste de acessibilidade       │     47      │\n",
      "├───────────────────────────────────────────────────────────────────────┼─────────────┤\n",
      "│ Competências Técnicas|Quality Assurance|Teste de regressão            │     46      │\n",
      "├───────────────────────────────────────────────────────────────────────┼─────────────┤\n",
      "│ Competências Técnicas|Quality Assurance|Automação de teste            │     44      │\n",
      "├───────────────────────────────────────────────────────────────────────┼─────────────┤\n",
      "│ Competências Técnicas|Quality Assurance|Teste funcional               │     44      │\n",
      "╘═══════════════════════════════════════════════════════════════════════╧═════════════╛\n"
     ]
    }
   ],
   "source": [
    "# Formatando tabela - no tablefmt use 'fancy_grid', 'pretty' ou 'latex'\n",
    "qry = GapAnalysis.groupby('UniqueSkill')['GapScore'].sum().sort_values(ascending = not Top).head(TopN)\n",
    "qry = qry.to_frame()\n",
    "print(tabulate(qry, headers=['UniqueSkill', 'Gap Score'], tablefmt='fancy_grid', numalign='center', floatfmt=\".0f\"))"
   ]
  },
  {
   "cell_type": "markdown",
   "metadata": {},
   "source": [
    "Identifique os maiores gaps entre demandado e ofertado por projeto:"
   ]
  },
  {
   "cell_type": "code",
   "execution_count": 67,
   "metadata": {},
   "outputs": [],
   "source": [
    "# Cria um arquivo GapTotal_PorProjeto_<datestamp>.xlsx\n",
    "data=pd.DataFrame({'GapScore' : GapAnalysis.loc[GapAnalysis['GapScore']>0].groupby(['Projeto', 'UniqueSkill'])['GapScore'].sum()}).reset_index()\n",
    "data.sort_values(by=['Projeto','GapScore','UniqueSkill'], ascending=[True,False,True], inplace=True)\n",
    "data.to_excel(f'{pkgdir}\\GapTotal_PorProjeto_{datestamp}.xlsx', index=False)"
   ]
  },
  {
   "cell_type": "code",
   "execution_count": 68,
   "metadata": {},
   "outputs": [
    {
     "name": "stdout",
     "output_type": "stream",
     "text": [
      "\\begin{tabular}{llc}\n",
      "\\hline\n",
      " Projeto   & UniqueSkill                                                                          &  GapScore  \\\\\n",
      "\\hline\n",
      " Proj1     & Competências Técnicas|Gestão de Projetos|Gestão da Qualidade                         &     41     \\\\\n",
      " Proj1     & Competências Técnicas|Quality Assurance|Design de testes                             &     40     \\\\\n",
      " Proj1     & Ferramentas|-|BEAT                                                                   &     37     \\\\\n",
      " Proj1     & Competências Técnicas|Quality Assurance|Automação de teste                           &     36     \\\\\n",
      " Proj1     & Competências Técnicas|Quality Assurance|EDA (Escaped Defect Analysis)                &     36     \\\\\n",
      " Proj1     & Competências Técnicas|Quality Assurance|Teste de regressão                           &     35     \\\\\n",
      " Proj1     & Competências Técnicas|Quality Assurance|Teste de acessibilidade                      &     34     \\\\\n",
      " Proj1     & Competências Técnicas|Quality Assurance|Teste de sanidade                            &     33     \\\\\n",
      " Proj1     & Competências Técnicas|Quality Assurance|Teste de sistema                             &     33     \\\\\n",
      " Proj1     & Ferramentas|-|Perforce                                                               &     33     \\\\\n",
      " Proj1     & Competências Técnicas|Quality Assurance|Teste de aceitação                           &     30     \\\\\n",
      " Proj1     & Competências Técnicas|Quality Assurance|Teste de user trial                          &     30     \\\\\n",
      " Proj1     & Ferramentas|-|DMZ                                                                    &     27     \\\\\n",
      " Proj1     & Competências Técnicas|Quality Assurance|Teste de usabilidade                         &     26     \\\\\n",
      " Proj1     & Competências Técnicas|Quality Assurance|Teste de compatibilidade                     &     25     \\\\\n",
      " Proj1     & Competências Técnicas|Quality Assurance|Scripts de teste manual                      &     24     \\\\\n",
      " Proj1     & Competências Técnicas|Quality Assurance|Teste de Machine Learning                    &     24     \\\\\n",
      " Proj1     & Ferramentas|-|CodeBeamer                                                             &     24     \\\\\n",
      " Proj1     & Competências Técnicas|Gestão de Projetos|Gestão de Cronograma                        &     23     \\\\\n",
      " Proj1     & Competências Técnicas|Quality Assurance|Teste em sistema operacional Android         &     23     \\\\\n",
      " Proj1     & Competências Técnicas|Quality Assurance|Testes exploratórios                         &     23     \\\\\n",
      " Proj1     & Competências Técnicas|Gestão de Projetos|Gestão de Pessoas                           &     21     \\\\\n",
      " Proj1     & Competências Técnicas|Gestão de Projetos|Gestão de Riscos                            &     21     \\\\\n",
      " Proj1     & Competências Técnicas|Quality Assurance|Teste de integração                          &     21     \\\\\n",
      " Proj1     & Competências Técnicas|Quality Assurance|Teste funcional                              &     21     \\\\\n",
      " Proj1     & Ferramentas|-|PLM                                                                    &     20     \\\\\n",
      " Proj1     & Competências Técnicas|Quality Assurance|Teste de IA                                  &     19     \\\\\n",
      " Proj1     & Competências Técnicas|Quality Assurance|Teste de performance                         &     18     \\\\\n",
      " Proj1     & Competências Técnicas|Quality Assurance|Planejamento dos ciclos de teste             &     15     \\\\\n",
      " Proj1     & Competências Técnicas|Quality Assurance|Definição da estratégia de teste             &     13     \\\\\n",
      " Proj1     & Competências Técnicas|Quality Assurance|Análise de requisitos                        &     12     \\\\\n",
      " Proj1     & Ferramentas|-|Confluence                                                             &     12     \\\\\n",
      " Proj1     & Ferramentas|-|Jira                                                                   &     9      \\\\\n",
      " Proj1     & Competências Comportamentais|-|Coerencia                                             &     6      \\\\\n",
      " Proj1     & Competências Técnicas|Gestão de Projetos|Gestão de Escopo                            &     6      \\\\\n",
      " Proj1     & Competências Técnicas|Gestão de Projetos|Gestão de Métricas e indicadores            &     5      \\\\\n",
      " Proj1     & Competências Técnicas|Quality Assurance|Teste de software em desenvolvimento Cascata &     5      \\\\\n",
      " Proj1     & Competências Técnicas|Quality Assurance|Teste de software em desenvolvimento Kanban  &     5      \\\\\n",
      " Proj1     & Competências Técnicas|Quality Assurance|Teste de software em desenvolvimento Scrum   &     5      \\\\\n",
      " Proj1     & Competências Comportamentais|-|Auto Confiança                                        &     4      \\\\\n",
      " Proj1     & Competências Comportamentais|-|Flexibilidade                                         &     4      \\\\\n",
      " Proj1     & Competências Comportamentais|-|Gestão de Conflitos                                   &     4      \\\\\n",
      " Proj1     & Competências Comportamentais|-|Liderança                                             &     4      \\\\\n",
      " Proj1     & Competências Comportamentais|-|Negociação                                            &     4      \\\\\n",
      " Proj1     & Competências Comportamentais|-|Planejamento                                          &     4      \\\\\n",
      " Proj1     & Competências Comportamentais|-|Proatividade                                          &     4      \\\\\n",
      " Proj1     & Competências Comportamentais|-|Relacionamento Interpessoal                           &     4      \\\\\n",
      " Proj1     & Competências Técnicas|Gestão de Projetos|Gestão de Stakeholders                      &     4      \\\\\n",
      " Proj1     & Competências Comportamentais|-|Capacidade Analitica                                  &     3      \\\\\n",
      " Proj1     & Competências Comportamentais|-|Criatividade                                          &     3      \\\\\n",
      " Proj1     & Competências Comportamentais|-|Foco                                                  &     3      \\\\\n",
      " Proj1     & Competências Comportamentais|-|Organização                                           &     3      \\\\\n",
      " Proj1     & Competências Comportamentais|-|Resolução de Problemas                                &     3      \\\\\n",
      " Proj1     & Competências Técnicas|Quality Assurance|Matriz de cobertura                          &     3      \\\\\n",
      " Proj1     & Competências Comportamentais|-|Integridade                                           &     2      \\\\\n",
      " Proj1     & Competências Comportamentais|-|Visão Sistemica                                       &     2      \\\\\n",
      " Proj1     & Ferramentas|-|MS-Project                                                             &     2      \\\\\n",
      " Proj1     & Competências Comportamentais|-|Trabalho em Equipe                                    &     1      \\\\\n",
      " Proj2     & Competências Técnicas|Quality Assurance|Teste de contrato                            &     5      \\\\\n",
      " Proj2     & Competências Técnicas|Gestão de Projetos|Gestão de Métricas e indicadores            &     4      \\\\\n",
      " Proj2     & Competências Técnicas|Gestão de Projetos|Gestão de Riscos                            &     4      \\\\\n",
      " Proj2     & Competências Técnicas|Quality Assurance|Matriz de cobertura                          &     4      \\\\\n",
      " Proj2     & Competências Técnicas|Quality Assurance|Teste de nuvem AWS                           &     4      \\\\\n",
      " Proj2     & Competências Técnicas|Quality Assurance|Teste de segurança                           &     4      \\\\\n",
      " Proj2     & Ferramentas|-|CircleCI                                                               &     4      \\\\\n",
      " Proj2     & Ferramentas|-|Cucumber                                                               &     4      \\\\\n",
      " Proj2     & Competências Técnicas|Gestão de Projetos|Gestão da Qualidade                         &     3      \\\\\n",
      " Proj2     & Competências Técnicas|Quality Assurance|EDA (Escaped Defect Analysis)                &     3      \\\\\n",
      " Proj2     & Competências Técnicas|Quality Assurance|Teste de banco de dados                      &     3      \\\\\n",
      " Proj2     & Competências Técnicas|Quality Assurance|Teste de compatibilidade                     &     3      \\\\\n",
      " Proj2     & Linguagens de Programação|-|Scala                                                    &     3      \\\\\n",
      " Proj2     & Competências Comportamentais|-|Auto Confiança                                        &     2      \\\\\n",
      " Proj2     & Competências Técnicas|Quality Assurance|Automação de teste                           &     2      \\\\\n",
      " Proj2     & Competências Técnicas|Quality Assurance|Definição da estratégia de teste             &     2      \\\\\n",
      " Proj2     & Competências Técnicas|Quality Assurance|Design de testes                             &     2      \\\\\n",
      " Proj2     & Competências Técnicas|Quality Assurance|Teste de API                                 &     2      \\\\\n",
      " Proj2     & Competências Técnicas|Quality Assurance|Teste de IA                                  &     2      \\\\\n",
      " Proj2     & Competências Técnicas|Quality Assurance|Teste de Machine Learning                    &     2      \\\\\n",
      " Proj2     & Competências Técnicas|Quality Assurance|Teste de aceitação                           &     2      \\\\\n",
      " Proj2     & Competências Técnicas|Quality Assurance|Teste de integração                          &     2      \\\\\n",
      " Proj2     & Competências Técnicas|Quality Assurance|Teste de sistema                             &     2      \\\\\n",
      " Proj2     & Competências Técnicas|Quality Assurance|Teste de soluções web                        &     2      \\\\\n",
      " Proj2     & Linguagens de Programação|-|Javascript                                               &     2      \\\\\n",
      " Proj2     & Competências Técnicas|Gestão de Projetos|Gestão de Cronograma                        &     1      \\\\\n",
      " Proj2     & Competências Técnicas|Gestão de Projetos|Gestão de Custos                            &     1      \\\\\n",
      " Proj2     & Competências Técnicas|Gestão de Projetos|Gestão de Pessoas                           &     1      \\\\\n",
      " Proj2     & Competências Técnicas|Quality Assurance|Análise de requisitos                        &     1      \\\\\n",
      " Proj2     & Competências Técnicas|Quality Assurance|Planejamento dos ciclos de teste             &     1      \\\\\n",
      " Proj2     & Competências Técnicas|Quality Assurance|Teste de acessibilidade                      &     1      \\\\\n",
      " Proj2     & Competências Técnicas|Quality Assurance|Teste de carga                               &     1      \\\\\n",
      " Proj2     & Competências Técnicas|Quality Assurance|Teste de performance                         &     1      \\\\\n",
      " Proj2     & Competências Técnicas|Quality Assurance|Teste de sanidade                            &     1      \\\\\n",
      " Proj2     & Competências Técnicas|Quality Assurance|Teste em sistema operacional Android         &     1      \\\\\n",
      " Proj2     & Competências Técnicas|Quality Assurance|Teste funcional                              &     1      \\\\\n",
      " Proj2     & Competências Técnicas|Quality Assurance|Testes exploratórios                         &     1      \\\\\n",
      " Proj2     & Ferramentas|-|Confluence                                                             &     1      \\\\\n",
      " Proj2     & Ferramentas|-|DMZ                                                                    &     1      \\\\\n",
      " Proj2     & Ferramentas|-|GIT                                                                    &     1      \\\\\n",
      " Proj2     & Ferramentas|-|Gatling                                                                &     1      \\\\\n",
      " Proj2     & Ferramentas|-|GitHub                                                                 &     1      \\\\\n",
      " Proj2     & Ferramentas|-|TM4J                                                                   &     1      \\\\\n",
      " Proj3     & Competências Técnicas|Gestão de Projetos|Gestão da Qualidade                         &     3      \\\\\n",
      " Proj3     & Competências Técnicas|Gestão de Projetos|Gestão de Métricas e indicadores            &     3      \\\\\n",
      " Proj3     & Competências Técnicas|Gestão de Projetos|Gestão de Riscos                            &     3      \\\\\n",
      " Proj3     & Competências Técnicas|Quality Assurance|Teste de IA                                  &     3      \\\\\n",
      " Proj3     & Competências Técnicas|Quality Assurance|Teste de banco de dados                      &     3      \\\\\n",
      " Proj3     & Ferramentas|-|Android Profiler                                                       &     3      \\\\\n",
      " Proj3     & Ferramentas|-|Bitbucket                                                              &     3      \\\\\n",
      " Proj3     & Ferramentas|-|Jenkins                                                                &     3      \\\\\n",
      " Proj3     & Competências Comportamentais|-|Gestão de Conflitos                                   &     2      \\\\\n",
      " Proj3     & Competências Comportamentais|-|Negociação                                            &     2      \\\\\n",
      " Proj3     & Competências Comportamentais|-|Visão Sistemica                                       &     2      \\\\\n",
      " Proj3     & Competências Técnicas|Gestão de Projetos|Gestão de Cronograma                        &     2      \\\\\n",
      " Proj3     & Competências Técnicas|Gestão de Projetos|Gestão de Custos                            &     2      \\\\\n",
      " Proj3     & Competências Técnicas|Gestão de Projetos|Gestão de Pessoas                           &     2      \\\\\n",
      " Proj3     & Competências Técnicas|Quality Assurance|Automação de teste                           &     2      \\\\\n",
      " Proj3     & Competências Técnicas|Quality Assurance|Teste de sistema                             &     2      \\\\\n",
      " Proj3     & Linguagens de Programação|-|Python                                                   &     2      \\\\\n",
      " Proj3     & Competências Comportamentais|-|Auto Confiança                                        &     1      \\\\\n",
      " Proj3     & Competências Comportamentais|-|Coerencia                                             &     1      \\\\\n",
      " Proj3     & Competências Comportamentais|-|Comunicação                                           &     1      \\\\\n",
      " Proj3     & Competências Comportamentais|-|Criatividade                                          &     1      \\\\\n",
      " Proj3     & Competências Comportamentais|-|Flexibilidade                                         &     1      \\\\\n",
      " Proj3     & Competências Comportamentais|-|Integridade                                           &     1      \\\\\n",
      " Proj3     & Competências Comportamentais|-|Liderança                                             &     1      \\\\\n",
      " Proj3     & Competências Comportamentais|-|Organização                                           &     1      \\\\\n",
      " Proj3     & Competências Comportamentais|-|Planejamento                                          &     1      \\\\\n",
      " Proj3     & Competências Comportamentais|-|Proatividade                                          &     1      \\\\\n",
      " Proj3     & Competências Comportamentais|-|Relacionamento Interpessoal                           &     1      \\\\\n",
      " Proj3     & Competências Comportamentais|-|Resolução de Problemas                                &     1      \\\\\n",
      " Proj3     & Competências Técnicas|Quality Assurance|Análise de requisitos                        &     1      \\\\\n",
      " Proj3     & Competências Técnicas|Quality Assurance|Definição da estratégia de teste             &     1      \\\\\n",
      " Proj3     & Competências Técnicas|Quality Assurance|Design de testes                             &     1      \\\\\n",
      " Proj3     & Competências Técnicas|Quality Assurance|EDA (Escaped Defect Analysis)                &     1      \\\\\n",
      " Proj3     & Competências Técnicas|Quality Assurance|Matriz de cobertura                          &     1      \\\\\n",
      " Proj3     & Competências Técnicas|Quality Assurance|Planejamento dos ciclos de teste             &     1      \\\\\n",
      " Proj3     & Competências Técnicas|Quality Assurance|Teste de aceitação                           &     1      \\\\\n",
      " Proj3     & Competências Técnicas|Quality Assurance|Teste de integração                          &     1      \\\\\n",
      " Proj3     & Competências Técnicas|Quality Assurance|Teste de performance                         &     1      \\\\\n",
      " Proj3     & Competências Técnicas|Quality Assurance|Teste de software em desenvolvimento Scrum   &     1      \\\\\n",
      " Proj3     & Competências Técnicas|Quality Assurance|Teste funcional                              &     1      \\\\\n",
      " Proj3     & Ferramentas|-|Appium                                                                 &     1      \\\\\n",
      " Proj3     & Ferramentas|-|Confluence                                                             &     1      \\\\\n",
      " Proj3     & Ferramentas|-|DMZ                                                                    &     1      \\\\\n",
      " Proj3     & Ferramentas|-|Jira                                                                   &     1      \\\\\n",
      " Proj3     & Ferramentas|-|TM4J                                                                   &     1      \\\\\n",
      " Proj4     & Competências Comportamentais|-|Criatividade                                          &     2      \\\\\n",
      " Proj4     & Competências Comportamentais|-|Negociação                                            &     2      \\\\\n",
      " Proj4     & Competências Técnicas|Gestão de Projetos|Gestão da Qualidade                         &     2      \\\\\n",
      " Proj4     & Competências Técnicas|Gestão de Projetos|Gestão de Métricas e indicadores            &     2      \\\\\n",
      " Proj4     & Competências Técnicas|Gestão de Projetos|Gestão de Riscos                            &     2      \\\\\n",
      " Proj4     & Competências Técnicas|Quality Assurance|Teste de IA                                  &     2      \\\\\n",
      " Proj4     & Ferramentas|-|Appium                                                                 &     2      \\\\\n",
      " Proj4     & Ferramentas|-|Jenkins                                                                &     2      \\\\\n",
      " Proj4     & Linguagens de Programação|-|Python                                                   &     2      \\\\\n",
      " Proj4     & Competências Comportamentais|-|Auto Confiança                                        &     1      \\\\\n",
      " Proj4     & Competências Comportamentais|-|Capacidade Analitica                                  &     1      \\\\\n",
      " Proj4     & Competências Comportamentais|-|Comunicação                                           &     1      \\\\\n",
      " Proj4     & Competências Comportamentais|-|Liderança                                             &     1      \\\\\n",
      " Proj4     & Competências Técnicas|Gestão de Projetos|Gestão de Cronograma                        &     1      \\\\\n",
      " Proj4     & Competências Técnicas|Gestão de Projetos|Gestão de Custos                            &     1      \\\\\n",
      " Proj4     & Competências Técnicas|Gestão de Projetos|Gestão de Pessoas                           &     1      \\\\\n",
      " Proj4     & Competências Técnicas|Quality Assurance|Automação de teste                           &     1      \\\\\n",
      " Proj4     & Competências Técnicas|Quality Assurance|Definição da estratégia de teste             &     1      \\\\\n",
      " Proj4     & Competências Técnicas|Quality Assurance|Design de testes                             &     1      \\\\\n",
      " Proj4     & Competências Técnicas|Quality Assurance|Matriz de cobertura                          &     1      \\\\\n",
      " Proj4     & Competências Técnicas|Quality Assurance|Planejamento dos ciclos de teste             &     1      \\\\\n",
      " Proj4     & Competências Técnicas|Quality Assurance|Teste de banco de dados                      &     1      \\\\\n",
      " Proj4     & Competências Técnicas|Quality Assurance|Teste de performance                         &     1      \\\\\n",
      " Proj4     & Ferramentas|-|Android Profiler                                                       &     1      \\\\\n",
      " Proj4     & Ferramentas|-|Bitbucket                                                              &     1      \\\\\n",
      " Proj4     & Ferramentas|-|TM4J                                                                   &     1      \\\\\n",
      " Proj5     & Competências Técnicas|Gestão de Projetos|Gestão da Qualidade                         &     2      \\\\\n",
      " Proj5     & Competências Técnicas|Gestão de Projetos|Gestão de Métricas e indicadores            &     2      \\\\\n",
      " Proj5     & Competências Técnicas|Gestão de Projetos|Gestão de Riscos                            &     2      \\\\\n",
      " Proj5     & Competências Técnicas|Quality Assurance|Matriz de cobertura                          &     2      \\\\\n",
      " Proj5     & Ferramentas|-|Android Profiler                                                       &     2      \\\\\n",
      " Proj5     & Competências Técnicas|Quality Assurance|Análise de requisitos                        &     1      \\\\\n",
      " Proj5     & Competências Técnicas|Quality Assurance|Definição da estratégia de teste             &     1      \\\\\n",
      " Proj5     & Competências Técnicas|Quality Assurance|Design de testes                             &     1      \\\\\n",
      " Proj5     & Competências Técnicas|Quality Assurance|EDA (Escaped Defect Analysis)                &     1      \\\\\n",
      " Proj5     & Competências Técnicas|Quality Assurance|Planejamento dos ciclos de teste             &     1      \\\\\n",
      " Proj5     & Competências Técnicas|Quality Assurance|Scripts de teste manual                      &     1      \\\\\n",
      " Proj5     & Competências Técnicas|Quality Assurance|Teste de Realidade Aumentada (AR)            &     1      \\\\\n",
      " Proj5     & Competências Técnicas|Quality Assurance|Teste de aceitação                           &     1      \\\\\n",
      " Proj5     & Competências Técnicas|Quality Assurance|Teste de acessibilidade                      &     1      \\\\\n",
      " Proj5     & Competências Técnicas|Quality Assurance|Teste de aplicativos/jogos                   &     1      \\\\\n",
      " Proj5     & Competências Técnicas|Quality Assurance|Teste de integração                          &     1      \\\\\n",
      " Proj5     & Competências Técnicas|Quality Assurance|Teste de regressão                           &     1      \\\\\n",
      " Proj5     & Competências Técnicas|Quality Assurance|Teste de sanidade                            &     1      \\\\\n",
      " Proj5     & Competências Técnicas|Quality Assurance|Teste de sistema                             &     1      \\\\\n",
      " Proj5     & Competências Técnicas|Quality Assurance|Teste de software em desenvolvimento Kanban  &     1      \\\\\n",
      " Proj5     & Competências Técnicas|Quality Assurance|Teste de usabilidade                         &     1      \\\\\n",
      " Proj5     & Competências Técnicas|Quality Assurance|Teste em sistema operacional Android         &     1      \\\\\n",
      " Proj5     & Competências Técnicas|Quality Assurance|Teste funcional                              &     1      \\\\\n",
      " Proj5     & Competências Técnicas|Quality Assurance|Testes exploratórios                         &     1      \\\\\n",
      " Proj5     & Ferramentas|-|GIT                                                                    &     1      \\\\\n",
      " Proj5     & Ferramentas|-|Gerrit                                                                 &     1      \\\\\n",
      " Proj6     & Ferramentas|-|Inspect                                                                &     27     \\\\\n",
      " Proj6     & Ferramentas|-|Appium                                                                 &     20     \\\\\n",
      " Proj6     & Competências Técnicas|Quality Assurance|Teste de soluções Windows                    &     18     \\\\\n",
      " Proj6     & Ferramentas|-|VS Code                                                                &     18     \\\\\n",
      " Proj6     & Ferramentas|-|Windows App Driver                                                     &     18     \\\\\n",
      " Proj6     & Competências Técnicas|Quality Assurance|Teste de aceitação                           &     17     \\\\\n",
      " Proj6     & Ferramentas|-|TM4J                                                                   &     17     \\\\\n",
      " Proj6     & Ferramentas|-|Confluence                                                             &     16     \\\\\n",
      " Proj6     & Ferramentas|-|Visual Studio                                                          &     16     \\\\\n",
      " Proj6     & Linguagens de Programação|-|C\\#                                                       &     16     \\\\\n",
      " Proj6     & Competências Técnicas|Quality Assurance|Teste de sanidade                            &     15     \\\\\n",
      " Proj6     & Competências Técnicas|Quality Assurance|Teste de software em desenvolvimento Kanban  &     15     \\\\\n",
      " Proj6     & Ferramentas|-|Jira                                                                   &     15     \\\\\n",
      " Proj6     & Ferramentas|-|MSTest                                                                 &     15     \\\\\n",
      " Proj6     & Ferramentas|-|XD                                                                     &     15     \\\\\n",
      " Proj6     & Competências Técnicas|Quality Assurance|Teste de sistema                             &     14     \\\\\n",
      " Proj6     & Competências Técnicas|Quality Assurance|Teste funcional                              &     14     \\\\\n",
      " Proj6     & Ferramentas|-|NUnit                                                                  &     14     \\\\\n",
      " Proj6     & Ferramentas|-|Zephyr                                                                 &     14     \\\\\n",
      " Proj6     & Competências Técnicas|Quality Assurance|Análise de requisitos                        &     13     \\\\\n",
      " Proj6     & Competências Técnicas|Quality Assurance|Matriz de cobertura                          &     13     \\\\\n",
      " Proj6     & Ferramentas|-|Artifactory                                                            &     13     \\\\\n",
      " Proj6     & Competências Técnicas|Quality Assurance|Teste de software em desenvolvimento Cascata &     11     \\\\\n",
      " Proj6     & Ferramentas|-|Sikuli                                                                 &     11     \\\\\n",
      " Proj6     & Competências Técnicas|Quality Assurance|Design de testes                             &     10     \\\\\n",
      " Proj6     & Competências Técnicas|Quality Assurance|Planejamento dos ciclos de teste             &     10     \\\\\n",
      " Proj6     & Competências Técnicas|Quality Assurance|Teste de acessibilidade                      &     10     \\\\\n",
      " Proj6     & Ferramentas|-|GIT                                                                    &     9      \\\\\n",
      " Proj6     & Competências Técnicas|Quality Assurance|Teste de performance                         &     8      \\\\\n",
      " Proj6     & Competências Técnicas|Quality Assurance|Teste de integração                          &     7      \\\\\n",
      " Proj6     & Competências Comportamentais|-|Criatividade                                          &     6      \\\\\n",
      " Proj6     & Competências Comportamentais|-|Gestão de Conflitos                                   &     6      \\\\\n",
      " Proj6     & Competências Técnicas|Quality Assurance|Teste de carga                               &     6      \\\\\n",
      " Proj6     & Ferramentas|-|Bitbucket                                                              &     6      \\\\\n",
      " Proj6     & Ferramentas|-|PLM                                                                    &     6      \\\\\n",
      " Proj6     & Competências Comportamentais|-|Auto Confiança                                        &     5      \\\\\n",
      " Proj6     & Competências Comportamentais|-|Capacidade Analitica                                  &     5      \\\\\n",
      " Proj6     & Competências Comportamentais|-|Organização                                           &     5      \\\\\n",
      " Proj6     & Competências Técnicas|Quality Assurance|Behavior Driven Development                  &     5      \\\\\n",
      " Proj6     & Competências Técnicas|Quality Assurance|Teste de software em desenvolvimento Scrum   &     5      \\\\\n",
      " Proj6     & Competências Técnicas|Quality Assurance|Testes exploratórios                         &     5      \\\\\n",
      " Proj6     & Ferramentas|-|Jenkins                                                                &     5      \\\\\n",
      " Proj6     & Competências Técnicas|Quality Assurance|EDA (Escaped Defect Analysis)                &     4      \\\\\n",
      " Proj6     & Competências Técnicas|Quality Assurance|Teste de benchmark                           &     4      \\\\\n",
      " Proj6     & Competências Técnicas|Quality Assurance|Teste de regressão                           &     4      \\\\\n",
      " Proj6     & Competências Técnicas|Quality Assurance|Teste de usabilidade                         &     4      \\\\\n",
      " Proj6     & Competências Técnicas|Quality Assurance|Teste de user trial                          &     4      \\\\\n",
      " Proj6     & Competências Comportamentais|-|Coerencia                                             &     3      \\\\\n",
      " Proj6     & Competências Comportamentais|-|Comunicação                                           &     3      \\\\\n",
      " Proj6     & Competências Comportamentais|-|Flexibilidade                                         &     3      \\\\\n",
      " Proj6     & Competências Comportamentais|-|Foco                                                  &     3      \\\\\n",
      " Proj6     & Competências Comportamentais|-|Negociação                                            &     3      \\\\\n",
      " Proj6     & Competências Comportamentais|-|Resolução de Problemas                                &     3      \\\\\n",
      " Proj6     & Competências Técnicas|Quality Assurance|Definição da estratégia de teste             &     3      \\\\\n",
      " Proj6     & Competências Técnicas|Quality Assurance|Teste de compatibilidade                     &     3      \\\\\n",
      " Proj6     & Competências Técnicas|Quality Assurance|Teste de contrato                            &     3      \\\\\n",
      " Proj6     & Competências Técnicas|Quality Assurance|Teste unitário                               &     3      \\\\\n",
      " Proj6     & Competências Comportamentais|-|Relacionamento Interpessoal                           &     2      \\\\\n",
      " Proj6     & Competências Técnicas|Quality Assurance|Teste de IA                                  &     2      \\\\\n",
      " Proj6     & Competências Técnicas|Quality Assurance|Teste de Realidade Aumentada (AR)            &     2      \\\\\n",
      " Proj6     & Competências Comportamentais|-|Planejamento                                          &     1      \\\\\n",
      " Proj6     & Competências Comportamentais|-|Trabalho em Equipe                                    &     1      \\\\\n",
      " Proj6     & Competências Técnicas|Gestão de Projetos|Gestão da Qualidade                         &     1      \\\\\n",
      " Proj6     & Competências Técnicas|Gestão de Projetos|Gestão de Pessoas                           &     1      \\\\\n",
      " Proj6     & Competências Técnicas|Quality Assurance|Automação de teste                           &     1      \\\\\n",
      " Proj6     & Competências Técnicas|Quality Assurance|Test Driven Development                      &     1      \\\\\n",
      " Proj6     & Competências Técnicas|Quality Assurance|Teste de Realidade Virtual (VR)              &     1      \\\\\n",
      " Proj6     & Ferramentas|-|DMZ                                                                    &     1      \\\\\n",
      " Proj7     & Ferramentas|-|TM4J                                                                   &     13     \\\\\n",
      " Proj7     & Competências Técnicas|Quality Assurance|Teste de sistema                             &     12     \\\\\n",
      " Proj7     & Competências Técnicas|Quality Assurance|Teste de integração                          &     10     \\\\\n",
      " Proj7     & Competências Técnicas|Quality Assurance|Planejamento dos ciclos de teste             &     8      \\\\\n",
      " Proj7     & Competências Técnicas|Quality Assurance|Teste de compatibilidade                     &     8      \\\\\n",
      " Proj7     & Competências Técnicas|Quality Assurance|EDA (Escaped Defect Analysis)                &     7      \\\\\n",
      " Proj7     & Competências Técnicas|Gestão de Projetos|Gestão de Métricas e indicadores            &     6      \\\\\n",
      " Proj7     & Competências Técnicas|Gestão de Projetos|Gestão de Pessoas                           &     6      \\\\\n",
      " Proj7     & Competências Técnicas|Quality Assurance|Teste de regressão                           &     6      \\\\\n",
      " Proj7     & Competências Técnicas|Quality Assurance|Teste de sanidade                            &     6      \\\\\n",
      " Proj7     & Competências Técnicas|Quality Assurance|Teste funcional                              &     6      \\\\\n",
      " Proj7     & Competências Técnicas|Quality Assurance|Teste em sistema operacional Android         &     5      \\\\\n",
      " Proj7     & Competências Técnicas|Quality Assurance|Testes exploratórios                         &     5      \\\\\n",
      " Proj7     & Competências Técnicas|Gestão de Projetos|Gestão da Qualidade                         &     4      \\\\\n",
      " Proj7     & Competências Técnicas|Quality Assurance|Análise de requisitos                        &     3      \\\\\n",
      " Proj7     & Competências Técnicas|Quality Assurance|Design de testes                             &     3      \\\\\n",
      " Proj7     & Competências Técnicas|Quality Assurance|Scripts de teste manual                      &     3      \\\\\n",
      " Proj7     & Competências Técnicas|Gestão de Projetos|Gestão de Riscos                            &     2      \\\\\n",
      " Proj7     & Competências Técnicas|Quality Assurance|Automação de teste                           &     2      \\\\\n",
      " Proj7     & Competências Técnicas|Quality Assurance|Definição da estratégia de teste             &     2      \\\\\n",
      " Proj7     & Competências Técnicas|Quality Assurance|Teste de contrato                            &     2      \\\\\n",
      " Proj7     & Competências Técnicas|Quality Assurance|Teste de software em desenvolvimento Scrum   &     2      \\\\\n",
      " Proj7     & Ferramentas|-|Confluence                                                             &     2      \\\\\n",
      " Proj7     & Ferramentas|-|Jira                                                                   &     2      \\\\\n",
      " Proj7     & Ferramentas|-|PLM                                                                    &     2      \\\\\n",
      " Proj7     & Competências Comportamentais|-|Auto Confiança                                        &     1      \\\\\n",
      " Proj7     & Competências Comportamentais|-|Capacidade Analitica                                  &     1      \\\\\n",
      " Proj7     & Competências Comportamentais|-|Coerencia                                             &     1      \\\\\n",
      " Proj7     & Competências Comportamentais|-|Foco                                                  &     1      \\\\\n",
      " Proj7     & Competências Comportamentais|-|Gestão de Conflitos                                   &     1      \\\\\n",
      " Proj7     & Competências Comportamentais|-|Integridade                                           &     1      \\\\\n",
      " Proj7     & Competências Comportamentais|-|Liderança                                             &     1      \\\\\n",
      " Proj7     & Competências Comportamentais|-|Proatividade                                          &     1      \\\\\n",
      " Proj7     & Competências Comportamentais|-|Trabalho em Equipe                                    &     1      \\\\\n",
      " Proj7     & Competências Técnicas|Gestão de Projetos|Gestão de Escopo                            &     1      \\\\\n",
      " Proj7     & Competências Técnicas|Gestão de Projetos|Gestão de Stakeholders                      &     1      \\\\\n",
      " Proj7     & Competências Técnicas|Quality Assurance|Matriz de cobertura                          &     1      \\\\\n",
      " Proj7     & Competências Técnicas|Quality Assurance|Teste NFC                                    &     1      \\\\\n",
      " Proj7     & Competências Técnicas|Quality Assurance|Teste de API                                 &     1      \\\\\n",
      " Proj7     & Competências Técnicas|Quality Assurance|Teste de aceitação                           &     1      \\\\\n",
      " Proj7     & Competências Técnicas|Quality Assurance|Teste de acessibilidade                      &     1      \\\\\n",
      " Proj7     & Competências Técnicas|Quality Assurance|Teste de banco de dados                      &     1      \\\\\n",
      " Proj7     & Competências Técnicas|Quality Assurance|Teste de carga                               &     1      \\\\\n",
      " Proj7     & Competências Técnicas|Quality Assurance|Teste de performance                         &     1      \\\\\n",
      " Proj7     & Competências Técnicas|Quality Assurance|Teste de software em desenvolvimento Cascata &     1      \\\\\n",
      " Proj7     & Competências Técnicas|Quality Assurance|Teste de software em desenvolvimento Kanban  &     1      \\\\\n",
      " Proj7     & Ferramentas|-|DMZ                                                                    &     1      \\\\\n",
      " Proj7     & Ferramentas|-|MS-Project                                                             &     1      \\\\\n",
      "\\hline\n",
      "\\end{tabular}\n"
     ]
    }
   ],
   "source": [
    "# Retirando um trecho para exemplificar o gap total por projeto\n",
    "qry = data\n",
    "print(tabulate(qry, headers=qry.columns, tablefmt='latex', numalign='center', floatfmt=\".1f\", showindex=False))"
   ]
  },
  {
   "cell_type": "markdown",
   "metadata": {},
   "source": [
    "Dado o projeto ($Proj_i$) e uma senioridade ($Senioridade_j$), quais os *TopN* testadores que possuem os maiores \"matches\"?"
   ]
  },
  {
   "cell_type": "code",
   "execution_count": 69,
   "metadata": {},
   "outputs": [],
   "source": [
    "# Valores de entrada:\n",
    "Project2Search = 'Proj6'  # Este é o Proji\n",
    "Seniority2Search = 'PL'  # Escolha uma opção: JR, PL, SR ou MS (esta é a Senioridadej)"
   ]
  },
  {
   "cell_type": "code",
   "execution_count": 70,
   "metadata": {},
   "outputs": [],
   "source": [
    "# implementando a função de distância euclidiana\n",
    "def dEuclidean(a, b):\n",
    "    return np.sqrt(np.sum((a - b) ** 2))"
   ]
  },
  {
   "cell_type": "code",
   "execution_count": 71,
   "metadata": {},
   "outputs": [],
   "source": [
    "demanda=DemandaSkillTesters.loc[DemandaSkillTesters['Projeto']==Project2Search,['UniqueSkill',Seniority2Search]]\n",
    "ListDissimilaridade=[]\n",
    "for tester in Testers['ID']:\n",
    "    ListDemanda=[]\n",
    "    ListOferta=[]\n",
    "    SenioridadeTester = Testers.loc[Testers['ID']==tester,'Senioridade'].values[0]\n",
    "    for skill in demanda['UniqueSkill']:\n",
    "        nivel_demandado = ConvertSkillClass2Num(demanda.loc[demanda['UniqueSkill']==skill,Seniority2Search].values[0])\n",
    "        nivel_ofertado = FotoSkills.loc[FotoSkills['UniqueSkill']==skill,tester].values[0]\n",
    "        if nivel_demandado != 0: # Só inclui os valores de skills demandados diferente de Grupo\n",
    "            ListDemanda.append(nivel_demandado)\n",
    "            ListOferta.append(nivel_ofertado)\n",
    "    dissimilaridade=dEuclidean(np.array(ListDemanda), np.array(ListOferta))\n",
    "    ListDissimilaridade.append([tester, SenioridadeTester, dissimilaridade])"
   ]
  },
  {
   "cell_type": "code",
   "execution_count": 72,
   "metadata": {},
   "outputs": [],
   "source": [
    "# Inicializando um dataframe para armazenar a estrutura de dados a ser utilizada na análise\n",
    "col_names =  ['ID', 'Senioridade', 'Dissimilaridade']\n",
    "Dissimilaridade = pd.DataFrame(ListDissimilaridade, columns = col_names)"
   ]
  },
  {
   "cell_type": "markdown",
   "metadata": {},
   "source": [
    "Testers com menor Dissimilaridade (distância Euclidiana) são os que melhor se aproximam para o $Proj_i$ e senioridade $Senioridade_j$:"
   ]
  },
  {
   "cell_type": "code",
   "execution_count": 73,
   "metadata": {},
   "outputs": [],
   "source": [
    "# Valor de entrada: dos TopN testadores\n",
    "TopN=10"
   ]
  },
  {
   "cell_type": "code",
   "execution_count": 74,
   "metadata": {},
   "outputs": [
    {
     "name": "stdout",
     "output_type": "stream",
     "text": [
      "\\begin{tabular}{llc}\n",
      "\\hline\n",
      " ID Colaborador   & Senioridade   &  Dissimilaridade  \\\\\n",
      "\\hline\n",
      " id\\_func23        & COOR          &       6.124       \\\\\n",
      " id\\_func11        & PL            &       6.775       \\\\\n",
      " id\\_func49        & SR            &       7.874       \\\\\n",
      " id\\_func2         & SR            &       7.954       \\\\\n",
      " id\\_func14        & PL            &       9.110       \\\\\n",
      " id\\_func25        & JR            &      10.129       \\\\\n",
      " id\\_func7         & TR            &      10.631       \\\\\n",
      " id\\_func35        & COOR          &      10.653       \\\\\n",
      " id\\_func20        & SR            &      10.735       \\\\\n",
      " id\\_func30        & TR            &      10.889       \\\\\n",
      "\\hline\n",
      "\\end{tabular}\n"
     ]
    }
   ],
   "source": [
    "# Formatando tabela - no tablefmt use 'fancy_grid', 'pretty' ou 'latex'\n",
    "qry = Dissimilaridade.sort_values(by='Dissimilaridade').reset_index(drop=True).head(TopN)\n",
    "print(tabulate(qry, headers=['ID Colaborador', 'Senioridade', 'Dissimilaridade'], tablefmt='latex', numalign='center', floatfmt=\".3f\", showindex=False))"
   ]
  },
  {
   "cell_type": "markdown",
   "metadata": {},
   "source": [
    "Identificando os testers que tem mais similaridade de skills (técnicas de agrupamento):"
   ]
  },
  {
   "cell_type": "code",
   "execution_count": 75,
   "metadata": {},
   "outputs": [
    {
     "data": {
      "text/html": [
       "<div>\n",
       "<style scoped>\n",
       "    .dataframe tbody tr th:only-of-type {\n",
       "        vertical-align: middle;\n",
       "    }\n",
       "\n",
       "    .dataframe tbody tr th {\n",
       "        vertical-align: top;\n",
       "    }\n",
       "\n",
       "    .dataframe thead th {\n",
       "        text-align: right;\n",
       "    }\n",
       "</style>\n",
       "<table border=\"1\" class=\"dataframe\">\n",
       "  <thead>\n",
       "    <tr style=\"text-align: right;\">\n",
       "      <th></th>\n",
       "      <th>Tipo</th>\n",
       "      <th>Area</th>\n",
       "      <th>Skill</th>\n",
       "      <th>id_func1</th>\n",
       "      <th>id_func2</th>\n",
       "      <th>id_func3</th>\n",
       "      <th>id_func4</th>\n",
       "      <th>id_func5</th>\n",
       "      <th>id_func6</th>\n",
       "      <th>id_func7</th>\n",
       "      <th>...</th>\n",
       "      <th>id_func52</th>\n",
       "      <th>id_func53</th>\n",
       "      <th>id_func54</th>\n",
       "      <th>id_func55</th>\n",
       "      <th>id_func56</th>\n",
       "      <th>id_func57</th>\n",
       "      <th>id_func58</th>\n",
       "      <th>UniqueSkill</th>\n",
       "      <th>NivelSkill</th>\n",
       "      <th>LimiteIQR</th>\n",
       "    </tr>\n",
       "  </thead>\n",
       "  <tbody>\n",
       "    <tr>\n",
       "      <th>0</th>\n",
       "      <td>Competências Técnicas</td>\n",
       "      <td>Gestão de Projetos</td>\n",
       "      <td>Gestão da Qualidade</td>\n",
       "      <td>3.5</td>\n",
       "      <td>3.5</td>\n",
       "      <td>1.0</td>\n",
       "      <td>1.0</td>\n",
       "      <td>2.0</td>\n",
       "      <td>2.0</td>\n",
       "      <td>2.0</td>\n",
       "      <td>...</td>\n",
       "      <td>3.0</td>\n",
       "      <td>4.2</td>\n",
       "      <td>2.0</td>\n",
       "      <td>3.0</td>\n",
       "      <td>1.0</td>\n",
       "      <td>4.0</td>\n",
       "      <td>1.0</td>\n",
       "      <td>Competências Técnicas|Gestão de Projetos|Gestã...</td>\n",
       "      <td>110.5</td>\n",
       "      <td>4.75</td>\n",
       "    </tr>\n",
       "    <tr>\n",
       "      <th>1</th>\n",
       "      <td>Competências Técnicas</td>\n",
       "      <td>Gestão de Projetos</td>\n",
       "      <td>Gestão de Cronograma</td>\n",
       "      <td>2.5</td>\n",
       "      <td>4.0</td>\n",
       "      <td>1.0</td>\n",
       "      <td>1.0</td>\n",
       "      <td>2.0</td>\n",
       "      <td>2.0</td>\n",
       "      <td>3.0</td>\n",
       "      <td>...</td>\n",
       "      <td>2.0</td>\n",
       "      <td>4.0</td>\n",
       "      <td>2.0</td>\n",
       "      <td>3.0</td>\n",
       "      <td>1.0</td>\n",
       "      <td>3.7</td>\n",
       "      <td>2.0</td>\n",
       "      <td>Competências Técnicas|Gestão de Projetos|Gestã...</td>\n",
       "      <td>111.6</td>\n",
       "      <td>4.75</td>\n",
       "    </tr>\n",
       "    <tr>\n",
       "      <th>2</th>\n",
       "      <td>Competências Técnicas</td>\n",
       "      <td>Gestão de Projetos</td>\n",
       "      <td>Gestão de Custos</td>\n",
       "      <td>1.5</td>\n",
       "      <td>2.5</td>\n",
       "      <td>1.0</td>\n",
       "      <td>1.0</td>\n",
       "      <td>2.1</td>\n",
       "      <td>2.0</td>\n",
       "      <td>1.0</td>\n",
       "      <td>...</td>\n",
       "      <td>4.0</td>\n",
       "      <td>3.5</td>\n",
       "      <td>2.0</td>\n",
       "      <td>1.0</td>\n",
       "      <td>1.0</td>\n",
       "      <td>3.5</td>\n",
       "      <td>1.0</td>\n",
       "      <td>Competências Técnicas|Gestão de Projetos|Gestã...</td>\n",
       "      <td>85.6</td>\n",
       "      <td>3.50</td>\n",
       "    </tr>\n",
       "    <tr>\n",
       "      <th>3</th>\n",
       "      <td>Competências Técnicas</td>\n",
       "      <td>Gestão de Projetos</td>\n",
       "      <td>Gestão de Escopo</td>\n",
       "      <td>3.0</td>\n",
       "      <td>4.0</td>\n",
       "      <td>1.0</td>\n",
       "      <td>1.0</td>\n",
       "      <td>3.1</td>\n",
       "      <td>2.0</td>\n",
       "      <td>2.0</td>\n",
       "      <td>...</td>\n",
       "      <td>3.0</td>\n",
       "      <td>3.1</td>\n",
       "      <td>2.0</td>\n",
       "      <td>2.0</td>\n",
       "      <td>1.0</td>\n",
       "      <td>4.0</td>\n",
       "      <td>1.0</td>\n",
       "      <td>Competências Técnicas|Gestão de Projetos|Gestã...</td>\n",
       "      <td>105.2</td>\n",
       "      <td>4.75</td>\n",
       "    </tr>\n",
       "    <tr>\n",
       "      <th>4</th>\n",
       "      <td>Competências Técnicas</td>\n",
       "      <td>Gestão de Projetos</td>\n",
       "      <td>Gestão de Métricas e indicadores</td>\n",
       "      <td>2.5</td>\n",
       "      <td>4.0</td>\n",
       "      <td>1.2</td>\n",
       "      <td>1.5</td>\n",
       "      <td>2.1</td>\n",
       "      <td>2.0</td>\n",
       "      <td>2.5</td>\n",
       "      <td>...</td>\n",
       "      <td>3.0</td>\n",
       "      <td>4.5</td>\n",
       "      <td>2.0</td>\n",
       "      <td>1.0</td>\n",
       "      <td>1.0</td>\n",
       "      <td>3.8</td>\n",
       "      <td>1.0</td>\n",
       "      <td>Competências Técnicas|Gestão de Projetos|Gestã...</td>\n",
       "      <td>108.1</td>\n",
       "      <td>4.75</td>\n",
       "    </tr>\n",
       "  </tbody>\n",
       "</table>\n",
       "<p>5 rows × 64 columns</p>\n",
       "</div>"
      ],
      "text/plain": [
       "                    Tipo                Area  \\\n",
       "0  Competências Técnicas  Gestão de Projetos   \n",
       "1  Competências Técnicas  Gestão de Projetos   \n",
       "2  Competências Técnicas  Gestão de Projetos   \n",
       "3  Competências Técnicas  Gestão de Projetos   \n",
       "4  Competências Técnicas  Gestão de Projetos   \n",
       "\n",
       "                              Skill  id_func1  id_func2  id_func3  id_func4  \\\n",
       "0               Gestão da Qualidade       3.5       3.5       1.0       1.0   \n",
       "1              Gestão de Cronograma       2.5       4.0       1.0       1.0   \n",
       "2                  Gestão de Custos       1.5       2.5       1.0       1.0   \n",
       "3                  Gestão de Escopo       3.0       4.0       1.0       1.0   \n",
       "4  Gestão de Métricas e indicadores       2.5       4.0       1.2       1.5   \n",
       "\n",
       "   id_func5  id_func6  id_func7  ...  id_func52  id_func53  id_func54  \\\n",
       "0       2.0       2.0       2.0  ...        3.0        4.2        2.0   \n",
       "1       2.0       2.0       3.0  ...        2.0        4.0        2.0   \n",
       "2       2.1       2.0       1.0  ...        4.0        3.5        2.0   \n",
       "3       3.1       2.0       2.0  ...        3.0        3.1        2.0   \n",
       "4       2.1       2.0       2.5  ...        3.0        4.5        2.0   \n",
       "\n",
       "   id_func55  id_func56  id_func57  id_func58  \\\n",
       "0        3.0        1.0        4.0        1.0   \n",
       "1        3.0        1.0        3.7        2.0   \n",
       "2        1.0        1.0        3.5        1.0   \n",
       "3        2.0        1.0        4.0        1.0   \n",
       "4        1.0        1.0        3.8        1.0   \n",
       "\n",
       "                                         UniqueSkill  NivelSkill  LimiteIQR  \n",
       "0  Competências Técnicas|Gestão de Projetos|Gestã...       110.5       4.75  \n",
       "1  Competências Técnicas|Gestão de Projetos|Gestã...       111.6       4.75  \n",
       "2  Competências Técnicas|Gestão de Projetos|Gestã...        85.6       3.50  \n",
       "3  Competências Técnicas|Gestão de Projetos|Gestã...       105.2       4.75  \n",
       "4  Competências Técnicas|Gestão de Projetos|Gestã...       108.1       4.75  \n",
       "\n",
       "[5 rows x 64 columns]"
      ]
     },
     "execution_count": 75,
     "metadata": {},
     "output_type": "execute_result"
    }
   ],
   "source": [
    "FotoSkills.head()"
   ]
  },
  {
   "cell_type": "code",
   "execution_count": 76,
   "metadata": {},
   "outputs": [],
   "source": [
    "# Preparando o dataset com features sendo os skills\n",
    "X = FotoSkills.iloc[:,3:-2].copy() # pegando os valores de skills de cada um dos testers\n",
    "X = X.T\n",
    "X.columns = X.iloc[-1] # colocando a última coluna que é de UniqueSkill como label das colunas\n",
    "X = X[:-1] # deletando a última linha"
   ]
  },
  {
   "cell_type": "code",
   "execution_count": 77,
   "metadata": {},
   "outputs": [],
   "source": [
    "# Removendo as linhas que tem NaN\n",
    "X = X.dropna()"
   ]
  },
  {
   "cell_type": "markdown",
   "metadata": {},
   "source": [
    "Utilizando o agrupamento K-Means (identificando o número de cluster pelo método de Elbow):"
   ]
  },
  {
   "cell_type": "code",
   "execution_count": 78,
   "metadata": {},
   "outputs": [
    {
     "data": {
      "image/png": "[encoded data removed]",
      "text/plain": [
       "<Figure size 432x288 with 1 Axes>"
      ]
     },
     "metadata": {
      "needs_background": "light"
     },
     "output_type": "display_data"
    }
   ],
   "source": [
    "from sklearn.cluster import KMeans\n",
    "\n",
    "# calculate distortion for a range of number of cluster\n",
    "distortions = []\n",
    "for i in range(1, 11):\n",
    "    km = KMeans(\n",
    "        n_clusters=i, init='random',\n",
    "        n_init=10, max_iter=300,\n",
    "        tol=1e-04, random_state=0\n",
    "    )\n",
    "    km.fit(X.values)\n",
    "    distortions.append(km.inertia_)\n",
    "\n",
    "# plot\n",
    "plt.plot(range(1, 11), distortions, marker='o')\n",
    "plt.xlabel('Number of clusters')\n",
    "plt.ylabel('Distortion')\n",
    "plt.savefig('elbow.svg')\n",
    "plt.show()"
   ]
  },
  {
   "cell_type": "code",
   "execution_count": 79,
   "metadata": {},
   "outputs": [
    {
     "data": {
      "text/plain": [
       "array([2, 2, 3, 3, 3, 3, 3, 3, 3, 3, 1, 3, 1, 1, 1, 3, 3, 3, 2, 2, 3, 3,\n",
       "       2, 1, 1, 0, 2, 0, 1, 0, 0, 0, 1, 2, 0, 0, 2, 0, 0, 0, 0, 1, 3, 1,\n",
       "       3, 0, 0, 2, 3, 1, 3, 3, 0, 0, 0, 2, 0])"
      ]
     },
     "execution_count": 79,
     "metadata": {},
     "output_type": "execute_result"
    }
   ],
   "source": [
    "n_cluster = 4 # selecionado 4 clusters, pois é o local do cotovelo\n",
    "kmeans = KMeans(n_clusters=n_cluster)  \n",
    "kmeans.fit(X.values)\n",
    "\n",
    "labels_kmeans = kmeans.labels_\n",
    "labels_kmeans"
   ]
  },
  {
   "cell_type": "code",
   "execution_count": 80,
   "metadata": {
    "scrolled": false
   },
   "outputs": [
    {
     "data": {
      "image/png": "[encoded data removed]",
      "text/plain": [
       "<Figure size 576x360 with 1 Axes>"
      ]
     },
     "metadata": {
      "needs_background": "light"
     },
     "output_type": "display_data"
    }
   ],
   "source": [
    "# Redução de dimensionalidade com PCA - conjunto X (gráfico em duas dimensões)\n",
    "from sklearn.decomposition import PCA\n",
    "from sklearn.preprocessing import StandardScaler\n",
    "import seaborn as sns\n",
    "pca = PCA(n_components=2, random_state=1)\n",
    "scaler = StandardScaler()\n",
    "feat_X_scaled = scaler.fit_transform(X.values)\n",
    "pca_X = pca.fit_transform(feat_X_scaled)\n",
    "fig = plt.figure(figsize=(8,5))\n",
    "sns.scatterplot(x=pca_X[:,0], y=pca_X[:,1], hue=labels_kmeans[:], palette='tab10')\n",
    "plt.xlabel('PC1')\n",
    "plt.ylabel('PC2')\n",
    "plt.savefig('pca.svg')\n",
    "plt.show()"
   ]
  },
  {
   "cell_type": "code",
   "execution_count": 81,
   "metadata": {},
   "outputs": [
    {
     "data": {
      "text/html": [
       "<div>\n",
       "<style scoped>\n",
       "    .dataframe tbody tr th:only-of-type {\n",
       "        vertical-align: middle;\n",
       "    }\n",
       "\n",
       "    .dataframe tbody tr th {\n",
       "        vertical-align: top;\n",
       "    }\n",
       "\n",
       "    .dataframe thead th {\n",
       "        text-align: right;\n",
       "    }\n",
       "</style>\n",
       "<table border=\"1\" class=\"dataframe\">\n",
       "  <thead>\n",
       "    <tr style=\"text-align: right;\">\n",
       "      <th>UniqueSkill</th>\n",
       "      <th>Competências Técnicas|Gestão de Projetos|Gestão da Qualidade</th>\n",
       "      <th>Competências Técnicas|Gestão de Projetos|Gestão de Cronograma</th>\n",
       "      <th>Competências Técnicas|Gestão de Projetos|Gestão de Custos</th>\n",
       "      <th>Competências Técnicas|Gestão de Projetos|Gestão de Escopo</th>\n",
       "      <th>Competências Técnicas|Gestão de Projetos|Gestão de Métricas e indicadores</th>\n",
       "      <th>Competências Técnicas|Gestão de Projetos|Gestão de Pessoas</th>\n",
       "      <th>Competências Técnicas|Gestão de Projetos|Gestão de Riscos</th>\n",
       "      <th>Competências Técnicas|Gestão de Projetos|Gestão de Stakeholders</th>\n",
       "      <th>Competências Técnicas|Gestão de Projetos|Métodos de gestão de software</th>\n",
       "      <th>Competências Técnicas|Quality Assurance|Análise de requisitos</th>\n",
       "      <th>...</th>\n",
       "      <th>Competências Comportamentais|-|Negociação</th>\n",
       "      <th>Competências Comportamentais|-|Organização</th>\n",
       "      <th>Competências Comportamentais|-|Planejamento</th>\n",
       "      <th>Competências Comportamentais|-|Proatividade</th>\n",
       "      <th>Competências Comportamentais|-|Relacionamento Interpessoal</th>\n",
       "      <th>Competências Comportamentais|-|Resolução de Problemas</th>\n",
       "      <th>Competências Comportamentais|-|Trabalho em Equipe</th>\n",
       "      <th>Competências Comportamentais|-|Visão Sistemica</th>\n",
       "      <th>Senioridade</th>\n",
       "      <th>ClusterKMeans</th>\n",
       "    </tr>\n",
       "  </thead>\n",
       "  <tbody>\n",
       "    <tr>\n",
       "      <th>id_func1</th>\n",
       "      <td>3.5</td>\n",
       "      <td>2.5</td>\n",
       "      <td>1.5</td>\n",
       "      <td>3</td>\n",
       "      <td>2.5</td>\n",
       "      <td>2.5</td>\n",
       "      <td>3</td>\n",
       "      <td>2.5</td>\n",
       "      <td>3.1</td>\n",
       "      <td>4</td>\n",
       "      <td>...</td>\n",
       "      <td>3</td>\n",
       "      <td>3.5</td>\n",
       "      <td>3.5</td>\n",
       "      <td>3.5</td>\n",
       "      <td>4</td>\n",
       "      <td>4</td>\n",
       "      <td>4</td>\n",
       "      <td>3.5</td>\n",
       "      <td>SR</td>\n",
       "      <td>2</td>\n",
       "    </tr>\n",
       "    <tr>\n",
       "      <th>id_func2</th>\n",
       "      <td>3.5</td>\n",
       "      <td>4</td>\n",
       "      <td>2.5</td>\n",
       "      <td>4</td>\n",
       "      <td>4</td>\n",
       "      <td>4.5</td>\n",
       "      <td>4</td>\n",
       "      <td>3.8</td>\n",
       "      <td>4.2</td>\n",
       "      <td>4.2</td>\n",
       "      <td>...</td>\n",
       "      <td>4</td>\n",
       "      <td>4.8</td>\n",
       "      <td>4.5</td>\n",
       "      <td>4.1</td>\n",
       "      <td>4</td>\n",
       "      <td>4</td>\n",
       "      <td>4.5</td>\n",
       "      <td>4.5</td>\n",
       "      <td>SR</td>\n",
       "      <td>2</td>\n",
       "    </tr>\n",
       "    <tr>\n",
       "      <th>id_func3</th>\n",
       "      <td>1</td>\n",
       "      <td>1</td>\n",
       "      <td>1</td>\n",
       "      <td>1</td>\n",
       "      <td>1.2</td>\n",
       "      <td>2</td>\n",
       "      <td>1.5</td>\n",
       "      <td>1</td>\n",
       "      <td>1</td>\n",
       "      <td>3</td>\n",
       "      <td>...</td>\n",
       "      <td>3.5</td>\n",
       "      <td>4.7</td>\n",
       "      <td>4.7</td>\n",
       "      <td>4</td>\n",
       "      <td>4</td>\n",
       "      <td>4.3</td>\n",
       "      <td>4</td>\n",
       "      <td>3.8</td>\n",
       "      <td>JR</td>\n",
       "      <td>3</td>\n",
       "    </tr>\n",
       "    <tr>\n",
       "      <th>id_func4</th>\n",
       "      <td>1</td>\n",
       "      <td>1</td>\n",
       "      <td>1</td>\n",
       "      <td>1</td>\n",
       "      <td>1.5</td>\n",
       "      <td>1.5</td>\n",
       "      <td>1</td>\n",
       "      <td>1</td>\n",
       "      <td>2</td>\n",
       "      <td>1.8</td>\n",
       "      <td>...</td>\n",
       "      <td>4</td>\n",
       "      <td>4.5</td>\n",
       "      <td>3.5</td>\n",
       "      <td>4.1</td>\n",
       "      <td>5</td>\n",
       "      <td>4.1</td>\n",
       "      <td>4.5</td>\n",
       "      <td>4.1</td>\n",
       "      <td>JR</td>\n",
       "      <td>3</td>\n",
       "    </tr>\n",
       "    <tr>\n",
       "      <th>id_func5</th>\n",
       "      <td>2</td>\n",
       "      <td>2</td>\n",
       "      <td>2.1</td>\n",
       "      <td>3.1</td>\n",
       "      <td>2.1</td>\n",
       "      <td>1.4</td>\n",
       "      <td>2</td>\n",
       "      <td>1</td>\n",
       "      <td>2</td>\n",
       "      <td>3.1</td>\n",
       "      <td>...</td>\n",
       "      <td>3</td>\n",
       "      <td>4.5</td>\n",
       "      <td>4.5</td>\n",
       "      <td>4</td>\n",
       "      <td>4</td>\n",
       "      <td>4</td>\n",
       "      <td>4.5</td>\n",
       "      <td>4.5</td>\n",
       "      <td>JR</td>\n",
       "      <td>3</td>\n",
       "    </tr>\n",
       "  </tbody>\n",
       "</table>\n",
       "<p>5 rows × 148 columns</p>\n",
       "</div>"
      ],
      "text/plain": [
       "UniqueSkill Competências Técnicas|Gestão de Projetos|Gestão da Qualidade  \\\n",
       "id_func1                                                   3.5             \n",
       "id_func2                                                   3.5             \n",
       "id_func3                                                     1             \n",
       "id_func4                                                     1             \n",
       "id_func5                                                     2             \n",
       "\n",
       "UniqueSkill Competências Técnicas|Gestão de Projetos|Gestão de Cronograma  \\\n",
       "id_func1                                                   2.5              \n",
       "id_func2                                                     4              \n",
       "id_func3                                                     1              \n",
       "id_func4                                                     1              \n",
       "id_func5                                                     2              \n",
       "\n",
       "UniqueSkill Competências Técnicas|Gestão de Projetos|Gestão de Custos  \\\n",
       "id_func1                                                   1.5          \n",
       "id_func2                                                   2.5          \n",
       "id_func3                                                     1          \n",
       "id_func4                                                     1          \n",
       "id_func5                                                   2.1          \n",
       "\n",
       "UniqueSkill Competências Técnicas|Gestão de Projetos|Gestão de Escopo  \\\n",
       "id_func1                                                     3          \n",
       "id_func2                                                     4          \n",
       "id_func3                                                     1          \n",
       "id_func4                                                     1          \n",
       "id_func5                                                   3.1          \n",
       "\n",
       "UniqueSkill Competências Técnicas|Gestão de Projetos|Gestão de Métricas e indicadores  \\\n",
       "id_func1                                                   2.5                          \n",
       "id_func2                                                     4                          \n",
       "id_func3                                                   1.2                          \n",
       "id_func4                                                   1.5                          \n",
       "id_func5                                                   2.1                          \n",
       "\n",
       "UniqueSkill Competências Técnicas|Gestão de Projetos|Gestão de Pessoas  \\\n",
       "id_func1                                                   2.5           \n",
       "id_func2                                                   4.5           \n",
       "id_func3                                                     2           \n",
       "id_func4                                                   1.5           \n",
       "id_func5                                                   1.4           \n",
       "\n",
       "UniqueSkill Competências Técnicas|Gestão de Projetos|Gestão de Riscos  \\\n",
       "id_func1                                                     3          \n",
       "id_func2                                                     4          \n",
       "id_func3                                                   1.5          \n",
       "id_func4                                                     1          \n",
       "id_func5                                                     2          \n",
       "\n",
       "UniqueSkill Competências Técnicas|Gestão de Projetos|Gestão de Stakeholders  \\\n",
       "id_func1                                                   2.5                \n",
       "id_func2                                                   3.8                \n",
       "id_func3                                                     1                \n",
       "id_func4                                                     1                \n",
       "id_func5                                                     1                \n",
       "\n",
       "UniqueSkill Competências Técnicas|Gestão de Projetos|Métodos de gestão de software  \\\n",
       "id_func1                                                   3.1                       \n",
       "id_func2                                                   4.2                       \n",
       "id_func3                                                     1                       \n",
       "id_func4                                                     2                       \n",
       "id_func5                                                     2                       \n",
       "\n",
       "UniqueSkill Competências Técnicas|Quality Assurance|Análise de requisitos   \\\n",
       "id_func1                                                     4               \n",
       "id_func2                                                   4.2               \n",
       "id_func3                                                     3               \n",
       "id_func4                                                   1.8               \n",
       "id_func5                                                   3.1               \n",
       "\n",
       "UniqueSkill  ... Competências Comportamentais|-|Negociação  \\\n",
       "id_func1     ...                                         3   \n",
       "id_func2     ...                                         4   \n",
       "id_func3     ...                                       3.5   \n",
       "id_func4     ...                                         4   \n",
       "id_func5     ...                                         3   \n",
       "\n",
       "UniqueSkill Competências Comportamentais|-|Organização  \\\n",
       "id_func1                                           3.5   \n",
       "id_func2                                           4.8   \n",
       "id_func3                                           4.7   \n",
       "id_func4                                           4.5   \n",
       "id_func5                                           4.5   \n",
       "\n",
       "UniqueSkill Competências Comportamentais|-|Planejamento  \\\n",
       "id_func1                                            3.5   \n",
       "id_func2                                            4.5   \n",
       "id_func3                                            4.7   \n",
       "id_func4                                            3.5   \n",
       "id_func5                                            4.5   \n",
       "\n",
       "UniqueSkill Competências Comportamentais|-|Proatividade  \\\n",
       "id_func1                                            3.5   \n",
       "id_func2                                            4.1   \n",
       "id_func3                                              4   \n",
       "id_func4                                            4.1   \n",
       "id_func5                                              4   \n",
       "\n",
       "UniqueSkill Competências Comportamentais|-|Relacionamento Interpessoal  \\\n",
       "id_func1                                                     4           \n",
       "id_func2                                                     4           \n",
       "id_func3                                                     4           \n",
       "id_func4                                                     5           \n",
       "id_func5                                                     4           \n",
       "\n",
       "UniqueSkill Competências Comportamentais|-|Resolução de Problemas  \\\n",
       "id_func1                                                     4      \n",
       "id_func2                                                     4      \n",
       "id_func3                                                   4.3      \n",
       "id_func4                                                   4.1      \n",
       "id_func5                                                     4      \n",
       "\n",
       "UniqueSkill Competências Comportamentais|-|Trabalho em Equipe  \\\n",
       "id_func1                                                    4   \n",
       "id_func2                                                  4.5   \n",
       "id_func3                                                    4   \n",
       "id_func4                                                  4.5   \n",
       "id_func5                                                  4.5   \n",
       "\n",
       "UniqueSkill Competências Comportamentais|-|Visão Sistemica Senioridade  \\\n",
       "id_func1                                               3.5          SR   \n",
       "id_func2                                               4.5          SR   \n",
       "id_func3                                               3.8          JR   \n",
       "id_func4                                               4.1          JR   \n",
       "id_func5                                               4.5          JR   \n",
       "\n",
       "UniqueSkill ClusterKMeans  \n",
       "id_func1                2  \n",
       "id_func2                2  \n",
       "id_func3                3  \n",
       "id_func4                3  \n",
       "id_func5                3  \n",
       "\n",
       "[5 rows x 148 columns]"
      ]
     },
     "execution_count": 81,
     "metadata": {},
     "output_type": "execute_result"
    }
   ],
   "source": [
    "# Adicionando a Senioridade e o ClusterKMeans como novas colunas\n",
    "Xadj=X.copy()\n",
    "Xadj['Senioridade'] = Xadj.apply(lambda row: FindSeniority(row.name), axis=1)\n",
    "Xadj['ClusterKMeans']=labels_kmeans\n",
    "Xadj.head()"
   ]
  },
  {
   "cell_type": "code",
   "execution_count": 82,
   "metadata": {
    "scrolled": false
   },
   "outputs": [
    {
     "data": {
      "text/html": [
       "<div>\n",
       "<style scoped>\n",
       "    .dataframe tbody tr th:only-of-type {\n",
       "        vertical-align: middle;\n",
       "    }\n",
       "\n",
       "    .dataframe tbody tr th {\n",
       "        vertical-align: top;\n",
       "    }\n",
       "\n",
       "    .dataframe thead th {\n",
       "        text-align: right;\n",
       "    }\n",
       "</style>\n",
       "<table border=\"1\" class=\"dataframe\">\n",
       "  <thead>\n",
       "    <tr style=\"text-align: right;\">\n",
       "      <th>UniqueSkill</th>\n",
       "      <th>Competências Técnicas|Gestão de Projetos|Gestão da Qualidade</th>\n",
       "      <th>Competências Técnicas|Gestão de Projetos|Gestão de Cronograma</th>\n",
       "      <th>Competências Técnicas|Gestão de Projetos|Gestão de Custos</th>\n",
       "      <th>Competências Técnicas|Gestão de Projetos|Gestão de Escopo</th>\n",
       "      <th>Competências Técnicas|Gestão de Projetos|Gestão de Métricas e indicadores</th>\n",
       "      <th>Competências Técnicas|Gestão de Projetos|Gestão de Pessoas</th>\n",
       "      <th>Competências Técnicas|Gestão de Projetos|Gestão de Riscos</th>\n",
       "      <th>Competências Técnicas|Gestão de Projetos|Gestão de Stakeholders</th>\n",
       "      <th>Competências Técnicas|Gestão de Projetos|Métodos de gestão de software</th>\n",
       "      <th>Competências Técnicas|Quality Assurance|Análise de requisitos</th>\n",
       "      <th>...</th>\n",
       "      <th>Competências Comportamentais|-|Negociação</th>\n",
       "      <th>Competências Comportamentais|-|Organização</th>\n",
       "      <th>Competências Comportamentais|-|Planejamento</th>\n",
       "      <th>Competências Comportamentais|-|Proatividade</th>\n",
       "      <th>Competências Comportamentais|-|Relacionamento Interpessoal</th>\n",
       "      <th>Competências Comportamentais|-|Resolução de Problemas</th>\n",
       "      <th>Competências Comportamentais|-|Trabalho em Equipe</th>\n",
       "      <th>Competências Comportamentais|-|Visão Sistemica</th>\n",
       "      <th>Senioridade</th>\n",
       "      <th>ClusterKMeans</th>\n",
       "    </tr>\n",
       "  </thead>\n",
       "  <tbody>\n",
       "    <tr>\n",
       "      <th>id_func1</th>\n",
       "      <td>3.5</td>\n",
       "      <td>2.5</td>\n",
       "      <td>1.5</td>\n",
       "      <td>3</td>\n",
       "      <td>2.5</td>\n",
       "      <td>2.5</td>\n",
       "      <td>3</td>\n",
       "      <td>2.5</td>\n",
       "      <td>3.1</td>\n",
       "      <td>4</td>\n",
       "      <td>...</td>\n",
       "      <td>3</td>\n",
       "      <td>3.5</td>\n",
       "      <td>3.5</td>\n",
       "      <td>3.5</td>\n",
       "      <td>4</td>\n",
       "      <td>4</td>\n",
       "      <td>4</td>\n",
       "      <td>3.5</td>\n",
       "      <td>SR</td>\n",
       "      <td>2</td>\n",
       "    </tr>\n",
       "    <tr>\n",
       "      <th>id_func2</th>\n",
       "      <td>3.5</td>\n",
       "      <td>4</td>\n",
       "      <td>2.5</td>\n",
       "      <td>4</td>\n",
       "      <td>4</td>\n",
       "      <td>4.5</td>\n",
       "      <td>4</td>\n",
       "      <td>3.8</td>\n",
       "      <td>4.2</td>\n",
       "      <td>4.2</td>\n",
       "      <td>...</td>\n",
       "      <td>4</td>\n",
       "      <td>4.8</td>\n",
       "      <td>4.5</td>\n",
       "      <td>4.1</td>\n",
       "      <td>4</td>\n",
       "      <td>4</td>\n",
       "      <td>4.5</td>\n",
       "      <td>4.5</td>\n",
       "      <td>SR</td>\n",
       "      <td>2</td>\n",
       "    </tr>\n",
       "    <tr>\n",
       "      <th>id_func19</th>\n",
       "      <td>2</td>\n",
       "      <td>1</td>\n",
       "      <td>1</td>\n",
       "      <td>2</td>\n",
       "      <td>1</td>\n",
       "      <td>2</td>\n",
       "      <td>2</td>\n",
       "      <td>2</td>\n",
       "      <td>3.5</td>\n",
       "      <td>4</td>\n",
       "      <td>...</td>\n",
       "      <td>2.5</td>\n",
       "      <td>3.5</td>\n",
       "      <td>4</td>\n",
       "      <td>4</td>\n",
       "      <td>4</td>\n",
       "      <td>4</td>\n",
       "      <td>5</td>\n",
       "      <td>3</td>\n",
       "      <td>SR</td>\n",
       "      <td>2</td>\n",
       "    </tr>\n",
       "    <tr>\n",
       "      <th>id_func20</th>\n",
       "      <td>4</td>\n",
       "      <td>4</td>\n",
       "      <td>2.5</td>\n",
       "      <td>4</td>\n",
       "      <td>4.5</td>\n",
       "      <td>4</td>\n",
       "      <td>4</td>\n",
       "      <td>4</td>\n",
       "      <td>4.5</td>\n",
       "      <td>4.5</td>\n",
       "      <td>...</td>\n",
       "      <td>4.5</td>\n",
       "      <td>2</td>\n",
       "      <td>4.5</td>\n",
       "      <td>4.5</td>\n",
       "      <td>4.5</td>\n",
       "      <td>4</td>\n",
       "      <td>4.5</td>\n",
       "      <td>4.5</td>\n",
       "      <td>SR</td>\n",
       "      <td>2</td>\n",
       "    </tr>\n",
       "    <tr>\n",
       "      <th>id_func23</th>\n",
       "      <td>3</td>\n",
       "      <td>4</td>\n",
       "      <td>3</td>\n",
       "      <td>4</td>\n",
       "      <td>4</td>\n",
       "      <td>3</td>\n",
       "      <td>4</td>\n",
       "      <td>4</td>\n",
       "      <td>4</td>\n",
       "      <td>4</td>\n",
       "      <td>...</td>\n",
       "      <td>4</td>\n",
       "      <td>4</td>\n",
       "      <td>4</td>\n",
       "      <td>4</td>\n",
       "      <td>3</td>\n",
       "      <td>4</td>\n",
       "      <td>4</td>\n",
       "      <td>4</td>\n",
       "      <td>COOR</td>\n",
       "      <td>2</td>\n",
       "    </tr>\n",
       "    <tr>\n",
       "      <th>id_func28</th>\n",
       "      <td>3.5</td>\n",
       "      <td>3.5</td>\n",
       "      <td>3</td>\n",
       "      <td>3</td>\n",
       "      <td>3.5</td>\n",
       "      <td>4</td>\n",
       "      <td>3</td>\n",
       "      <td>3.5</td>\n",
       "      <td>3.5</td>\n",
       "      <td>4</td>\n",
       "      <td>...</td>\n",
       "      <td>4</td>\n",
       "      <td>4.1</td>\n",
       "      <td>4.3</td>\n",
       "      <td>4.1</td>\n",
       "      <td>4</td>\n",
       "      <td>4.1</td>\n",
       "      <td>4.2</td>\n",
       "      <td>4</td>\n",
       "      <td>COOR</td>\n",
       "      <td>2</td>\n",
       "    </tr>\n",
       "    <tr>\n",
       "      <th>id_func35</th>\n",
       "      <td>4</td>\n",
       "      <td>3.8</td>\n",
       "      <td>3.5</td>\n",
       "      <td>4</td>\n",
       "      <td>4.2</td>\n",
       "      <td>4.2</td>\n",
       "      <td>4</td>\n",
       "      <td>4.2</td>\n",
       "      <td>4.1</td>\n",
       "      <td>3.8</td>\n",
       "      <td>...</td>\n",
       "      <td>4.2</td>\n",
       "      <td>4.1</td>\n",
       "      <td>4.3</td>\n",
       "      <td>4.1</td>\n",
       "      <td>4.5</td>\n",
       "      <td>4.3</td>\n",
       "      <td>4.2</td>\n",
       "      <td>3.8</td>\n",
       "      <td>COOR</td>\n",
       "      <td>2</td>\n",
       "    </tr>\n",
       "    <tr>\n",
       "      <th>id_func38</th>\n",
       "      <td>2.5</td>\n",
       "      <td>2.5</td>\n",
       "      <td>1.5</td>\n",
       "      <td>1.5</td>\n",
       "      <td>1.5</td>\n",
       "      <td>1</td>\n",
       "      <td>1</td>\n",
       "      <td>1.5</td>\n",
       "      <td>3</td>\n",
       "      <td>3.5</td>\n",
       "      <td>...</td>\n",
       "      <td>4</td>\n",
       "      <td>4.3</td>\n",
       "      <td>4</td>\n",
       "      <td>4.5</td>\n",
       "      <td>4.3</td>\n",
       "      <td>4.2</td>\n",
       "      <td>4.2</td>\n",
       "      <td>3.5</td>\n",
       "      <td>PL</td>\n",
       "      <td>2</td>\n",
       "    </tr>\n",
       "    <tr>\n",
       "      <th>id_func49</th>\n",
       "      <td>4</td>\n",
       "      <td>4.5</td>\n",
       "      <td>4</td>\n",
       "      <td>3</td>\n",
       "      <td>4</td>\n",
       "      <td>4</td>\n",
       "      <td>4</td>\n",
       "      <td>4</td>\n",
       "      <td>3</td>\n",
       "      <td>4</td>\n",
       "      <td>...</td>\n",
       "      <td>4.5</td>\n",
       "      <td>4.5</td>\n",
       "      <td>4.5</td>\n",
       "      <td>4.5</td>\n",
       "      <td>4.5</td>\n",
       "      <td>4.5</td>\n",
       "      <td>4.5</td>\n",
       "      <td>4.5</td>\n",
       "      <td>SR</td>\n",
       "      <td>2</td>\n",
       "    </tr>\n",
       "    <tr>\n",
       "      <th>id_func57</th>\n",
       "      <td>4</td>\n",
       "      <td>3.7</td>\n",
       "      <td>3.5</td>\n",
       "      <td>4</td>\n",
       "      <td>3.8</td>\n",
       "      <td>4</td>\n",
       "      <td>4</td>\n",
       "      <td>3.8</td>\n",
       "      <td>3.5</td>\n",
       "      <td>3.1</td>\n",
       "      <td>...</td>\n",
       "      <td>5</td>\n",
       "      <td>4</td>\n",
       "      <td>4.1</td>\n",
       "      <td>4.8</td>\n",
       "      <td>4.1</td>\n",
       "      <td>4.1</td>\n",
       "      <td>4</td>\n",
       "      <td>4.1</td>\n",
       "      <td>COOR</td>\n",
       "      <td>2</td>\n",
       "    </tr>\n",
       "  </tbody>\n",
       "</table>\n",
       "<p>10 rows × 148 columns</p>\n",
       "</div>"
      ],
      "text/plain": [
       "UniqueSkill Competências Técnicas|Gestão de Projetos|Gestão da Qualidade  \\\n",
       "id_func1                                                   3.5             \n",
       "id_func2                                                   3.5             \n",
       "id_func19                                                    2             \n",
       "id_func20                                                    4             \n",
       "id_func23                                                    3             \n",
       "id_func28                                                  3.5             \n",
       "id_func35                                                    4             \n",
       "id_func38                                                  2.5             \n",
       "id_func49                                                    4             \n",
       "id_func57                                                    4             \n",
       "\n",
       "UniqueSkill Competências Técnicas|Gestão de Projetos|Gestão de Cronograma  \\\n",
       "id_func1                                                   2.5              \n",
       "id_func2                                                     4              \n",
       "id_func19                                                    1              \n",
       "id_func20                                                    4              \n",
       "id_func23                                                    4              \n",
       "id_func28                                                  3.5              \n",
       "id_func35                                                  3.8              \n",
       "id_func38                                                  2.5              \n",
       "id_func49                                                  4.5              \n",
       "id_func57                                                  3.7              \n",
       "\n",
       "UniqueSkill Competências Técnicas|Gestão de Projetos|Gestão de Custos  \\\n",
       "id_func1                                                   1.5          \n",
       "id_func2                                                   2.5          \n",
       "id_func19                                                    1          \n",
       "id_func20                                                  2.5          \n",
       "id_func23                                                    3          \n",
       "id_func28                                                    3          \n",
       "id_func35                                                  3.5          \n",
       "id_func38                                                  1.5          \n",
       "id_func49                                                    4          \n",
       "id_func57                                                  3.5          \n",
       "\n",
       "UniqueSkill Competências Técnicas|Gestão de Projetos|Gestão de Escopo  \\\n",
       "id_func1                                                     3          \n",
       "id_func2                                                     4          \n",
       "id_func19                                                    2          \n",
       "id_func20                                                    4          \n",
       "id_func23                                                    4          \n",
       "id_func28                                                    3          \n",
       "id_func35                                                    4          \n",
       "id_func38                                                  1.5          \n",
       "id_func49                                                    3          \n",
       "id_func57                                                    4          \n",
       "\n",
       "UniqueSkill Competências Técnicas|Gestão de Projetos|Gestão de Métricas e indicadores  \\\n",
       "id_func1                                                   2.5                          \n",
       "id_func2                                                     4                          \n",
       "id_func19                                                    1                          \n",
       "id_func20                                                  4.5                          \n",
       "id_func23                                                    4                          \n",
       "id_func28                                                  3.5                          \n",
       "id_func35                                                  4.2                          \n",
       "id_func38                                                  1.5                          \n",
       "id_func49                                                    4                          \n",
       "id_func57                                                  3.8                          \n",
       "\n",
       "UniqueSkill Competências Técnicas|Gestão de Projetos|Gestão de Pessoas  \\\n",
       "id_func1                                                   2.5           \n",
       "id_func2                                                   4.5           \n",
       "id_func19                                                    2           \n",
       "id_func20                                                    4           \n",
       "id_func23                                                    3           \n",
       "id_func28                                                    4           \n",
       "id_func35                                                  4.2           \n",
       "id_func38                                                    1           \n",
       "id_func49                                                    4           \n",
       "id_func57                                                    4           \n",
       "\n",
       "UniqueSkill Competências Técnicas|Gestão de Projetos|Gestão de Riscos  \\\n",
       "id_func1                                                     3          \n",
       "id_func2                                                     4          \n",
       "id_func19                                                    2          \n",
       "id_func20                                                    4          \n",
       "id_func23                                                    4          \n",
       "id_func28                                                    3          \n",
       "id_func35                                                    4          \n",
       "id_func38                                                    1          \n",
       "id_func49                                                    4          \n",
       "id_func57                                                    4          \n",
       "\n",
       "UniqueSkill Competências Técnicas|Gestão de Projetos|Gestão de Stakeholders  \\\n",
       "id_func1                                                   2.5                \n",
       "id_func2                                                   3.8                \n",
       "id_func19                                                    2                \n",
       "id_func20                                                    4                \n",
       "id_func23                                                    4                \n",
       "id_func28                                                  3.5                \n",
       "id_func35                                                  4.2                \n",
       "id_func38                                                  1.5                \n",
       "id_func49                                                    4                \n",
       "id_func57                                                  3.8                \n",
       "\n",
       "UniqueSkill Competências Técnicas|Gestão de Projetos|Métodos de gestão de software  \\\n",
       "id_func1                                                   3.1                       \n",
       "id_func2                                                   4.2                       \n",
       "id_func19                                                  3.5                       \n",
       "id_func20                                                  4.5                       \n",
       "id_func23                                                    4                       \n",
       "id_func28                                                  3.5                       \n",
       "id_func35                                                  4.1                       \n",
       "id_func38                                                    3                       \n",
       "id_func49                                                    3                       \n",
       "id_func57                                                  3.5                       \n",
       "\n",
       "UniqueSkill Competências Técnicas|Quality Assurance|Análise de requisitos   \\\n",
       "id_func1                                                     4               \n",
       "id_func2                                                   4.2               \n",
       "id_func19                                                    4               \n",
       "id_func20                                                  4.5               \n",
       "id_func23                                                    4               \n",
       "id_func28                                                    4               \n",
       "id_func35                                                  3.8               \n",
       "id_func38                                                  3.5               \n",
       "id_func49                                                    4               \n",
       "id_func57                                                  3.1               \n",
       "\n",
       "UniqueSkill  ... Competências Comportamentais|-|Negociação  \\\n",
       "id_func1     ...                                         3   \n",
       "id_func2     ...                                         4   \n",
       "id_func19    ...                                       2.5   \n",
       "id_func20    ...                                       4.5   \n",
       "id_func23    ...                                         4   \n",
       "id_func28    ...                                         4   \n",
       "id_func35    ...                                       4.2   \n",
       "id_func38    ...                                         4   \n",
       "id_func49    ...                                       4.5   \n",
       "id_func57    ...                                         5   \n",
       "\n",
       "UniqueSkill Competências Comportamentais|-|Organização  \\\n",
       "id_func1                                           3.5   \n",
       "id_func2                                           4.8   \n",
       "id_func19                                          3.5   \n",
       "id_func20                                            2   \n",
       "id_func23                                            4   \n",
       "id_func28                                          4.1   \n",
       "id_func35                                          4.1   \n",
       "id_func38                                          4.3   \n",
       "id_func49                                          4.5   \n",
       "id_func57                                            4   \n",
       "\n",
       "UniqueSkill Competências Comportamentais|-|Planejamento  \\\n",
       "id_func1                                            3.5   \n",
       "id_func2                                            4.5   \n",
       "id_func19                                             4   \n",
       "id_func20                                           4.5   \n",
       "id_func23                                             4   \n",
       "id_func28                                           4.3   \n",
       "id_func35                                           4.3   \n",
       "id_func38                                             4   \n",
       "id_func49                                           4.5   \n",
       "id_func57                                           4.1   \n",
       "\n",
       "UniqueSkill Competências Comportamentais|-|Proatividade  \\\n",
       "id_func1                                            3.5   \n",
       "id_func2                                            4.1   \n",
       "id_func19                                             4   \n",
       "id_func20                                           4.5   \n",
       "id_func23                                             4   \n",
       "id_func28                                           4.1   \n",
       "id_func35                                           4.1   \n",
       "id_func38                                           4.5   \n",
       "id_func49                                           4.5   \n",
       "id_func57                                           4.8   \n",
       "\n",
       "UniqueSkill Competências Comportamentais|-|Relacionamento Interpessoal  \\\n",
       "id_func1                                                     4           \n",
       "id_func2                                                     4           \n",
       "id_func19                                                    4           \n",
       "id_func20                                                  4.5           \n",
       "id_func23                                                    3           \n",
       "id_func28                                                    4           \n",
       "id_func35                                                  4.5           \n",
       "id_func38                                                  4.3           \n",
       "id_func49                                                  4.5           \n",
       "id_func57                                                  4.1           \n",
       "\n",
       "UniqueSkill Competências Comportamentais|-|Resolução de Problemas  \\\n",
       "id_func1                                                     4      \n",
       "id_func2                                                     4      \n",
       "id_func19                                                    4      \n",
       "id_func20                                                    4      \n",
       "id_func23                                                    4      \n",
       "id_func28                                                  4.1      \n",
       "id_func35                                                  4.3      \n",
       "id_func38                                                  4.2      \n",
       "id_func49                                                  4.5      \n",
       "id_func57                                                  4.1      \n",
       "\n",
       "UniqueSkill Competências Comportamentais|-|Trabalho em Equipe  \\\n",
       "id_func1                                                    4   \n",
       "id_func2                                                  4.5   \n",
       "id_func19                                                   5   \n",
       "id_func20                                                 4.5   \n",
       "id_func23                                                   4   \n",
       "id_func28                                                 4.2   \n",
       "id_func35                                                 4.2   \n",
       "id_func38                                                 4.2   \n",
       "id_func49                                                 4.5   \n",
       "id_func57                                                   4   \n",
       "\n",
       "UniqueSkill Competências Comportamentais|-|Visão Sistemica Senioridade  \\\n",
       "id_func1                                               3.5          SR   \n",
       "id_func2                                               4.5          SR   \n",
       "id_func19                                                3          SR   \n",
       "id_func20                                              4.5          SR   \n",
       "id_func23                                                4        COOR   \n",
       "id_func28                                                4        COOR   \n",
       "id_func35                                              3.8        COOR   \n",
       "id_func38                                              3.5          PL   \n",
       "id_func49                                              4.5          SR   \n",
       "id_func57                                              4.1        COOR   \n",
       "\n",
       "UniqueSkill ClusterKMeans  \n",
       "id_func1                2  \n",
       "id_func2                2  \n",
       "id_func19               2  \n",
       "id_func20               2  \n",
       "id_func23               2  \n",
       "id_func28               2  \n",
       "id_func35               2  \n",
       "id_func38               2  \n",
       "id_func49               2  \n",
       "id_func57               2  \n",
       "\n",
       "[10 rows x 148 columns]"
      ]
     },
     "execution_count": 82,
     "metadata": {},
     "output_type": "execute_result"
    }
   ],
   "source": [
    "# Entre com o número do Cluster a ser exibido na variável ClusterI\n",
    "ClusterI = 2\n",
    "Xadj.loc[Xadj['ClusterKMeans']==ClusterI]"
   ]
  },
  {
   "cell_type": "code",
   "execution_count": 83,
   "metadata": {},
   "outputs": [
    {
     "name": "stdout",
     "output_type": "stream",
     "text": [
      "\\begin{tabular}{llc}\n",
      "\\hline\n",
      " ID Colaborador   & Senioridade   &  ClusterKMeans  \\\\\n",
      "\\hline\n",
      " id\\_func27        & JR            &        0        \\\\\n",
      " id\\_func29        & JR            &        0        \\\\\n",
      " id\\_func31        & JR            &        0        \\\\\n",
      " id\\_func32        & ESTAG         &        0        \\\\\n",
      " id\\_func33        & SR            &        0        \\\\\n",
      " id\\_func36        & PL            &        0        \\\\\n",
      " id\\_func37        & ESTAG         &        0        \\\\\n",
      " id\\_func39        & JR            &        0        \\\\\n",
      " id\\_func40        & ESTAG         &        0        \\\\\n",
      " id\\_func41        & ESTAG         &        0        \\\\\n",
      " id\\_func42        & JR            &        0        \\\\\n",
      " id\\_func47        & ESTAG         &        0        \\\\\n",
      " id\\_func48        & JR            &        0        \\\\\n",
      " id\\_func54        & ESTAG         &        0        \\\\\n",
      " id\\_func55        & TR            &        0        \\\\\n",
      " id\\_func56        & JR            &        0        \\\\\n",
      " id\\_func58        & JR            &        0        \\\\\n",
      "\\hline\n",
      "\\end{tabular}\n",
      "\\begin{tabular}{llc}\n",
      "\\hline\n",
      " ID Colaborador   & Senioridade   &  ClusterKMeans  \\\\\n",
      "\\hline\n",
      " id\\_func11        & PL            &        1        \\\\\n",
      " id\\_func13        & PL            &        1        \\\\\n",
      " id\\_func14        & PL            &        1        \\\\\n",
      " id\\_func15        & TR            &        1        \\\\\n",
      " id\\_func24        & JR            &        1        \\\\\n",
      " id\\_func25        & JR            &        1        \\\\\n",
      " id\\_func30        & TR            &        1        \\\\\n",
      " id\\_func34        & PL            &        1        \\\\\n",
      " id\\_func43        & JR            &        1        \\\\\n",
      " id\\_func45        & JR            &        1        \\\\\n",
      " id\\_func51        & SR            &        1        \\\\\n",
      "\\hline\n",
      "\\end{tabular}\n",
      "\\begin{tabular}{llc}\n",
      "\\hline\n",
      " ID Colaborador   & Senioridade   &  ClusterKMeans  \\\\\n",
      "\\hline\n",
      " id\\_func1         & SR            &        2        \\\\\n",
      " id\\_func2         & SR            &        2        \\\\\n",
      " id\\_func19        & SR            &        2        \\\\\n",
      " id\\_func20        & SR            &        2        \\\\\n",
      " id\\_func23        & COOR          &        2        \\\\\n",
      " id\\_func28        & COOR          &        2        \\\\\n",
      " id\\_func35        & COOR          &        2        \\\\\n",
      " id\\_func38        & PL            &        2        \\\\\n",
      " id\\_func49        & SR            &        2        \\\\\n",
      " id\\_func57        & COOR          &        2        \\\\\n",
      "\\hline\n",
      "\\end{tabular}\n",
      "\\begin{tabular}{llc}\n",
      "\\hline\n",
      " ID Colaborador   & Senioridade   &  ClusterKMeans  \\\\\n",
      "\\hline\n",
      " id\\_func3         & JR            &        3        \\\\\n",
      " id\\_func4         & JR            &        3        \\\\\n",
      " id\\_func5         & JR            &        3        \\\\\n",
      " id\\_func6         & ESTAG         &        3        \\\\\n",
      " id\\_func7         & TR            &        3        \\\\\n",
      " id\\_func8         & JR            &        3        \\\\\n",
      " id\\_func9         & JR            &        3        \\\\\n",
      " id\\_func10        & JR            &        3        \\\\\n",
      " id\\_func12        & PL            &        3        \\\\\n",
      " id\\_func16        & TR            &        3        \\\\\n",
      " id\\_func17        & JR            &        3        \\\\\n",
      " id\\_func18        & TR            &        3        \\\\\n",
      " id\\_func21        & PL            &        3        \\\\\n",
      " id\\_func22        & JR            &        3        \\\\\n",
      " id\\_func44        & PL            &        3        \\\\\n",
      " id\\_func46        & SR            &        3        \\\\\n",
      " id\\_func50        & TR            &        3        \\\\\n",
      " id\\_func52        & TR            &        3        \\\\\n",
      " id\\_func53        & JR            &        3        \\\\\n",
      "\\hline\n",
      "\\end{tabular}\n"
     ]
    }
   ],
   "source": [
    "# Imprimindo as tabelas com os clusters identificados\n",
    "for idxcluster in range (0, 4):\n",
    "    qry = Xadj.loc[Xadj['ClusterKMeans']==idxcluster,['Senioridade', 'ClusterKMeans']]\n",
    "    print(tabulate(qry, headers=['ID Colaborador', 'Senioridade', 'ClusterKMeans'], tablefmt='latex', numalign='center', floatfmt=\".1f\", showindex=True))"
   ]
  },
  {
   "cell_type": "markdown",
   "metadata": {},
   "source": [
    "Criando um classificador por regressão logística para estimar o **grupo** a partir do perfil de skills e da classificação feita pelo K-Means:"
   ]
  },
  {
   "cell_type": "code",
   "execution_count": 102,
   "metadata": {},
   "outputs": [
    {
     "name": "stdout",
     "output_type": "stream",
     "text": [
      "Acurácia na base de teste: 1.00\n"
     ]
    }
   ],
   "source": [
    "features = X.values\n",
    "labels = labels_kmeans\n",
    "\n",
    "# Normalizando:\n",
    "scaler = StandardScaler().fit(features)\n",
    "features_scaled = scaler.transform(features)\n",
    "\n",
    "# Selecionamos os conjunto de treinamento e teste usando o método hold-out:\n",
    "from sklearn.model_selection import train_test_split\n",
    "p = 0.2 # fraction of elements in the test set\n",
    "x_train, x_test, y_train, y_test = train_test_split(features, labels, test_size = p, random_state = 42)\n",
    "\n",
    "# Realizando a classificação por regressão logística:\n",
    "from sklearn.linear_model import LogisticRegression\n",
    "from sklearn import metrics\n",
    "\n",
    "model = LogisticRegression(solver = 'lbfgs', multi_class = 'auto', max_iter = 1000)\n",
    "model.fit(x_train, y_train)\n",
    "\n",
    "y_pred = model.predict(x_test)\n",
    "print(f'Acurácia na base de teste: {model.score(x_test, y_test):.2f}')"
   ]
  },
  {
   "cell_type": "markdown",
   "metadata": {},
   "source": [
    "Criando um classificador por regressão logística para predizer a **senioridade** a partir do perfil de skills:"
   ]
  },
  {
   "cell_type": "code",
   "execution_count": 129,
   "metadata": {},
   "outputs": [
    {
     "name": "stdout",
     "output_type": "stream",
     "text": [
      "O modelo obteve 1.00 de acurácia na base de treinamento.\n",
      "O modelo obteve 0.58 de acurácia na base de teste.\n"
     ]
    }
   ],
   "source": [
    "features = X.values\n",
    "labels = Xadj['Senioridade'].values\n",
    "\n",
    "# Normalizando:\n",
    "scaler = StandardScaler().fit(features)\n",
    "features_scaled = scaler.transform(features)\n",
    "\n",
    "# Selecionamos os conjunto de treinamento e teste usando o método hold-out:\n",
    "from sklearn.model_selection import train_test_split\n",
    "p = 0.2 # fraction of elements in the test set\n",
    "x_train, x_test, y_train, y_test = train_test_split(features_scaled, labels, test_size = p, random_state = 42)\n",
    "\n",
    "# Realizando a classificação por regressão logística:\n",
    "from sklearn.linear_model import LogisticRegression\n",
    "from sklearn import metrics\n",
    "from sklearn.metrics import accuracy_score\n",
    "\n",
    "model = LogisticRegression(solver = 'lbfgs', multi_class = 'auto', max_iter = 1000)\n",
    "model.fit(x_train, y_train)\n",
    "\n",
    "\n",
    "acuracia = accuracy_score(y_train, model.predict(x_train))\n",
    "print('O modelo obteve %0.2f de acurácia na base de treinamento.' % acuracia)\n",
    "acuracia = accuracy_score(y_test, model.predict(x_test))\n",
    "print('O modelo obteve %0.2f de acurácia na base de teste.' % acuracia)"
   ]
  },
  {
   "cell_type": "code",
   "execution_count": 116,
   "metadata": {},
   "outputs": [
    {
     "data": {
      "text/plain": [
       "12"
      ]
     },
     "execution_count": 116,
     "metadata": {},
     "output_type": "execute_result"
    }
   ],
   "source": [
    "len(x_test)"
   ]
  },
  {
   "cell_type": "code",
   "execution_count": 86,
   "metadata": {},
   "outputs": [
    {
     "name": "stderr",
     "output_type": "stream",
     "text": [
      "C:\\Users\\jmsan\\anaconda3\\lib\\site-packages\\sklearn\\model_selection\\_split.py:667: UserWarning: The least populated class in y has only 3 members, which is less than n_splits=5.\n",
      "  % (min_groups, self.n_splits)), UserWarning)\n"
     ]
    },
    {
     "name": "stdout",
     "output_type": "stream",
     "text": [
      "Acurácia média: 48.89%\n",
      "Intervalo de acurácia: [26.23% ~ 71.55%]\n"
     ]
    }
   ],
   "source": [
    "# Usando Cross Validation \n",
    "\n",
    "from sklearn.model_selection import cross_val_score\n",
    "\n",
    "model = LogisticRegression(solver = 'lbfgs', multi_class = 'auto', max_iter = 1000)\n",
    "results = cross_val_score(model, x_train, y_train, cv = 5, scoring = 'accuracy')\n",
    "def intervalo(results):\n",
    "    mean = results.mean()\n",
    "    dv = results.std()\n",
    "    print('Acurácia média: {:.2f}%'.format(mean*100))\n",
    "    print('Intervalo de acurácia: [{:.2f}% ~ {:.2f}%]'\n",
    "           .format((mean - 2*dv)*100, (mean + 2*dv)*100))\n",
    "intervalo(results)"
   ]
  },
  {
   "cell_type": "code",
   "execution_count": 87,
   "metadata": {},
   "outputs": [
    {
     "name": "stdout",
     "output_type": "stream",
     "text": [
      "Acurácia média: 46.67%\n",
      "Intervalo de acurácia: [30.04% ~ 63.30%]\n"
     ]
    }
   ],
   "source": [
    "from sklearn.model_selection import KFold\n",
    "\n",
    "cv = KFold(n_splits = 5, shuffle = True)\n",
    "model = LogisticRegression(solver = 'lbfgs', multi_class = 'auto', max_iter = 1000)\n",
    "results = cross_val_score(model, x_train, y_train, cv = cv)\n",
    "intervalo(results)"
   ]
  },
  {
   "cell_type": "code",
   "execution_count": 135,
   "metadata": {},
   "outputs": [
    {
     "name": "stdout",
     "output_type": "stream",
     "text": [
      "SVM Validation Train = Precision: 1.00, Recall: 1.00, Accuracy: 1.00\n",
      "SVM Validation Test = Precision: 0.50, Recall: 0.50, Accuracy: 0.50\n"
     ]
    }
   ],
   "source": [
    "from sklearn import svm\n",
    "from sklearn.metrics import precision_score, recall_score\n",
    "\n",
    "features = X.values\n",
    "labels = Xadj['Senioridade'].values\n",
    "\n",
    "# Normalizando:\n",
    "scaler = StandardScaler().fit(features)\n",
    "features_scaled = scaler.transform(features)\n",
    "\n",
    "# Selecionamos os conjunto de treinamento e teste usando o método hold-out:\n",
    "from sklearn.model_selection import train_test_split\n",
    "p = 0.2 # fraction of elements in the test set\n",
    "x_train, x_test, y_train, y_test = train_test_split(features_scaled, labels, test_size = p, random_state = 42)\n",
    "\n",
    "#clf_svm = svm.SVC(C=0.5, gamma = 'auto', kernel='linear', random_state=1)\n",
    "clf_svm = svm.SVC(C=1, gamma = 'auto', kernel='linear', decision_function_shape='ovo', random_state=1)\n",
    "clf_svm.fit(x_train, y_train)\n",
    "\n",
    "y_train_pred = clf_svm.predict(x_train)\n",
    "score_accuracy = accuracy_score(y_train, y_train_pred)\n",
    "score_precision = precision_score(y_train, y_train_pred, average='micro')\n",
    "score_recall = recall_score(y_train, y_train_pred, average='micro')\n",
    "print(f\"SVM Validation Train = Precision: {score_precision:.2f}, Recall: {score_recall:.2f}, Accuracy: {score_accuracy:.2f}\")\n",
    "\n",
    "y_test_pred = clf_svm.predict(x_test) \n",
    "score_accuracy = accuracy_score(y_test, y_test_pred)\n",
    "score_precision = precision_score(y_test, y_test_pred, average='micro')\n",
    "score_recall = recall_score(y_test, y_test_pred, average='micro')\n",
    "print(f\"SVM Validation Test = Precision: {score_precision:.2f}, Recall: {score_recall:.2f}, Accuracy: {score_accuracy:.2f}\")"
   ]
  },
  {
   "cell_type": "markdown",
   "metadata": {},
   "source": [
    "Criando um classificador por regressão logística para predizer o **projeto** a partir do perfil de skills:"
   ]
  },
  {
   "cell_type": "code",
   "execution_count": 89,
   "metadata": {
    "scrolled": true
   },
   "outputs": [],
   "source": [
    "# Adicionando uma coluna a Xadj com o projeto de cada colaborador\n",
    "Xadj['Projeto']=Xadj.apply(lambda row: FindProject(row.name), axis=1)"
   ]
  },
  {
   "cell_type": "code",
   "execution_count": 90,
   "metadata": {},
   "outputs": [
    {
     "name": "stdout",
     "output_type": "stream",
     "text": [
      "O modelo obteve 0.5000 de acurácia.\n"
     ]
    }
   ],
   "source": [
    "features = X.values\n",
    "labels = Xadj['Projeto'].values\n",
    "\n",
    "# Normalizando:\n",
    "scaler = StandardScaler().fit(features)\n",
    "features_scaled = scaler.transform(features)\n",
    "\n",
    "# Selecionamos os conjunto de treinamento e teste usando o método hold-out:\n",
    "from sklearn.model_selection import train_test_split\n",
    "p = 0.2 # fraction of elements in the test set\n",
    "x_train, x_test, y_train, y_test = train_test_split(features_scaled, labels, test_size = p, random_state = 42)\n",
    "\n",
    "# Realizando a classificação por regressão logística:\n",
    "from sklearn.linear_model import LogisticRegression\n",
    "from sklearn import metrics\n",
    "from sklearn.metrics import accuracy_score\n",
    "\n",
    "model = LogisticRegression(solver = 'lbfgs', multi_class = 'auto', max_iter = 1000)\n",
    "model.fit(x_train, y_train)\n",
    "\n",
    "acuracia = accuracy_score(y_test, model.predict(x_test))\n",
    "print('O modelo obteve %0.4f de acurácia.' % acuracia)"
   ]
  },
  {
   "cell_type": "code",
   "execution_count": 91,
   "metadata": {},
   "outputs": [
    {
     "name": "stderr",
     "output_type": "stream",
     "text": [
      "C:\\Users\\jmsan\\anaconda3\\lib\\site-packages\\sklearn\\model_selection\\_split.py:667: UserWarning: The least populated class in y has only 1 members, which is less than n_splits=5.\n",
      "  % (min_groups, self.n_splits)), UserWarning)\n"
     ]
    },
    {
     "name": "stdout",
     "output_type": "stream",
     "text": [
      "Acurácia média: 77.78%\n",
      "Intervalo de acurácia: [77.78% ~ 77.78%]\n"
     ]
    }
   ],
   "source": [
    "# Usando Cross Validation \n",
    "\n",
    "from sklearn.model_selection import cross_val_score\n",
    "\n",
    "model = LogisticRegression(solver = 'lbfgs', multi_class = 'auto', max_iter = 1000)\n",
    "results = cross_val_score(model, x_train, y_train, cv = 5, scoring = 'accuracy')\n",
    "def intervalo(results):\n",
    "    mean = results.mean()\n",
    "    dv = results.std()\n",
    "    print('Acurácia média: {:.2f}%'.format(mean*100))\n",
    "    print('Intervalo de acurácia: [{:.2f}% ~ {:.2f}%]'\n",
    "           .format((mean - 2*dv)*100, (mean + 2*dv)*100))\n",
    "intervalo(results)"
   ]
  },
  {
   "cell_type": "code",
   "execution_count": 133,
   "metadata": {},
   "outputs": [
    {
     "name": "stdout",
     "output_type": "stream",
     "text": [
      "SVM Validation Train = Precision: 1.00, Recall: 1.00, Accuracy: 1.00\n",
      "SVM Validation Test = Precision: 0.50, Recall: 0.50, Accuracy: 0.50\n"
     ]
    }
   ],
   "source": [
    "from sklearn import svm\n",
    "from sklearn.metrics import precision_score, recall_score\n",
    "\n",
    "features = X.values\n",
    "labels = Xadj['Projeto'].values\n",
    "\n",
    "# Normalizando:\n",
    "scaler = StandardScaler().fit(features)\n",
    "features_scaled = scaler.transform(features)\n",
    "\n",
    "# Selecionamos os conjunto de treinamento e teste usando o método hold-out:\n",
    "from sklearn.model_selection import train_test_split\n",
    "p = 0.2 # fraction of elements in the test set\n",
    "x_train, x_test, y_train, y_test = train_test_split(features_scaled, labels, test_size = p, random_state = 42)\n",
    "\n",
    "#clf_svm = svm.SVC(C=0.5, gamma = 'auto', random_state=1)\n",
    "clf_svm = svm.SVC(C=1, gamma = 'auto', kernel='linear', decision_function_shape='ovo', random_state=1)\n",
    "clf_svm.fit(x_train, y_train)\n",
    "\n",
    "y_train_pred = clf_svm.predict(x_train) \n",
    "score_accuracy = accuracy_score(y_train, y_train_pred)\n",
    "score_precision = precision_score(y_train, y_train_pred, average='micro')\n",
    "score_recall = recall_score(y_train, y_train_pred, average='micro')\n",
    "print(f\"SVM Validation Train = Precision: {score_precision:.2f}, Recall: {score_recall:.2f}, Accuracy: {score_accuracy:.2f}\")\n",
    "\n",
    "y_test_pred = clf_svm.predict(x_test) \n",
    "score_accuracy = accuracy_score(y_test, y_test_pred)\n",
    "score_precision = precision_score(y_test, y_test_pred, average='micro')\n",
    "score_recall = recall_score(y_test, y_test_pred, average='micro')\n",
    "print(f\"SVM Validation Test = Precision: {score_precision:.2f}, Recall: {score_recall:.2f}, Accuracy: {score_accuracy:.2f}\")"
   ]
  },
  {
   "cell_type": "markdown",
   "metadata": {},
   "source": [
    "Utilizando o agrupamento hierárquico / dendrograma para identificar outliers em clusters de colaboradores com perfis de skills semelhantes:"
   ]
  },
  {
   "cell_type": "code",
   "execution_count": 93,
   "metadata": {},
   "outputs": [],
   "source": [
    "def llf (id):\n",
    "    return Xadj.index[id]+' | '+FindSeniority(Xadj.index[id])"
   ]
  },
  {
   "cell_type": "code",
   "execution_count": 101,
   "metadata": {},
   "outputs": [
    {
     "data": {
      "image/png": "[encoded data removed]",
      "text/plain": [
       "<Figure size 1080x1440 with 1 Axes>"
      ]
     },
     "metadata": {
      "needs_background": "light"
     },
     "output_type": "display_data"
    }
   ],
   "source": [
    "import scipy.cluster.hierarchy as sch\n",
    "plt.figure(figsize=(15, 20))\n",
    "dend = sch.dendrogram(sch.linkage(X.values, method='ward'), leaf_label_func=llf, orientation='right', leaf_font_size=10)\n",
    "plt.savefig('dendrogram.svg')"
   ]
  },
  {
   "cell_type": "code",
   "execution_count": 95,
   "metadata": {},
   "outputs": [
    {
     "name": "stdout",
     "output_type": "stream",
     "text": [
      "--- 51.2460196018219 seconds ---\n"
     ]
    }
   ],
   "source": [
    "print(\"--- %s seconds ---\" % (time.time() - start_time)) # Tempo total para rodar todo o pipeline"
   ]
  },
  {
   "cell_type": "markdown",
   "metadata": {},
   "source": [
    "Formatação de tabelas auxiliares:"
   ]
  },
  {
   "cell_type": "code",
   "execution_count": 96,
   "metadata": {},
   "outputs": [
    {
     "name": "stdout",
     "output_type": "stream",
     "text": [
      "\\begin{tabular}{lll}\n",
      "\\hline\n",
      " Tipo                         & Area               & Skill                                        \\\\\n",
      "\\hline\n",
      " Competências Técnicas        & Gestão de Projetos & Gestão da Qualidade                          \\\\\n",
      " Competências Técnicas        & Gestão de Projetos & Gestão de Cronograma                         \\\\\n",
      " Competências Técnicas        & Gestão de Projetos & Gestão de Custos                             \\\\\n",
      " Competências Técnicas        & Gestão de Projetos & Gestão de Escopo                             \\\\\n",
      " Competências Técnicas        & Gestão de Projetos & Gestão de Métricas e indicadores             \\\\\n",
      " Competências Técnicas        & Gestão de Projetos & Gestão de Pessoas                            \\\\\n",
      " Competências Técnicas        & Gestão de Projetos & Gestão de Riscos                             \\\\\n",
      " Competências Técnicas        & Gestão de Projetos & Gestão de Stakeholders                       \\\\\n",
      " Competências Técnicas        & Gestão de Projetos & Métodos de gestão de software                \\\\\n",
      " Competências Técnicas        & Quality Assurance  & Análise de requisitos                        \\\\\n",
      " Competências Técnicas        & Quality Assurance  & Automação de teste                           \\\\\n",
      " Competências Técnicas        & Quality Assurance  & Behavior Driven Development                  \\\\\n",
      " Competências Técnicas        & Quality Assurance  & Definição da estratégia de teste             \\\\\n",
      " Competências Técnicas        & Quality Assurance  & Design de testes                             \\\\\n",
      " Competências Técnicas        & Quality Assurance  & EDA (Escaped Defect Analysis)                \\\\\n",
      " Competências Técnicas        & Quality Assurance  & Matriz de cobertura                          \\\\\n",
      " Competências Técnicas        & Quality Assurance  & Planejamento dos ciclos de teste             \\\\\n",
      " Competências Técnicas        & Quality Assurance  & Scripts de teste manual                      \\\\\n",
      " Competências Técnicas        & Quality Assurance  & Test Driven Development                      \\\\\n",
      " Competências Técnicas        & Quality Assurance  & Teste Bluetooth                              \\\\\n",
      " Competências Técnicas        & Quality Assurance  & Teste de aceitação                           \\\\\n",
      " Competências Técnicas        & Quality Assurance  & Teste de acessibilidade                      \\\\\n",
      " Competências Técnicas        & Quality Assurance  & Teste de API                                 \\\\\n",
      " Competências Técnicas        & Quality Assurance  & Teste de aplicativos/jogos                   \\\\\n",
      " Competências Técnicas        & Quality Assurance  & Teste de banco de dados                      \\\\\n",
      " Competências Técnicas        & Quality Assurance  & Teste de benchmark                           \\\\\n",
      " Competências Técnicas        & Quality Assurance  & Teste de campo                               \\\\\n",
      " Competências Técnicas        & Quality Assurance  & Teste de carga                               \\\\\n",
      " Competências Técnicas        & Quality Assurance  & Teste de compatibilidade                     \\\\\n",
      " Competências Técnicas        & Quality Assurance  & Teste de contrato                            \\\\\n",
      " Competências Técnicas        & Quality Assurance  & Teste de IA                                  \\\\\n",
      " Competências Técnicas        & Quality Assurance  & Teste de integração                          \\\\\n",
      " Competências Técnicas        & Quality Assurance  & Teste de Machine Learning                    \\\\\n",
      " Competências Técnicas        & Quality Assurance  & Teste de nuvem AWS                           \\\\\n",
      " Competências Técnicas        & Quality Assurance  & Teste de nuvem Azure                         \\\\\n",
      " Competências Técnicas        & Quality Assurance  & Teste de performance                         \\\\\n",
      " Competências Técnicas        & Quality Assurance  & Teste de Realidade Aumentada (AR)            \\\\\n",
      " Competências Técnicas        & Quality Assurance  & Teste de Realidade Virtual (VR)              \\\\\n",
      " Competências Técnicas        & Quality Assurance  & Teste de regressão                           \\\\\n",
      " Competências Técnicas        & Quality Assurance  & Teste de sanidade                            \\\\\n",
      " Competências Técnicas        & Quality Assurance  & Teste de segurança                           \\\\\n",
      " Competências Técnicas        & Quality Assurance  & Teste de sistema                             \\\\\n",
      " Competências Técnicas        & Quality Assurance  & Teste de software em desenvolvimento Cascata \\\\\n",
      " Competências Técnicas        & Quality Assurance  & Teste de software em desenvolvimento Kanban  \\\\\n",
      " Competências Técnicas        & Quality Assurance  & Teste de software em desenvolvimento Scrum   \\\\\n",
      " Competências Técnicas        & Quality Assurance  & Teste de soluções Unity                      \\\\\n",
      " Competências Técnicas        & Quality Assurance  & Teste de soluções web                        \\\\\n",
      " Competências Técnicas        & Quality Assurance  & Teste de soluções Windows                    \\\\\n",
      " Competências Técnicas        & Quality Assurance  & Teste de usabilidade                         \\\\\n",
      " Competências Técnicas        & Quality Assurance  & Teste de user trial                          \\\\\n",
      " Competências Técnicas        & Quality Assurance  & Teste em ambiente Linux                      \\\\\n",
      " Competências Técnicas        & Quality Assurance  & Teste em sistema operacional Android         \\\\\n",
      " Competências Técnicas        & Quality Assurance  & Teste em sistema operacional iOS             \\\\\n",
      " Competências Técnicas        & Quality Assurance  & Teste funcional                              \\\\\n",
      " Competências Técnicas        & Quality Assurance  & Teste mobile 2G                              \\\\\n",
      " Competências Técnicas        & Quality Assurance  & Teste mobile 3G                              \\\\\n",
      " Competências Técnicas        & Quality Assurance  & Teste mobile 4G                              \\\\\n",
      " Competências Técnicas        & Quality Assurance  & Teste mobile 5G                              \\\\\n",
      " Competências Técnicas        & Quality Assurance  & Teste mobile IMS                             \\\\\n",
      " Competências Técnicas        & Quality Assurance  & Teste NFC                                    \\\\\n",
      " Competências Técnicas        & Quality Assurance  & Teste unitário                               \\\\\n",
      " Competências Técnicas        & Quality Assurance  & Teste WiFi                                   \\\\\n",
      " Competências Técnicas        & Quality Assurance  & Testes exploratórios                         \\\\\n",
      " Ferramentas                  & -                  & Android Profiler                             \\\\\n",
      " Ferramentas                  & -                  & Android Studio                               \\\\\n",
      " Ferramentas                  & -                  & Appium                                       \\\\\n",
      " Ferramentas                  & -                  & Artifactory                                  \\\\\n",
      " Ferramentas                  & -                  & Automation Anywhere                          \\\\\n",
      " Ferramentas                  & -                  & BEAT                                         \\\\\n",
      " Ferramentas                  & -                  & Bitbucket                                    \\\\\n",
      " Ferramentas                  & -                  & Brity RPA                                    \\\\\n",
      " Ferramentas                  & -                  & CircleCI                                     \\\\\n",
      " Ferramentas                  & -                  & CodeBeamer                                   \\\\\n",
      " Ferramentas                  & -                  & Confluence                                   \\\\\n",
      " Ferramentas                  & -                  & Cucumber                                     \\\\\n",
      " Ferramentas                  & -                  & DMZ                                          \\\\\n",
      " Ferramentas                  & -                  & Eclipse                                      \\\\\n",
      " Ferramentas                  & -                  & Espresso                                     \\\\\n",
      " Ferramentas                  & -                  & Gatling                                      \\\\\n",
      " Ferramentas                  & -                  & Gerrit                                       \\\\\n",
      " Ferramentas                  & -                  & GIT                                          \\\\\n",
      " Ferramentas                  & -                  & GitHub                                       \\\\\n",
      " Ferramentas                  & -                  & GitLab                                       \\\\\n",
      " Ferramentas                  & -                  & Inspect                                      \\\\\n",
      " Ferramentas                  & -                  & Jbehave                                      \\\\\n",
      " Ferramentas                  & -                  & Jenkins                                      \\\\\n",
      " Ferramentas                  & -                  & Jira                                         \\\\\n",
      " Ferramentas                  & -                  & JMeter                                       \\\\\n",
      " Ferramentas                  & -                  & JUnit                                        \\\\\n",
      " Ferramentas                  & -                  & MS-Project                                   \\\\\n",
      " Ferramentas                  & -                  & MSTest                                       \\\\\n",
      " Ferramentas                  & -                  & NUnit                                        \\\\\n",
      " Ferramentas                  & -                  & Perforce                                     \\\\\n",
      " Ferramentas                  & -                  & PLM                                          \\\\\n",
      " Ferramentas                  & -                  & Postman                                      \\\\\n",
      " Ferramentas                  & -                  & PowerBI                                      \\\\\n",
      " Ferramentas                  & -                  & PyCharm                                      \\\\\n",
      " Ferramentas                  & -                  & Selenium                                     \\\\\n",
      " Ferramentas                  & -                  & Sikuli                                       \\\\\n",
      " Ferramentas                  & -                  & SoapUI                                       \\\\\n",
      " Ferramentas                  & -                  & SpecFlow                                     \\\\\n",
      " Ferramentas                  & -                  & SVN                                          \\\\\n",
      " Ferramentas                  & -                  & Test Complete                                \\\\\n",
      " Ferramentas                  & -                  & Testlink                                     \\\\\n",
      " Ferramentas                  & -                  & TM4J                                         \\\\\n",
      " Ferramentas                  & -                  & UI Automator                                 \\\\\n",
      " Ferramentas                  & -                  & UI Path                                      \\\\\n",
      " Ferramentas                  & -                  & Visual Studio                                \\\\\n",
      " Ferramentas                  & -                  & VS Code                                      \\\\\n",
      " Ferramentas                  & -                  & Vyzor                                        \\\\\n",
      " Ferramentas                  & -                  & Windows App Driver                           \\\\\n",
      " Ferramentas                  & -                  & XD                                           \\\\\n",
      " Ferramentas                  & -                  & Zephyr                                       \\\\\n",
      " Linguagens de Programação    & -                  & .NET                                         \\\\\n",
      " Linguagens de Programação    & -                  & Android                                      \\\\\n",
      " Linguagens de Programação    & -                  & C\\#                                           \\\\\n",
      " Linguagens de Programação    & -                  & Flutter                                      \\\\\n",
      " Linguagens de Programação    & -                  & Java                                         \\\\\n",
      " Linguagens de Programação    & -                  & Javascript                                   \\\\\n",
      " Linguagens de Programação    & -                  & JSON                                         \\\\\n",
      " Linguagens de Programação    & -                  & Kotlin                                       \\\\\n",
      " Linguagens de Programação    & -                  & Python                                       \\\\\n",
      " Linguagens de Programação    & -                  & Scala                                        \\\\\n",
      " Linguagens de Programação    & -                  & Shell script                                 \\\\\n",
      " Linguagens de Programação    & -                  & SQL                                          \\\\\n",
      " Linguagens de Programação    & -                  & VBA                                          \\\\\n",
      " Linguagens de Programação    & -                  & Visual Basic                                 \\\\\n",
      " Linguagens de Programação    & -                  & XML                                          \\\\\n",
      " Competências Comportamentais & -                  & Auto Confiança                               \\\\\n",
      " Competências Comportamentais & -                  & Capacidade Analitica                         \\\\\n",
      " Competências Comportamentais & -                  & Coerencia                                    \\\\\n",
      " Competências Comportamentais & -                  & Comunicação                                  \\\\\n",
      " Competências Comportamentais & -                  & Criatividade                                 \\\\\n",
      " Competências Comportamentais & -                  & Flexibilidade                                \\\\\n",
      " Competências Comportamentais & -                  & Foco                                         \\\\\n",
      " Competências Comportamentais & -                  & Gestão de Conflitos                          \\\\\n",
      " Competências Comportamentais & -                  & Integridade                                  \\\\\n",
      " Competências Comportamentais & -                  & Liderança                                    \\\\\n",
      " Competências Comportamentais & -                  & Negociação                                   \\\\\n",
      " Competências Comportamentais & -                  & Organização                                  \\\\\n",
      " Competências Comportamentais & -                  & Planejamento                                 \\\\\n",
      " Competências Comportamentais & -                  & Proatividade                                 \\\\\n",
      " Competências Comportamentais & -                  & Relacionamento Interpessoal                  \\\\\n",
      " Competências Comportamentais & -                  & Resolução de Problemas                       \\\\\n",
      " Competências Comportamentais & -                  & Trabalho em Equipe                           \\\\\n",
      " Competências Comportamentais & -                  & Visão Sistemica                              \\\\\n",
      "\\hline\n",
      "\\end{tabular}\n"
     ]
    }
   ],
   "source": [
    "qry = FotoSkills[['Tipo', 'Area', 'Skill']]\n",
    "print(tabulate(qry, headers=['Tipo', 'Area', 'Skill'], tablefmt='latex', numalign='center', floatfmt=\".1f\", showindex=False))"
   ]
  },
  {
   "cell_type": "code",
   "execution_count": 97,
   "metadata": {
    "scrolled": true
   },
   "outputs": [
    {
     "name": "stdout",
     "output_type": "stream",
     "text": [
      "\\begin{tabular}{lllccc}\n",
      "\\hline\n",
      " Tipo                         & Area               & Skill                            &  id\\_func1  &  id\\_func2  &  id\\_func3  \\\\\n",
      "\\hline\n",
      " Competências Técnicas        & Gestão de Projetos & Gestão da Qualidade              &    3.5     &    3.5     &    1.0     \\\\\n",
      " Competências Técnicas        & Gestão de Projetos & Gestão de Cronograma             &    2.5     &    4.0     &    1.0     \\\\\n",
      " Competências Técnicas        & Gestão de Projetos & Gestão de Custos                 &    1.5     &    2.5     &    1.0     \\\\\n",
      " Competências Técnicas        & Gestão de Projetos & Gestão de Escopo                 &    3.0     &    4.0     &    1.0     \\\\\n",
      " Competências Técnicas        & Gestão de Projetos & Gestão de Métricas e indicadores &    2.5     &    4.0     &    1.2     \\\\\n",
      " Competências Técnicas        & Gestão de Projetos & Gestão de Pessoas                &    2.5     &    4.5     &    2.0     \\\\\n",
      " Competências Técnicas        & Gestão de Projetos & Gestão de Riscos                 &    3.0     &    4.0     &    1.5     \\\\\n",
      " Competências Técnicas        & Quality Assurance  & Análise de requisitos            &    4.0     &    4.2     &    3.0     \\\\\n",
      " Competências Técnicas        & Quality Assurance  & Automação de teste               &    2.1     &    3.5     &    3.0     \\\\\n",
      " Competências Técnicas        & Quality Assurance  & Behavior Driven Development      &    2.1     &    2.9     &    1.0     \\\\\n",
      " Competências Técnicas        & Quality Assurance  & Definição da estratégia de teste &    3.5     &    4.6     &    2.5     \\\\\n",
      " Competências Técnicas        & Quality Assurance  & Design de testes                 &    4.0     &    4.6     &    2.0     \\\\\n",
      " Competências Técnicas        & Quality Assurance  & EDA (Escaped Defect Analysis)    &    4.0     &    3.5     &    1.0     \\\\\n",
      " Ferramentas                  & -                  & Android Profiler                 &    1.0     &    1.0     &    1.5     \\\\\n",
      " Ferramentas                  & -                  & Android Studio                   &    2.0     &    1.0     &    3.0     \\\\\n",
      " Ferramentas                  & -                  & Appium                           &    2.1     &    3.0     &    2.0     \\\\\n",
      " Ferramentas                  & -                  & Artifactory                      &    1.0     &    2.5     &    1.0     \\\\\n",
      " Ferramentas                  & -                  & Automation Anywhere              &    2.0     &    1.0     &    1.0     \\\\\n",
      " Ferramentas                  & -                  & BEAT                             &    1.0     &    1.0     &    4.5     \\\\\n",
      " Linguagens de Programação    & -                  & .NET                             &    1.0     &    1.0     &    1.5     \\\\\n",
      " Linguagens de Programação    & -                  & Android                          &    2.0     &    1.0     &    1.5     \\\\\n",
      " Linguagens de Programação    & -                  & C\\#                               &    1.0     &    2.5     &    3.0     \\\\\n",
      " Linguagens de Programação    & -                  & Flutter                          &    1.0     &    1.0     &    1.0     \\\\\n",
      " Linguagens de Programação    & -                  & Java                             &    1.0     &    1.0     &    3.0     \\\\\n",
      " Linguagens de Programação    & -                  & Javascript                       &    1.0     &    1.0     &    3.0     \\\\\n",
      " Competências Comportamentais & -                  & Auto Confiança                   &    3.5     &    4.0     &    4.0     \\\\\n",
      " Competências Comportamentais & -                  & Capacidade Analitica             &    3.5     &    4.0     &    3.5     \\\\\n",
      " Competências Comportamentais & -                  & Coerencia                        &    4.0     &    4.0     &    4.0     \\\\\n",
      " Competências Comportamentais & -                  & Comunicação                      &    3.5     &    3.5     &    3.5     \\\\\n",
      " Competências Comportamentais & -                  & Criatividade                     &    3.5     &    3.5     &    3.2     \\\\\n",
      " Competências Comportamentais & -                  & Flexibilidade                    &    4.0     &    4.5     &    5.0     \\\\\n",
      "\\hline\n",
      "\\end{tabular}\n"
     ]
    }
   ],
   "source": [
    "# Retirando um trecho para exemplificar a matriz FotoSkills\n",
    "qry = pd.concat([FotoSkills.iloc[0:7], FotoSkills.iloc[9:15], FotoSkills.iloc[63:69], FotoSkills.iloc[113:119], FotoSkills.iloc[128:134]]).iloc[:,0:6]\n",
    "print(tabulate(qry, headers=qry.columns, tablefmt='latex', numalign='center', floatfmt=\".1f\", showindex=False))"
   ]
  },
  {
   "cell_type": "code",
   "execution_count": 98,
   "metadata": {
    "scrolled": true
   },
   "outputs": [
    {
     "name": "stdout",
     "output_type": "stream",
     "text": [
      "\\begin{tabular}{llllllll}\n",
      "\\hline\n",
      " Projeto   & Tipo                         & Area               & Skill                            & JR         & PL         & SR         & MS     \\\\\n",
      "\\hline\n",
      " Proj1     & Competências Técnicas        & Gestão de Projetos & Gestão de Cronograma             & Novato     & Praticante & Expert     & Expert \\\\\n",
      " Proj1     & Competências Técnicas        & Gestão de Projetos & Gestão de Custos                 & Leigo      & Leigo      & Grupo      & Grupo  \\\\\n",
      " Proj1     & Competências Técnicas        & Gestão de Projetos & Gestão de Riscos                 & Novato     & Praticante & Expert     & Expert \\\\\n",
      " Proj1     & Competências Técnicas        & Gestão de Projetos & Gestão de Stakeholders           & Leigo      & Novato     & Praticante & Expert \\\\\n",
      " Proj1     & Competências Técnicas        & Gestão de Projetos & Gestão de Pessoas                & Novato     & Praticante & Expert     & Expert \\\\\n",
      " Proj1     & Competências Técnicas        & Gestão de Projetos & Gestão de Métricas e indicadores & Grupo      & Praticante & Expert     & Expert \\\\\n",
      " Proj1     & Competências Técnicas        & Gestão de Projetos & Gestão de Escopo                 & Leigo      & Novato     & Expert     & Expert \\\\\n",
      " Proj1     & Competências Técnicas        & Quality Assurance  & Análise de requisitos            & Novato     & Praticante & Expert     & Expert \\\\\n",
      " Proj1     & Competências Técnicas        & Quality Assurance  & Automação de teste               & Praticante & Praticante & Expert     & Expert \\\\\n",
      " Proj1     & Competências Técnicas        & Quality Assurance  & Behavior Driven Development      & Grupo      & Grupo      & Grupo      & Grupo  \\\\\n",
      " Proj1     & Competências Técnicas        & Quality Assurance  & Definição da estratégia de teste & Novato     & Praticante & Expert     & Expert \\\\\n",
      " Proj1     & Competências Técnicas        & Quality Assurance  & Design de testes                 & Praticante & Praticante & Expert     & Expert \\\\\n",
      " Proj1     & Competências Técnicas        & Quality Assurance  & EDA (Escaped Defect Analysis)    & Praticante & Praticante & Expert     & Expert \\\\\n",
      " Proj1     & Linguagens de Programação    & -                  & C\\#                               & Grupo      & Grupo      & Grupo      & Grupo  \\\\\n",
      " Proj1     & Linguagens de Programação    & -                  & Java                             & Grupo      & Grupo      & Grupo      & Grupo  \\\\\n",
      " Proj1     & Linguagens de Programação    & -                  & Javascript                       & Grupo      & Grupo      & Grupo      & Grupo  \\\\\n",
      " Proj1     & Linguagens de Programação    & -                  & Python                           & Grupo      & Grupo      & Grupo      & Grupo  \\\\\n",
      " Proj1     & Linguagens de Programação    & -                  & SQL                              & Grupo      & Grupo      & Grupo      & Grupo  \\\\\n",
      " Proj1     & Linguagens de Programação    & -                  & VBA                              & Grupo      & Grupo      & Grupo      & Grupo  \\\\\n",
      " Proj1     & Ferramentas                  & -                  & Android Studio                   & Grupo      & Grupo      & Grupo      & Grupo  \\\\\n",
      " Proj1     & Ferramentas                  & -                  & Appium                           & Grupo      & Grupo      & Grupo      & Grupo  \\\\\n",
      " Proj1     & Ferramentas                  & -                  & Automation Anywhere              & Grupo      & Grupo      & Grupo      & Grupo  \\\\\n",
      " Proj1     & Ferramentas                  & -                  & BEAT                             & Praticante & Praticante & Expert     & Expert \\\\\n",
      " Proj1     & Ferramentas                  & -                  & CodeBeamer                       & Praticante & Praticante & Expert     & Expert \\\\\n",
      " Proj1     & Ferramentas                  & -                  & Confluence                       & Novato     & Praticante & Expert     & Expert \\\\\n",
      " Proj1     & Competências Comportamentais & -                  & Auto Confiança                   & Novato     & Praticante & Expert     & Expert \\\\\n",
      " Proj1     & Competências Comportamentais & -                  & Capacidade Analitica             & Novato     & Praticante & Expert     & Expert \\\\\n",
      " Proj1     & Competências Comportamentais & -                  & Coerencia                        & Novato     & Praticante & Expert     & Expert \\\\\n",
      " Proj1     & Competências Comportamentais & -                  & Coerencia                        & Praticante & Praticante & Expert     & Expert \\\\\n",
      " Proj1     & Competências Comportamentais & -                  & Criatividade                     & Novato     & Praticante & Expert     & Expert \\\\\n",
      " Proj1     & Competências Comportamentais & -                  & Flexibilidade                    & Praticante & Praticante & Expert     & Expert \\\\\n",
      "\\hline\n",
      "\\end{tabular}\n"
     ]
    }
   ],
   "source": [
    "# Retirando um trecho para exemplificar a matriz de demanda dos testers do projeto 1\n",
    "qry = pd.concat([DemandaSkillTesters.iloc[0:7], DemandaSkillTesters.iloc[9:15], DemandaSkillTesters.iloc[38:44], DemandaSkillTesters.iloc[44:50], DemandaSkillTesters.iloc[62:68]]).iloc[:,0:8]\n",
    "print(tabulate(qry, headers=qry.columns, tablefmt='latex', numalign='center', floatfmt=\".1f\", showindex=False))"
   ]
  },
  {
   "cell_type": "code",
   "execution_count": 99,
   "metadata": {
    "scrolled": true
   },
   "outputs": [
    {
     "name": "stdout",
     "output_type": "stream",
     "text": [
      "\\begin{tabular}{llllll}\n",
      "\\hline\n",
      " Tipo                         & Area               & Skill                            & Proj1      & Proj6      & Proj2      \\\\\n",
      "\\hline\n",
      " Competências Técnicas        & Gestão de Projetos & Gestão de Cronograma             & Praticante & Praticante & Praticante \\\\\n",
      " Competências Técnicas        & Gestão de Projetos & Gestão de Riscos                 & Praticante & Praticante & Praticante \\\\\n",
      " Competências Técnicas        & Gestão de Projetos & Gestão de Stakeholders           & Praticante & Praticante & Praticante \\\\\n",
      " Competências Técnicas        & Gestão de Projetos & Gestão de Pessoas                & Praticante & Praticante & Praticante \\\\\n",
      " Competências Técnicas        & Gestão de Projetos & Gestão de Métricas e indicadores & Praticante & Praticante & Praticante \\\\\n",
      " Competências Técnicas        & Gestão de Projetos & Gestão de Escopo                 & Praticante & Praticante & Praticante \\\\\n",
      " Competências Técnicas        & Gestão de Projetos & Gestão da Qualidade              & Praticante & Praticante & Praticante \\\\\n",
      " Competências Técnicas        & Quality Assurance  & Análise de requisitos            & Praticante & Praticante & Praticante \\\\\n",
      " Competências Técnicas        & Quality Assurance  & Automação de teste               & Praticante & Praticante & Praticante \\\\\n",
      " Competências Técnicas        & Quality Assurance  & Behavior Driven Development      & Grupo      & Grupo      & Grupo      \\\\\n",
      " Competências Técnicas        & Quality Assurance  & Teste de contrato                & Grupo      & Grupo      & Praticante \\\\\n",
      " Competências Técnicas        & Quality Assurance  & Definição da estratégia de teste & Expert     & Expert     & Expert     \\\\\n",
      " Competências Técnicas        & Quality Assurance  & Design de testes                 & Expert     & Expert     & Expert     \\\\\n",
      " Competências Técnicas        & Quality Assurance  & EDA (Escaped Defect Analysis)    & Expert     & Expert     & Expert     \\\\\n",
      " Competências Técnicas        & Quality Assurance  & Teste funcional                  & Praticante & Praticante & Praticante \\\\\n",
      " Competências Técnicas        & Quality Assurance  & Matriz de cobertura              & Expert     & Expert     & Expert     \\\\\n",
      " Competências Técnicas        & Quality Assurance  & Planejamento dos ciclos de teste & Expert     & Expert     & Expert     \\\\\n",
      " Competências Técnicas        & Quality Assurance  & Scripts de teste manual          & Expert     & Expert     & Expert     \\\\\n",
      " Competências Técnicas        & Quality Assurance  & Test Driven Development          & Grupo      & Grupo      & Grupo      \\\\\n",
      " Competências Técnicas        & Quality Assurance  & Teste Bluetooth                  & Grupo      & Grupo      & Grupo      \\\\\n",
      " Competências Técnicas        & Quality Assurance  & Teste de aceitação               & Expert     & Expert     & Expert     \\\\\n",
      " Ferramentas                  & -                  & Confluence                       & Expert     & Expert     & Expert     \\\\\n",
      " Ferramentas                  & -                  & DMZ                              & Expert     & Expert     & Expert     \\\\\n",
      " Ferramentas                  & -                  & Jira                             & Expert     & Expert     & Expert     \\\\\n",
      " Ferramentas                  & -                  & MS-Project                       & Praticante & Praticante & Praticante \\\\\n",
      " Ferramentas                  & -                  & PLM                              & Praticante & Praticante & Praticante \\\\\n",
      " Competências Comportamentais & -                  & Auto Confiança                   & Praticante & Praticante & Praticante \\\\\n",
      " Competências Comportamentais & -                  & Capacidade Analitica             & Praticante & Praticante & Praticante \\\\\n",
      " Competências Comportamentais & -                  & Coerencia                        & Praticante & Praticante & Praticante \\\\\n",
      " Competências Comportamentais & -                  & Comunicação                      & Praticante & Praticante & Praticante \\\\\n",
      " Competências Comportamentais & -                  & Criatividade                     & Praticante & Praticante & Praticante \\\\\n",
      " Competências Comportamentais & -                  & Flexibilidade                    & Praticante & Praticante & Praticante \\\\\n",
      " Competências Comportamentais & -                  & Foco                             & Praticante & Praticante & Praticante \\\\\n",
      "\\hline\n",
      "\\end{tabular}\n"
     ]
    }
   ],
   "source": [
    "# Retirando um trecho para exemplificar a matriz de demanda dos coordenadores\n",
    "qry = pd.concat([DemandaSkillCoord.iloc[0:7], DemandaSkillCoord.iloc[8:22], DemandaSkillCoord.iloc[62:67], DemandaSkillCoord.iloc[67:74]]).iloc[:,0:6]\n",
    "print(tabulate(qry, headers=qry.columns, tablefmt='latex', numalign='center', floatfmt=\".1f\", showindex=False))"
   ]
  },
  {
   "cell_type": "code",
   "execution_count": 100,
   "metadata": {
    "scrolled": false
   },
   "outputs": [
    {
     "name": "stdout",
     "output_type": "stream",
     "text": [
      "\\begin{tabular}{llll}\n",
      "\\hline\n",
      " ID        & Nome        & Senioridade   & Projeto   \\\\\n",
      "\\hline\n",
      " id\\_func1  & nome\\_func1  & SR            & Proj7     \\\\\n",
      " id\\_func2  & nome\\_func2  & SR            & Proj6     \\\\\n",
      " id\\_func3  & nome\\_func3  & JR            & Proj1     \\\\\n",
      " id\\_func4  & nome\\_func4  & JR            & Proj2     \\\\\n",
      " id\\_func5  & nome\\_func5  & JR            & Proj7     \\\\\n",
      " id\\_func6  & nome\\_func6  & ESTAG         & Proj1     \\\\\n",
      " id\\_func7  & nome\\_func7  & TR            & Proj6     \\\\\n",
      " id\\_func8  & nome\\_func8  & JR            & Proj6     \\\\\n",
      " id\\_func9  & nome\\_func9  & JR            & Proj7     \\\\\n",
      " id\\_func10 & nome\\_func10 & JR            & Proj1     \\\\\n",
      " id\\_func11 & nome\\_func11 & PL            & Proj6     \\\\\n",
      " id\\_func12 & nome\\_func12 & PL            & Proj7     \\\\\n",
      " id\\_func13 & nome\\_func13 & PL            & Proj7     \\\\\n",
      " id\\_func14 & nome\\_func14 & PL            & Proj6     \\\\\n",
      " id\\_func15 & nome\\_func15 & TR            & Proj1     \\\\\n",
      " id\\_func16 & nome\\_func16 & TR            & Proj1     \\\\\n",
      " id\\_func17 & nome\\_func17 & JR            & Proj1     \\\\\n",
      " id\\_func18 & nome\\_func18 & TR            & Proj1     \\\\\n",
      " id\\_func19 & nome\\_func19 & SR            & Proj3     \\\\\n",
      " id\\_func20 & nome\\_func20 & SR            & Proj6     \\\\\n",
      " id\\_func21 & nome\\_func21 & PL            & Proj1     \\\\\n",
      " id\\_func22 & nome\\_func22 & JR            & Proj1     \\\\\n",
      " id\\_func23 & nome\\_func23 & COOR          & Proj6     \\\\\n",
      " id\\_func24 & nome\\_func24 & JR            & Proj5     \\\\\n",
      " id\\_func25 & nome\\_func25 & JR            & Proj6     \\\\\n",
      " id\\_func26 & nome\\_func26 & TR            & Proj1     \\\\\n",
      " id\\_func27 & nome\\_func27 & JR            & Proj1     \\\\\n",
      " id\\_func28 & nome\\_func28 & COOR          & Proj7     \\\\\n",
      " id\\_func29 & nome\\_func29 & JR            & Proj1     \\\\\n",
      " id\\_func30 & nome\\_func30 & TR            & Proj6     \\\\\n",
      "\\hline\n",
      "\\end{tabular}\n"
     ]
    }
   ],
   "source": [
    "# Retirando um trecho para exemplificar a matriz de informação dos colaboradores\n",
    "qry = pd.concat([Testers.iloc[0:30]]).iloc[:,0:4]\n",
    "print(tabulate(qry, headers=qry.columns, tablefmt='latex', numalign='center', floatfmt=\".1f\", showindex=False))"
   ]
  },
  {
   "cell_type": "code",
   "execution_count": null,
   "metadata": {},
   "outputs": [],
   "source": [
    "\n",
    "    "
   ]
  }
 ],
 "metadata": {
  "kernelspec": {
   "display_name": "Python 3",
   "language": "python",
   "name": "python3"
  },
  "language_info": {
   "codemirror_mode": {
    "name": "ipython",
    "version": 3
   },
   "file_extension": ".py",
   "mimetype": "text/x-python",
   "name": "python",
   "nbconvert_exporter": "python",
   "pygments_lexer": "ipython3",
   "version": "3.7.7"
  }
 },
 "nbformat": 4,
 "nbformat_minor": 4
}
